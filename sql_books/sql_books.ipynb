{
 "cells": [
  {
   "cell_type": "markdown",
   "metadata": {},
   "source": [
    "# Анализ данных сервиса для чтения книг"
   ]
  },
  {
   "cell_type": "markdown",
   "metadata": {},
   "source": [
    "**Цель исследования:**   проанализировать базу данных сервис для чтения книг по подписке, собрать данные, которые помогут сформулировать ценностное предложение для нового продукта.\n",
    "    \n",
    "\n",
    "**Имеющиеся данные:** база данных с информацией о книгах, издательствах, авторах, а также пользовательские обзоры книг.\n",
    "\n",
    "**План работы:**\n",
    "\n",
    "- загрузка данных и изучение общей информации;\n",
    "- анализ данных;\n",
    "- выводы."
   ]
  },
  {
   "cell_type": "markdown",
   "metadata": {},
   "source": [
    "## Загрузка данных и изучение общей информации."
   ]
  },
  {
   "cell_type": "markdown",
   "metadata": {},
   "source": [
    "Импортируем библиотеки, получим доступ к базе данных, изучим имеющеся данные, выведем на экран первые строки таблиц."
   ]
  },
  {
   "cell_type": "markdown",
   "metadata": {},
   "source": [
    "### Загрузка данных"
   ]
  },
  {
   "cell_type": "code",
   "execution_count": 1,
   "metadata": {},
   "outputs": [],
   "source": [
    "# импортируем библиотеки\n",
    "import pandas as pd\n",
    "from sqlalchemy import text, create_engine\n"
   ]
  },
  {
   "cell_type": "code",
   "execution_count": 2,
   "metadata": {},
   "outputs": [],
   "source": [
    "# устанавливаем параметры\n",
    "db_config = {'user': 'praktikum_student', # имя пользователя\n",
    "'pwd': 'Sdf4$2;d-d30pp', # пароль\n",
    "'host': 'rc1b-wcoijxj3yxfsf3fs.mdb.yandexcloud.net',\n",
    "'port': 6432, # порт подключения\n",
    "'db': 'data-analyst-final-project-db'} # название базы данных\n",
    "connection_string = 'postgresql://{user}:{pwd}@{host}:{port}/{db}'.format(**db_config)\n",
    "# сохраняем коннектор\n",
    "engine = create_engine(connection_string, connect_args={'sslmode':'require'})"
   ]
  },
  {
   "cell_type": "markdown",
   "metadata": {},
   "source": [
    "### Изучение таблицы books"
   ]
  },
  {
   "cell_type": "markdown",
   "metadata": {},
   "source": [
    "Выведем первые строки таблицы books."
   ]
  },
  {
   "cell_type": "code",
   "execution_count": 3,
   "metadata": {},
   "outputs": [
    {
     "data": {
      "text/html": [
       "<div>\n",
       "<style scoped>\n",
       "    .dataframe tbody tr th:only-of-type {\n",
       "        vertical-align: middle;\n",
       "    }\n",
       "\n",
       "    .dataframe tbody tr th {\n",
       "        vertical-align: top;\n",
       "    }\n",
       "\n",
       "    .dataframe thead th {\n",
       "        text-align: right;\n",
       "    }\n",
       "</style>\n",
       "<table border=\"1\" class=\"dataframe\">\n",
       "  <thead>\n",
       "    <tr style=\"text-align: right;\">\n",
       "      <th></th>\n",
       "      <th>book_id</th>\n",
       "      <th>author_id</th>\n",
       "      <th>title</th>\n",
       "      <th>num_pages</th>\n",
       "      <th>publication_date</th>\n",
       "      <th>publisher_id</th>\n",
       "    </tr>\n",
       "  </thead>\n",
       "  <tbody>\n",
       "    <tr>\n",
       "      <th>0</th>\n",
       "      <td>1</td>\n",
       "      <td>546</td>\n",
       "      <td>'Salem's Lot</td>\n",
       "      <td>594</td>\n",
       "      <td>2005-11-01</td>\n",
       "      <td>93</td>\n",
       "    </tr>\n",
       "    <tr>\n",
       "      <th>1</th>\n",
       "      <td>2</td>\n",
       "      <td>465</td>\n",
       "      <td>1 000 Places to See Before You Die</td>\n",
       "      <td>992</td>\n",
       "      <td>2003-05-22</td>\n",
       "      <td>336</td>\n",
       "    </tr>\n",
       "    <tr>\n",
       "      <th>2</th>\n",
       "      <td>3</td>\n",
       "      <td>407</td>\n",
       "      <td>13 Little Blue Envelopes (Little Blue Envelope...</td>\n",
       "      <td>322</td>\n",
       "      <td>2010-12-21</td>\n",
       "      <td>135</td>\n",
       "    </tr>\n",
       "    <tr>\n",
       "      <th>3</th>\n",
       "      <td>4</td>\n",
       "      <td>82</td>\n",
       "      <td>1491: New Revelations of the Americas Before C...</td>\n",
       "      <td>541</td>\n",
       "      <td>2006-10-10</td>\n",
       "      <td>309</td>\n",
       "    </tr>\n",
       "    <tr>\n",
       "      <th>4</th>\n",
       "      <td>5</td>\n",
       "      <td>125</td>\n",
       "      <td>1776</td>\n",
       "      <td>386</td>\n",
       "      <td>2006-07-04</td>\n",
       "      <td>268</td>\n",
       "    </tr>\n",
       "  </tbody>\n",
       "</table>\n",
       "</div>"
      ],
      "text/plain": [
       "   book_id  author_id                                              title  \\\n",
       "0        1        546                                       'Salem's Lot   \n",
       "1        2        465                 1 000 Places to See Before You Die   \n",
       "2        3        407  13 Little Blue Envelopes (Little Blue Envelope...   \n",
       "3        4         82  1491: New Revelations of the Americas Before C...   \n",
       "4        5        125                                               1776   \n",
       "\n",
       "   num_pages publication_date  publisher_id  \n",
       "0        594       2005-11-01            93  \n",
       "1        992       2003-05-22           336  \n",
       "2        322       2010-12-21           135  \n",
       "3        541       2006-10-10           309  \n",
       "4        386       2006-07-04           268  "
      ]
     },
     "execution_count": 3,
     "metadata": {},
     "output_type": "execute_result"
    }
   ],
   "source": [
    "# чтобы выполнить SQL-запрос, используем Pandas\n",
    "query = '''SELECT * FROM books LIMIT 5'''\n",
    "con=engine.connect()\n",
    "pd.io.sql.read_sql(sql=text(query), con = con)"
   ]
  },
  {
   "cell_type": "markdown",
   "metadata": {},
   "source": [
    "Таблица books cодержит данные о книгах:\n",
    "- book_id — идентификатор книги;\n",
    "- author_id — идентификатор автора;\n",
    "- title — название книги;\n",
    "- num_pages — количество страниц;\n",
    "- publication_date — дата публикации книги;\n",
    "- publisher_id — идентификатор издателя.\n",
    "\n",
    "book_id - первичный ключ таблицы,а также внешний ключ к таблицам ratings и reviews.\n",
    "\n",
    "publisher_id - внешний ключ к таблице publishers.\n",
    "\n",
    "author_id - - внешний ключ к таблице authors.\n"
   ]
  },
  {
   "cell_type": "markdown",
   "metadata": {},
   "source": [
    "### Изучение таблицы authors"
   ]
  },
  {
   "cell_type": "markdown",
   "metadata": {},
   "source": [
    "Выведем первые строки таблицы authors."
   ]
  },
  {
   "cell_type": "code",
   "execution_count": 4,
   "metadata": {},
   "outputs": [
    {
     "data": {
      "text/html": [
       "<div>\n",
       "<style scoped>\n",
       "    .dataframe tbody tr th:only-of-type {\n",
       "        vertical-align: middle;\n",
       "    }\n",
       "\n",
       "    .dataframe tbody tr th {\n",
       "        vertical-align: top;\n",
       "    }\n",
       "\n",
       "    .dataframe thead th {\n",
       "        text-align: right;\n",
       "    }\n",
       "</style>\n",
       "<table border=\"1\" class=\"dataframe\">\n",
       "  <thead>\n",
       "    <tr style=\"text-align: right;\">\n",
       "      <th></th>\n",
       "      <th>author_id</th>\n",
       "      <th>author</th>\n",
       "    </tr>\n",
       "  </thead>\n",
       "  <tbody>\n",
       "    <tr>\n",
       "      <th>0</th>\n",
       "      <td>1</td>\n",
       "      <td>A.S. Byatt</td>\n",
       "    </tr>\n",
       "    <tr>\n",
       "      <th>1</th>\n",
       "      <td>2</td>\n",
       "      <td>Aesop/Laura Harris/Laura Gibbs</td>\n",
       "    </tr>\n",
       "    <tr>\n",
       "      <th>2</th>\n",
       "      <td>3</td>\n",
       "      <td>Agatha Christie</td>\n",
       "    </tr>\n",
       "    <tr>\n",
       "      <th>3</th>\n",
       "      <td>4</td>\n",
       "      <td>Alan Brennert</td>\n",
       "    </tr>\n",
       "    <tr>\n",
       "      <th>4</th>\n",
       "      <td>5</td>\n",
       "      <td>Alan Moore/David   Lloyd</td>\n",
       "    </tr>\n",
       "  </tbody>\n",
       "</table>\n",
       "</div>"
      ],
      "text/plain": [
       "   author_id                          author\n",
       "0          1                      A.S. Byatt\n",
       "1          2  Aesop/Laura Harris/Laura Gibbs\n",
       "2          3                 Agatha Christie\n",
       "3          4                   Alan Brennert\n",
       "4          5        Alan Moore/David   Lloyd"
      ]
     },
     "execution_count": 4,
     "metadata": {},
     "output_type": "execute_result"
    }
   ],
   "source": [
    "# чтобы выполнить SQL-запрос, используем Pandas\n",
    "query = '''SELECT * FROM authors LIMIT 5'''\n",
    "con=engine.connect()\n",
    "pd.io.sql.read_sql(sql=text(query), con = con)"
   ]
  },
  {
   "cell_type": "code",
   "execution_count": null,
   "metadata": {},
   "outputs": [],
   "source": []
  },
  {
   "cell_type": "markdown",
   "metadata": {},
   "source": [
    "Таблица authors cодержит данные об авторах:\n",
    "- author_id — идентификатор автора;\n",
    "- author — имя автора.\n",
    "\n",
    "author_id - первичный ключ таблицы,а также внешний ключ к таблице books"
   ]
  },
  {
   "cell_type": "markdown",
   "metadata": {},
   "source": [
    "### Изучение таблицы publishers"
   ]
  },
  {
   "cell_type": "markdown",
   "metadata": {},
   "source": [
    "Выведем первые строки таблицы publishers."
   ]
  },
  {
   "cell_type": "code",
   "execution_count": 5,
   "metadata": {},
   "outputs": [
    {
     "data": {
      "text/html": [
       "<div>\n",
       "<style scoped>\n",
       "    .dataframe tbody tr th:only-of-type {\n",
       "        vertical-align: middle;\n",
       "    }\n",
       "\n",
       "    .dataframe tbody tr th {\n",
       "        vertical-align: top;\n",
       "    }\n",
       "\n",
       "    .dataframe thead th {\n",
       "        text-align: right;\n",
       "    }\n",
       "</style>\n",
       "<table border=\"1\" class=\"dataframe\">\n",
       "  <thead>\n",
       "    <tr style=\"text-align: right;\">\n",
       "      <th></th>\n",
       "      <th>publisher_id</th>\n",
       "      <th>publisher</th>\n",
       "    </tr>\n",
       "  </thead>\n",
       "  <tbody>\n",
       "    <tr>\n",
       "      <th>0</th>\n",
       "      <td>1</td>\n",
       "      <td>Ace</td>\n",
       "    </tr>\n",
       "    <tr>\n",
       "      <th>1</th>\n",
       "      <td>2</td>\n",
       "      <td>Ace Book</td>\n",
       "    </tr>\n",
       "    <tr>\n",
       "      <th>2</th>\n",
       "      <td>3</td>\n",
       "      <td>Ace Books</td>\n",
       "    </tr>\n",
       "    <tr>\n",
       "      <th>3</th>\n",
       "      <td>4</td>\n",
       "      <td>Ace Hardcover</td>\n",
       "    </tr>\n",
       "    <tr>\n",
       "      <th>4</th>\n",
       "      <td>5</td>\n",
       "      <td>Addison Wesley Publishing Company</td>\n",
       "    </tr>\n",
       "  </tbody>\n",
       "</table>\n",
       "</div>"
      ],
      "text/plain": [
       "   publisher_id                          publisher\n",
       "0             1                                Ace\n",
       "1             2                           Ace Book\n",
       "2             3                          Ace Books\n",
       "3             4                      Ace Hardcover\n",
       "4             5  Addison Wesley Publishing Company"
      ]
     },
     "execution_count": 5,
     "metadata": {},
     "output_type": "execute_result"
    }
   ],
   "source": [
    "# чтобы выполнить SQL-запрос, используем Pandas\n",
    "query = '''SELECT * FROM publishers LIMIT 5'''\n",
    "con=engine.connect()\n",
    "pd.io.sql.read_sql(sql=text(query), con = con)"
   ]
  },
  {
   "cell_type": "markdown",
   "metadata": {},
   "source": [
    "Таблица publishers содержит данные об издательствах:\n",
    "- publisher_id — идентификатор издательства;\n",
    "- publisher — название издательства;\n",
    "\n",
    "publisher_id - первичный ключ таблицы,а также внешний ключ к таблице books"
   ]
  },
  {
   "cell_type": "markdown",
   "metadata": {},
   "source": [
    "### Изучение таблицы ratings"
   ]
  },
  {
   "cell_type": "markdown",
   "metadata": {},
   "source": [
    "Выведем первые строки таблицы ratings."
   ]
  },
  {
   "cell_type": "code",
   "execution_count": 6,
   "metadata": {},
   "outputs": [
    {
     "data": {
      "text/html": [
       "<div>\n",
       "<style scoped>\n",
       "    .dataframe tbody tr th:only-of-type {\n",
       "        vertical-align: middle;\n",
       "    }\n",
       "\n",
       "    .dataframe tbody tr th {\n",
       "        vertical-align: top;\n",
       "    }\n",
       "\n",
       "    .dataframe thead th {\n",
       "        text-align: right;\n",
       "    }\n",
       "</style>\n",
       "<table border=\"1\" class=\"dataframe\">\n",
       "  <thead>\n",
       "    <tr style=\"text-align: right;\">\n",
       "      <th></th>\n",
       "      <th>rating_id</th>\n",
       "      <th>book_id</th>\n",
       "      <th>username</th>\n",
       "      <th>rating</th>\n",
       "    </tr>\n",
       "  </thead>\n",
       "  <tbody>\n",
       "    <tr>\n",
       "      <th>0</th>\n",
       "      <td>1</td>\n",
       "      <td>1</td>\n",
       "      <td>ryanfranco</td>\n",
       "      <td>4</td>\n",
       "    </tr>\n",
       "    <tr>\n",
       "      <th>1</th>\n",
       "      <td>2</td>\n",
       "      <td>1</td>\n",
       "      <td>grantpatricia</td>\n",
       "      <td>2</td>\n",
       "    </tr>\n",
       "    <tr>\n",
       "      <th>2</th>\n",
       "      <td>3</td>\n",
       "      <td>1</td>\n",
       "      <td>brandtandrea</td>\n",
       "      <td>5</td>\n",
       "    </tr>\n",
       "    <tr>\n",
       "      <th>3</th>\n",
       "      <td>4</td>\n",
       "      <td>2</td>\n",
       "      <td>lorichen</td>\n",
       "      <td>3</td>\n",
       "    </tr>\n",
       "    <tr>\n",
       "      <th>4</th>\n",
       "      <td>5</td>\n",
       "      <td>2</td>\n",
       "      <td>mariokeller</td>\n",
       "      <td>2</td>\n",
       "    </tr>\n",
       "  </tbody>\n",
       "</table>\n",
       "</div>"
      ],
      "text/plain": [
       "   rating_id  book_id       username  rating\n",
       "0          1        1     ryanfranco       4\n",
       "1          2        1  grantpatricia       2\n",
       "2          3        1   brandtandrea       5\n",
       "3          4        2       lorichen       3\n",
       "4          5        2    mariokeller       2"
      ]
     },
     "execution_count": 6,
     "metadata": {},
     "output_type": "execute_result"
    }
   ],
   "source": [
    "# чтобы выполнить SQL-запрос, используем Pandas\n",
    "query = '''SELECT * FROM ratings LIMIT 5'''\n",
    "con=engine.connect()\n",
    "pd.io.sql.read_sql(sql=text(query), con = con)"
   ]
  },
  {
   "cell_type": "markdown",
   "metadata": {},
   "source": [
    "Таблица ratings содержит данные о пользовательских оценках книг:\n",
    "- rating_id — идентификатор оценки;\n",
    "- book_id — идентификатор книги;\n",
    "- username — имя пользователя, оставившего оценку;\n",
    "- rating — оценка книги.\n",
    "\n",
    "rating_id - первичный ключ таблицы\n",
    "\n",
    "book_id - внешний ключ к таблице books"
   ]
  },
  {
   "cell_type": "markdown",
   "metadata": {},
   "source": [
    "### Изучение таблицы reviews"
   ]
  },
  {
   "cell_type": "markdown",
   "metadata": {},
   "source": [
    "Выведем первые строки таблицы reviews."
   ]
  },
  {
   "cell_type": "code",
   "execution_count": 7,
   "metadata": {},
   "outputs": [
    {
     "data": {
      "text/html": [
       "<div>\n",
       "<style scoped>\n",
       "    .dataframe tbody tr th:only-of-type {\n",
       "        vertical-align: middle;\n",
       "    }\n",
       "\n",
       "    .dataframe tbody tr th {\n",
       "        vertical-align: top;\n",
       "    }\n",
       "\n",
       "    .dataframe thead th {\n",
       "        text-align: right;\n",
       "    }\n",
       "</style>\n",
       "<table border=\"1\" class=\"dataframe\">\n",
       "  <thead>\n",
       "    <tr style=\"text-align: right;\">\n",
       "      <th></th>\n",
       "      <th>review_id</th>\n",
       "      <th>book_id</th>\n",
       "      <th>username</th>\n",
       "      <th>text</th>\n",
       "    </tr>\n",
       "  </thead>\n",
       "  <tbody>\n",
       "    <tr>\n",
       "      <th>0</th>\n",
       "      <td>1</td>\n",
       "      <td>1</td>\n",
       "      <td>brandtandrea</td>\n",
       "      <td>Mention society tell send professor analysis. ...</td>\n",
       "    </tr>\n",
       "    <tr>\n",
       "      <th>1</th>\n",
       "      <td>2</td>\n",
       "      <td>1</td>\n",
       "      <td>ryanfranco</td>\n",
       "      <td>Foot glass pretty audience hit themselves. Amo...</td>\n",
       "    </tr>\n",
       "    <tr>\n",
       "      <th>2</th>\n",
       "      <td>3</td>\n",
       "      <td>2</td>\n",
       "      <td>lorichen</td>\n",
       "      <td>Listen treat keep worry. Miss husband tax but ...</td>\n",
       "    </tr>\n",
       "    <tr>\n",
       "      <th>3</th>\n",
       "      <td>4</td>\n",
       "      <td>3</td>\n",
       "      <td>johnsonamanda</td>\n",
       "      <td>Finally month interesting blue could nature cu...</td>\n",
       "    </tr>\n",
       "    <tr>\n",
       "      <th>4</th>\n",
       "      <td>5</td>\n",
       "      <td>3</td>\n",
       "      <td>scotttamara</td>\n",
       "      <td>Nation purpose heavy give wait song will. List...</td>\n",
       "    </tr>\n",
       "  </tbody>\n",
       "</table>\n",
       "</div>"
      ],
      "text/plain": [
       "   review_id  book_id       username  \\\n",
       "0          1        1   brandtandrea   \n",
       "1          2        1     ryanfranco   \n",
       "2          3        2       lorichen   \n",
       "3          4        3  johnsonamanda   \n",
       "4          5        3    scotttamara   \n",
       "\n",
       "                                                text  \n",
       "0  Mention society tell send professor analysis. ...  \n",
       "1  Foot glass pretty audience hit themselves. Amo...  \n",
       "2  Listen treat keep worry. Miss husband tax but ...  \n",
       "3  Finally month interesting blue could nature cu...  \n",
       "4  Nation purpose heavy give wait song will. List...  "
      ]
     },
     "execution_count": 7,
     "metadata": {},
     "output_type": "execute_result"
    }
   ],
   "source": [
    "# чтобы выполнить SQL-запрос, используем Pandas\n",
    "query = '''SELECT * FROM reviews LIMIT 5'''\n",
    "con=engine.connect()\n",
    "pd.io.sql.read_sql(sql=text(query), con = con)"
   ]
  },
  {
   "cell_type": "markdown",
   "metadata": {},
   "source": [
    "Таблица reviews cодержит данные о пользовательских обзорах:\n",
    "- review_id — идентификатор обзора;\n",
    "- book_id — идентификатор книги;\n",
    "- username — имя автора обзора;\n",
    "- text — текст обзора.\n",
    "\n",
    "\n",
    "review_id - первичный ключ таблицы\n",
    "\n",
    "book_id - внешний ключ к таблице books"
   ]
  },
  {
   "cell_type": "markdown",
   "metadata": {},
   "source": [
    "## Анализ данных"
   ]
  },
  {
   "cell_type": "markdown",
   "metadata": {},
   "source": [
    "Посчитаем количество вышедших книг, количество обзоров и среднюю оценку. Определим  издательство, выпустивышее наибольшее число кинг. Определим автора с самой высокой средней оценкой книг. Посчитаем среднее число обзоров активных пользователей."
   ]
  },
  {
   "cell_type": "markdown",
   "metadata": {},
   "source": [
    "### Количество книг, выпущенных после 1 января 2000 года."
   ]
  },
  {
   "cell_type": "markdown",
   "metadata": {},
   "source": [
    "Посчитаем общее количество книг, вышедших после 1 января 2000 года."
   ]
  },
  {
   "cell_type": "code",
   "execution_count": 8,
   "metadata": {},
   "outputs": [
    {
     "data": {
      "text/html": [
       "<div>\n",
       "<style scoped>\n",
       "    .dataframe tbody tr th:only-of-type {\n",
       "        vertical-align: middle;\n",
       "    }\n",
       "\n",
       "    .dataframe tbody tr th {\n",
       "        vertical-align: top;\n",
       "    }\n",
       "\n",
       "    .dataframe thead th {\n",
       "        text-align: right;\n",
       "    }\n",
       "</style>\n",
       "<table border=\"1\" class=\"dataframe\">\n",
       "  <thead>\n",
       "    <tr style=\"text-align: right;\">\n",
       "      <th></th>\n",
       "      <th>число_книг</th>\n",
       "    </tr>\n",
       "  </thead>\n",
       "  <tbody>\n",
       "    <tr>\n",
       "      <th>0</th>\n",
       "      <td>819</td>\n",
       "    </tr>\n",
       "  </tbody>\n",
       "</table>\n",
       "</div>"
      ],
      "text/plain": [
       "   число_книг\n",
       "0         819"
      ]
     },
     "execution_count": 8,
     "metadata": {},
     "output_type": "execute_result"
    }
   ],
   "source": [
    "# чтобы выполнить SQL-запрос, используем Pandas\n",
    "query = '''\n",
    "SELECT COUNT (book_id) AS число_книг\n",
    "FROM books \n",
    "WHERE publication_date > '2000-01-01' '''\n",
    "\n",
    "con=engine.connect()\n",
    "pd.io.sql.read_sql(sql=text(query), con = con)"
   ]
  },
  {
   "cell_type": "markdown",
   "metadata": {},
   "source": [
    "После 1 января 2000 года было выпущено 819 книг."
   ]
  },
  {
   "cell_type": "markdown",
   "metadata": {},
   "source": [
    "### Количество обзоров и средняя оценка."
   ]
  },
  {
   "cell_type": "markdown",
   "metadata": {},
   "source": [
    "Для каждой книги посчитаем количество обзоров и среднюю оценку."
   ]
  },
  {
   "cell_type": "code",
   "execution_count": 9,
   "metadata": {
    "scrolled": false
   },
   "outputs": [
    {
     "data": {
      "text/html": [
       "<div>\n",
       "<style scoped>\n",
       "    .dataframe tbody tr th:only-of-type {\n",
       "        vertical-align: middle;\n",
       "    }\n",
       "\n",
       "    .dataframe tbody tr th {\n",
       "        vertical-align: top;\n",
       "    }\n",
       "\n",
       "    .dataframe thead th {\n",
       "        text-align: right;\n",
       "    }\n",
       "</style>\n",
       "<table border=\"1\" class=\"dataframe\">\n",
       "  <thead>\n",
       "    <tr style=\"text-align: right;\">\n",
       "      <th></th>\n",
       "      <th>title</th>\n",
       "      <th>count_review</th>\n",
       "      <th>avg_rating</th>\n",
       "    </tr>\n",
       "  </thead>\n",
       "  <tbody>\n",
       "    <tr>\n",
       "      <th>0</th>\n",
       "      <td>Twilight (Twilight  #1)</td>\n",
       "      <td>7</td>\n",
       "      <td>3.662500</td>\n",
       "    </tr>\n",
       "    <tr>\n",
       "      <th>1</th>\n",
       "      <td>Water for Elephants</td>\n",
       "      <td>6</td>\n",
       "      <td>3.977273</td>\n",
       "    </tr>\n",
       "    <tr>\n",
       "      <th>2</th>\n",
       "      <td>The Glass Castle</td>\n",
       "      <td>6</td>\n",
       "      <td>4.206897</td>\n",
       "    </tr>\n",
       "    <tr>\n",
       "      <th>3</th>\n",
       "      <td>Harry Potter and the Prisoner of Azkaban (Harr...</td>\n",
       "      <td>6</td>\n",
       "      <td>4.414634</td>\n",
       "    </tr>\n",
       "    <tr>\n",
       "      <th>4</th>\n",
       "      <td>The Curious Incident of the Dog in the Night-Time</td>\n",
       "      <td>6</td>\n",
       "      <td>4.081081</td>\n",
       "    </tr>\n",
       "    <tr>\n",
       "      <th>...</th>\n",
       "      <td>...</td>\n",
       "      <td>...</td>\n",
       "      <td>...</td>\n",
       "    </tr>\n",
       "    <tr>\n",
       "      <th>995</th>\n",
       "      <td>Anne Rice's The Vampire Lestat: A Graphic Novel</td>\n",
       "      <td>0</td>\n",
       "      <td>3.666667</td>\n",
       "    </tr>\n",
       "    <tr>\n",
       "      <th>996</th>\n",
       "      <td>The Natural Way to Draw</td>\n",
       "      <td>0</td>\n",
       "      <td>3.000000</td>\n",
       "    </tr>\n",
       "    <tr>\n",
       "      <th>997</th>\n",
       "      <td>The Cat in the Hat and Other Dr. Seuss Favorites</td>\n",
       "      <td>0</td>\n",
       "      <td>5.000000</td>\n",
       "    </tr>\n",
       "    <tr>\n",
       "      <th>998</th>\n",
       "      <td>Essential Tales and Poems</td>\n",
       "      <td>0</td>\n",
       "      <td>4.000000</td>\n",
       "    </tr>\n",
       "    <tr>\n",
       "      <th>999</th>\n",
       "      <td>Disney's Beauty and the Beast (A Little Golden...</td>\n",
       "      <td>0</td>\n",
       "      <td>4.000000</td>\n",
       "    </tr>\n",
       "  </tbody>\n",
       "</table>\n",
       "<p>1000 rows × 3 columns</p>\n",
       "</div>"
      ],
      "text/plain": [
       "                                                 title  count_review  \\\n",
       "0                              Twilight (Twilight  #1)             7   \n",
       "1                                  Water for Elephants             6   \n",
       "2                                     The Glass Castle             6   \n",
       "3    Harry Potter and the Prisoner of Azkaban (Harr...             6   \n",
       "4    The Curious Incident of the Dog in the Night-Time             6   \n",
       "..                                                 ...           ...   \n",
       "995    Anne Rice's The Vampire Lestat: A Graphic Novel             0   \n",
       "996                            The Natural Way to Draw             0   \n",
       "997   The Cat in the Hat and Other Dr. Seuss Favorites             0   \n",
       "998                          Essential Tales and Poems             0   \n",
       "999  Disney's Beauty and the Beast (A Little Golden...             0   \n",
       "\n",
       "     avg_rating  \n",
       "0      3.662500  \n",
       "1      3.977273  \n",
       "2      4.206897  \n",
       "3      4.414634  \n",
       "4      4.081081  \n",
       "..          ...  \n",
       "995    3.666667  \n",
       "996    3.000000  \n",
       "997    5.000000  \n",
       "998    4.000000  \n",
       "999    4.000000  \n",
       "\n",
       "[1000 rows x 3 columns]"
      ]
     },
     "execution_count": 9,
     "metadata": {},
     "output_type": "execute_result"
    }
   ],
   "source": [
    "# чтобы выполнить SQL-запрос, используем Pandas\n",
    "query = '''\n",
    "SELECT b.title,\n",
    "        COUNT(DISTINCT rw.review_id) AS count_review,\n",
    "        AVG(rt.rating) AS avg_rating\n",
    "FROM books AS b\n",
    "LEFT JOIN reviews AS rw ON b.book_id = rw.book_id\n",
    "LEFT JOIN ratings AS rt ON b.book_id = rt.book_id\n",
    "GROUP BY b.book_id \n",
    "ORDER BY count_review DESC'''\n",
    "\n",
    "con=engine.connect()\n",
    "pd.io.sql.read_sql(sql=text(query), con = con)"
   ]
  },
  {
   "cell_type": "markdown",
   "metadata": {},
   "source": [
    "По каждой книге было посчитано количество обзоров - count_review и средний рейтинг - avg_rating "
   ]
  },
  {
   "cell_type": "markdown",
   "metadata": {},
   "source": [
    "### Издательство, с наибольшим числом книг "
   ]
  },
  {
   "cell_type": "markdown",
   "metadata": {},
   "source": [
    "Определим издательство, которое выпустило наибольшее число книг толще 50 страниц (исключить из анализа брошюры)."
   ]
  },
  {
   "cell_type": "code",
   "execution_count": 10,
   "metadata": {},
   "outputs": [
    {
     "data": {
      "text/html": [
       "<div>\n",
       "<style scoped>\n",
       "    .dataframe tbody tr th:only-of-type {\n",
       "        vertical-align: middle;\n",
       "    }\n",
       "\n",
       "    .dataframe tbody tr th {\n",
       "        vertical-align: top;\n",
       "    }\n",
       "\n",
       "    .dataframe thead th {\n",
       "        text-align: right;\n",
       "    }\n",
       "</style>\n",
       "<table border=\"1\" class=\"dataframe\">\n",
       "  <thead>\n",
       "    <tr style=\"text-align: right;\">\n",
       "      <th></th>\n",
       "      <th>publisher</th>\n",
       "      <th>book_count</th>\n",
       "    </tr>\n",
       "  </thead>\n",
       "  <tbody>\n",
       "    <tr>\n",
       "      <th>0</th>\n",
       "      <td>Penguin Books</td>\n",
       "      <td>42</td>\n",
       "    </tr>\n",
       "  </tbody>\n",
       "</table>\n",
       "</div>"
      ],
      "text/plain": [
       "       publisher  book_count\n",
       "0  Penguin Books          42"
      ]
     },
     "execution_count": 10,
     "metadata": {},
     "output_type": "execute_result"
    }
   ],
   "source": [
    "# чтобы выполнить SQL-запрос, используем Pandas\n",
    "\n",
    "query = '''\n",
    "WITH b AS (SELECT publisher_id,\n",
    "                COUNT(book_id) AS book_count\n",
    "            FROM books\n",
    "            WHERE num_pages > 50\n",
    "            GROUP BY publisher_id)       \n",
    "SELECT publisher,\n",
    "        book_count\n",
    "FROM b \n",
    "LEFT JOIN publishers AS p ON b.publisher_id = p.publisher_id\n",
    "WHERE book_count = (SELECT MAX(book_count)\n",
    "                    FROM b)'''\n",
    "\n",
    "con=engine.connect()\n",
    "pd.io.sql.read_sql(sql=text(query), con = con)"
   ]
  },
  {
   "cell_type": "markdown",
   "metadata": {},
   "source": [
    "Издательство, которое выпустило наибольшее число книг толще 50 страниц - Penguin Books, число выпущенных книг - 42."
   ]
  },
  {
   "cell_type": "markdown",
   "metadata": {},
   "source": [
    "###  Автор с самой высокой средней оценкой книг"
   ]
  },
  {
   "cell_type": "markdown",
   "metadata": {},
   "source": [
    "Определим автора с самой высокой средней оценкой книг, учитывая только книги с 50 и более оценками."
   ]
  },
  {
   "cell_type": "code",
   "execution_count": 11,
   "metadata": {
    "scrolled": true
   },
   "outputs": [
    {
     "data": {
      "text/html": [
       "<div>\n",
       "<style scoped>\n",
       "    .dataframe tbody tr th:only-of-type {\n",
       "        vertical-align: middle;\n",
       "    }\n",
       "\n",
       "    .dataframe tbody tr th {\n",
       "        vertical-align: top;\n",
       "    }\n",
       "\n",
       "    .dataframe thead th {\n",
       "        text-align: right;\n",
       "    }\n",
       "</style>\n",
       "<table border=\"1\" class=\"dataframe\">\n",
       "  <thead>\n",
       "    <tr style=\"text-align: right;\">\n",
       "      <th></th>\n",
       "      <th>author</th>\n",
       "      <th>avg_rating</th>\n",
       "    </tr>\n",
       "  </thead>\n",
       "  <tbody>\n",
       "    <tr>\n",
       "      <th>0</th>\n",
       "      <td>J.K. Rowling/Mary GrandPré</td>\n",
       "      <td>4.287097</td>\n",
       "    </tr>\n",
       "  </tbody>\n",
       "</table>\n",
       "</div>"
      ],
      "text/plain": [
       "                       author  avg_rating\n",
       "0  J.K. Rowling/Mary GrandPré    4.287097"
      ]
     },
     "execution_count": 11,
     "metadata": {},
     "output_type": "execute_result"
    }
   ],
   "source": [
    "query = '''\n",
    "WITH br AS (SELECT b.book_id,\n",
    "                    b.author_id\n",
    "            FROM books AS b\n",
    "            LEFT JOIN ratings AS r ON b.book_id = r.book_id\n",
    "            GROUP BY b.book_id\n",
    "            HAVING COUNT(r.rating) >= 50)       \n",
    "SELECT a.author,\n",
    "        AVG(r.rating) AS avg_rating\n",
    "FROM br\n",
    "LEFT JOIN ratings AS r ON br.book_id = r.book_id\n",
    "LEFT JOIN authors AS a ON br.author_id = a.author_id\n",
    "GROUP BY author\n",
    "ORDER BY avg_rating DESC\n",
    "LIMIT 1'''\n",
    "\n",
    "con=engine.connect()\n",
    "pd.io.sql.read_sql(sql=text(query), con = con)"
   ]
  },
  {
   "cell_type": "markdown",
   "metadata": {},
   "source": [
    "Автор с самой высокой средней оценкой (учитывая только книги с 50 и более оценками) -  J.K. Rowling/Mary GrandPré, средняя оценка 4,28."
   ]
  },
  {
   "cell_type": "markdown",
   "metadata": {},
   "source": [
    "###  Cреднее количество обзоров от пользователей"
   ]
  },
  {
   "cell_type": "markdown",
   "metadata": {},
   "source": [
    "Посчитайте среднее количество обзоров от пользователей, которые поставили больше 48 оценок."
   ]
  },
  {
   "cell_type": "code",
   "execution_count": 12,
   "metadata": {},
   "outputs": [
    {
     "data": {
      "text/html": [
       "<div>\n",
       "<style scoped>\n",
       "    .dataframe tbody tr th:only-of-type {\n",
       "        vertical-align: middle;\n",
       "    }\n",
       "\n",
       "    .dataframe tbody tr th {\n",
       "        vertical-align: top;\n",
       "    }\n",
       "\n",
       "    .dataframe thead th {\n",
       "        text-align: right;\n",
       "    }\n",
       "</style>\n",
       "<table border=\"1\" class=\"dataframe\">\n",
       "  <thead>\n",
       "    <tr style=\"text-align: right;\">\n",
       "      <th></th>\n",
       "      <th>avg_reviews</th>\n",
       "    </tr>\n",
       "  </thead>\n",
       "  <tbody>\n",
       "    <tr>\n",
       "      <th>0</th>\n",
       "      <td>24.0</td>\n",
       "    </tr>\n",
       "  </tbody>\n",
       "</table>\n",
       "</div>"
      ],
      "text/plain": [
       "   avg_reviews\n",
       "0         24.0"
      ]
     },
     "execution_count": 12,
     "metadata": {},
     "output_type": "execute_result"
    }
   ],
   "source": [
    "query = '''\n",
    "WITH rt AS (SELECT username   \n",
    "            FROM ratings\n",
    "            GROUP BY username\n",
    "            HAVING COUNT(rating) > 48)       \n",
    "\n",
    "SELECT AVG(count_reviews) AS avg_reviews\n",
    "FROM (SELECT rt.username,\n",
    "        COUNT (review_id) AS count_reviews\n",
    "        FROM rt\n",
    "        LEFT JOIN reviews AS rw ON rt.username = rw.username\n",
    "        GROUP BY rt.username) AS u\n",
    "'''\n",
    "\n",
    "con=engine.connect()\n",
    "pd.io.sql.read_sql(sql=text(query), con = con)"
   ]
  },
  {
   "cell_type": "markdown",
   "metadata": {},
   "source": [
    "Среднее количество обзоров от пользователей, которые поставили больше 48 оценок - 24 обзора."
   ]
  },
  {
   "cell_type": "markdown",
   "metadata": {},
   "source": [
    "## Вывод"
   ]
  },
  {
   "cell_type": "markdown",
   "metadata": {},
   "source": [
    "Нами был проведен **анализ данных сервиса для чтения книг.**\n",
    "\n",
    "**Цель исследования:**   проанализировать базу данных сервис для чтения книг по подписке, собрать данные, которые помогут сформулировать ценностное предложение для нового продукта.\n",
    "    \n",
    "\n",
    "**Имеющиеся данные:** база данных с информацией о книгах, издательствах, авторах, а также пользовательские обзоры книг.\n",
    "\n",
    "В результате анализа выявлено:\n",
    "\n",
    "- количество книг, выпущенных после 1 января 2000 года -  819 книг\n",
    "- по каждой книге было посчитано количество обзоров - count_review и средний рейтинг - avg_rating \n",
    "- издательство, выпустившее наибольшее число книг толще 50 страниц - Penguin Books.\n",
    "- автор с самой высокой средней оценкой (кучитывая только книги с 50 и более оценками) - J.K. Rowling/Mary GrandPré, средняя оценка 4,28.\n",
    "- среднее количество обзоров от пользователей, которые поставили больше 48 оценок - 24 обзора"
   ]
  }
 ],
 "metadata": {
  "ExecuteTimeLog": [
   {
    "duration": 6811,
    "start_time": "2024-07-01T07:05:00.887Z"
   },
   {
    "duration": 48,
    "start_time": "2024-07-01T07:05:54.676Z"
   },
   {
    "duration": 50,
    "start_time": "2024-07-01T07:12:41.456Z"
   },
   {
    "duration": 11,
    "start_time": "2024-07-01T07:16:40.478Z"
   },
   {
    "duration": 11,
    "start_time": "2024-07-01T07:18:41.124Z"
   },
   {
    "duration": 12,
    "start_time": "2024-07-01T07:21:07.928Z"
   },
   {
    "duration": 4,
    "start_time": "2024-07-01T07:22:18.561Z"
   },
   {
    "duration": 56,
    "start_time": "2024-07-01T07:22:18.569Z"
   },
   {
    "duration": 28,
    "start_time": "2024-07-01T07:22:18.626Z"
   },
   {
    "duration": 9,
    "start_time": "2024-07-01T07:22:18.655Z"
   },
   {
    "duration": 17,
    "start_time": "2024-07-01T07:22:18.666Z"
   },
   {
    "duration": 10,
    "start_time": "2024-07-01T07:22:18.687Z"
   },
   {
    "duration": 58,
    "start_time": "2024-07-01T07:32:06.478Z"
   },
   {
    "duration": 2,
    "start_time": "2024-07-01T07:32:17.256Z"
   },
   {
    "duration": 9,
    "start_time": "2024-07-01T07:32:20.810Z"
   },
   {
    "duration": 2,
    "start_time": "2024-07-01T07:32:35.060Z"
   },
   {
    "duration": 10,
    "start_time": "2024-07-01T07:32:37.302Z"
   },
   {
    "duration": 10,
    "start_time": "2024-07-01T07:34:20.773Z"
   },
   {
    "duration": 4,
    "start_time": "2024-07-01T07:39:29.148Z"
   },
   {
    "duration": 81,
    "start_time": "2024-07-01T07:39:46.931Z"
   },
   {
    "duration": 3,
    "start_time": "2024-07-01T07:40:44.315Z"
   },
   {
    "duration": 6,
    "start_time": "2024-07-01T07:40:57.264Z"
   },
   {
    "duration": 6,
    "start_time": "2024-07-01T07:41:07.700Z"
   },
   {
    "duration": 4,
    "start_time": "2024-07-01T07:41:15.389Z"
   },
   {
    "duration": 4,
    "start_time": "2024-07-01T07:41:18.193Z"
   },
   {
    "duration": 6,
    "start_time": "2024-07-01T07:41:41.540Z"
   },
   {
    "duration": 47,
    "start_time": "2024-07-01T07:42:40.426Z"
   },
   {
    "duration": 95,
    "start_time": "2024-07-01T07:43:17.123Z"
   },
   {
    "duration": 65,
    "start_time": "2024-07-01T07:45:30.494Z"
   },
   {
    "duration": 64,
    "start_time": "2024-07-01T07:47:50.040Z"
   },
   {
    "duration": 53,
    "start_time": "2024-07-01T08:29:34.024Z"
   },
   {
    "duration": 55,
    "start_time": "2024-07-01T08:30:25.515Z"
   },
   {
    "duration": 27,
    "start_time": "2024-07-01T08:31:49.763Z"
   },
   {
    "duration": 22,
    "start_time": "2024-07-01T08:32:15.383Z"
   },
   {
    "duration": 31,
    "start_time": "2024-07-01T08:32:28.836Z"
   },
   {
    "duration": 20,
    "start_time": "2024-07-01T08:41:19.685Z"
   },
   {
    "duration": 26,
    "start_time": "2024-07-01T08:41:46.678Z"
   },
   {
    "duration": 20,
    "start_time": "2024-07-01T08:42:03.463Z"
   },
   {
    "duration": 22,
    "start_time": "2024-07-01T08:42:15.547Z"
   },
   {
    "duration": 147,
    "start_time": "2024-07-01T08:44:24.443Z"
   },
   {
    "duration": 48,
    "start_time": "2024-07-01T08:45:03.567Z"
   },
   {
    "duration": 20,
    "start_time": "2024-07-01T08:45:12.729Z"
   },
   {
    "duration": 27,
    "start_time": "2024-07-01T08:45:31.657Z"
   },
   {
    "duration": 13,
    "start_time": "2024-07-01T08:45:58.079Z"
   },
   {
    "duration": 23,
    "start_time": "2024-07-01T08:47:51.565Z"
   },
   {
    "duration": 31,
    "start_time": "2024-07-01T08:48:08.041Z"
   },
   {
    "duration": 14,
    "start_time": "2024-07-01T08:49:52.065Z"
   },
   {
    "duration": 52,
    "start_time": "2024-07-01T08:58:14.395Z"
   },
   {
    "duration": 20,
    "start_time": "2024-07-01T08:58:25.393Z"
   },
   {
    "duration": 60,
    "start_time": "2024-07-01T08:58:53.564Z"
   },
   {
    "duration": 21,
    "start_time": "2024-07-01T08:59:04.132Z"
   },
   {
    "duration": 19,
    "start_time": "2024-07-01T08:59:29.048Z"
   },
   {
    "duration": 22,
    "start_time": "2024-07-01T08:59:44.289Z"
   },
   {
    "duration": 45,
    "start_time": "2024-07-01T09:00:39.845Z"
   },
   {
    "duration": 42,
    "start_time": "2024-07-01T09:02:42.117Z"
   },
   {
    "duration": 14,
    "start_time": "2024-07-01T09:03:17.142Z"
   },
   {
    "duration": 21,
    "start_time": "2024-07-01T09:04:38.465Z"
   },
   {
    "duration": 21,
    "start_time": "2024-07-01T09:05:26.699Z"
   },
   {
    "duration": 12,
    "start_time": "2024-07-01T09:05:35.923Z"
   },
   {
    "duration": 21,
    "start_time": "2024-07-01T09:07:14.573Z"
   },
   {
    "duration": 12,
    "start_time": "2024-07-01T09:07:17.761Z"
   },
   {
    "duration": 61,
    "start_time": "2024-07-01T09:12:15.732Z"
   },
   {
    "duration": 17,
    "start_time": "2024-07-01T09:12:29.860Z"
   },
   {
    "duration": 16,
    "start_time": "2024-07-01T09:13:21.804Z"
   },
   {
    "duration": 16,
    "start_time": "2024-07-01T09:13:26.187Z"
   },
   {
    "duration": 16,
    "start_time": "2024-07-01T09:25:08.985Z"
   },
   {
    "duration": 22,
    "start_time": "2024-07-01T09:26:30.423Z"
   },
   {
    "duration": 13,
    "start_time": "2024-07-01T09:27:04.749Z"
   },
   {
    "duration": 13,
    "start_time": "2024-07-01T09:27:30.612Z"
   },
   {
    "duration": 4,
    "start_time": "2024-07-01T09:29:39.504Z"
   },
   {
    "duration": 53,
    "start_time": "2024-07-01T09:29:39.510Z"
   },
   {
    "duration": 33,
    "start_time": "2024-07-01T09:29:39.564Z"
   },
   {
    "duration": 19,
    "start_time": "2024-07-01T09:29:39.599Z"
   },
   {
    "duration": 87,
    "start_time": "2024-07-01T09:29:39.620Z"
   },
   {
    "duration": 11,
    "start_time": "2024-07-01T09:29:39.708Z"
   },
   {
    "duration": 3,
    "start_time": "2024-07-01T09:29:39.720Z"
   },
   {
    "duration": 29,
    "start_time": "2024-07-01T09:29:39.724Z"
   },
   {
    "duration": 26,
    "start_time": "2024-07-01T09:29:39.754Z"
   },
   {
    "duration": 12,
    "start_time": "2024-07-01T09:29:39.781Z"
   },
   {
    "duration": 15,
    "start_time": "2024-07-01T09:29:39.795Z"
   },
   {
    "duration": 12,
    "start_time": "2024-07-01T09:29:39.811Z"
   },
   {
    "duration": 2,
    "start_time": "2024-07-01T09:32:18.901Z"
   },
   {
    "duration": 21,
    "start_time": "2024-07-01T09:32:31.387Z"
   },
   {
    "duration": 9,
    "start_time": "2024-07-01T09:32:47.331Z"
   },
   {
    "duration": 45,
    "start_time": "2024-07-01T09:32:50.406Z"
   },
   {
    "duration": 10,
    "start_time": "2024-07-01T09:32:54.086Z"
   },
   {
    "duration": 7033,
    "start_time": "2024-07-01T09:37:21.455Z"
   },
   {
    "duration": 55,
    "start_time": "2024-07-01T09:37:28.490Z"
   },
   {
    "duration": 37,
    "start_time": "2024-07-01T09:37:28.547Z"
   },
   {
    "duration": 14,
    "start_time": "2024-07-01T09:37:28.587Z"
   },
   {
    "duration": 14,
    "start_time": "2024-07-01T09:37:28.603Z"
   },
   {
    "duration": 11,
    "start_time": "2024-07-01T09:37:28.618Z"
   },
   {
    "duration": 10,
    "start_time": "2024-07-01T09:37:28.630Z"
   },
   {
    "duration": 25,
    "start_time": "2024-07-01T09:37:28.641Z"
   },
   {
    "duration": 9,
    "start_time": "2024-07-01T09:37:28.668Z"
   },
   {
    "duration": 15,
    "start_time": "2024-07-01T09:37:28.680Z"
   },
   {
    "duration": 12,
    "start_time": "2024-07-01T09:37:28.696Z"
   },
   {
    "duration": 6713,
    "start_time": "2024-07-01T09:40:22.951Z"
   },
   {
    "duration": 45,
    "start_time": "2024-07-01T09:40:29.666Z"
   },
   {
    "duration": 25,
    "start_time": "2024-07-01T09:40:29.712Z"
   },
   {
    "duration": 18,
    "start_time": "2024-07-01T09:40:29.738Z"
   },
   {
    "duration": 11,
    "start_time": "2024-07-01T09:40:29.757Z"
   },
   {
    "duration": 10,
    "start_time": "2024-07-01T09:40:29.769Z"
   },
   {
    "duration": 9,
    "start_time": "2024-07-01T09:40:29.780Z"
   },
   {
    "duration": 26,
    "start_time": "2024-07-01T09:40:29.790Z"
   },
   {
    "duration": 10,
    "start_time": "2024-07-01T09:40:29.817Z"
   },
   {
    "duration": 29,
    "start_time": "2024-07-01T09:40:29.829Z"
   },
   {
    "duration": 13,
    "start_time": "2024-07-01T09:40:29.860Z"
   },
   {
    "duration": 51,
    "start_time": "2024-07-02T18:33:50.655Z"
   },
   {
    "duration": 6533,
    "start_time": "2024-07-02T18:33:55.527Z"
   },
   {
    "duration": 75,
    "start_time": "2024-07-02T18:34:02.062Z"
   },
   {
    "duration": 35,
    "start_time": "2024-07-02T18:34:02.139Z"
   },
   {
    "duration": 12,
    "start_time": "2024-07-02T18:34:02.176Z"
   },
   {
    "duration": 16,
    "start_time": "2024-07-02T18:34:02.190Z"
   },
   {
    "duration": 11,
    "start_time": "2024-07-02T18:34:02.208Z"
   },
   {
    "duration": 9,
    "start_time": "2024-07-02T18:34:02.221Z"
   },
   {
    "duration": 37,
    "start_time": "2024-07-02T18:34:02.231Z"
   },
   {
    "duration": 19,
    "start_time": "2024-07-02T18:34:02.269Z"
   },
   {
    "duration": 26,
    "start_time": "2024-07-02T18:34:02.290Z"
   },
   {
    "duration": 13,
    "start_time": "2024-07-02T18:34:02.318Z"
   },
   {
    "duration": 13,
    "start_time": "2024-07-02T18:36:14.250Z"
   },
   {
    "duration": 28,
    "start_time": "2024-07-02T18:38:00.507Z"
   },
   {
    "duration": 18,
    "start_time": "2024-07-02T18:40:15.984Z"
   },
   {
    "duration": 28,
    "start_time": "2024-07-02T18:43:47.368Z"
   },
   {
    "duration": 6747,
    "start_time": "2024-07-02T18:48:25.596Z"
   },
   {
    "duration": 45,
    "start_time": "2024-07-02T18:48:32.345Z"
   },
   {
    "duration": 26,
    "start_time": "2024-07-02T18:48:32.392Z"
   },
   {
    "duration": 10,
    "start_time": "2024-07-02T18:48:32.420Z"
   },
   {
    "duration": 10,
    "start_time": "2024-07-02T18:48:32.432Z"
   },
   {
    "duration": 39,
    "start_time": "2024-07-02T18:48:32.444Z"
   },
   {
    "duration": 37,
    "start_time": "2024-07-02T18:48:32.485Z"
   },
   {
    "duration": 37,
    "start_time": "2024-07-02T18:48:32.523Z"
   },
   {
    "duration": 11,
    "start_time": "2024-07-02T18:48:32.562Z"
   },
   {
    "duration": 17,
    "start_time": "2024-07-02T18:48:32.574Z"
   },
   {
    "duration": 13,
    "start_time": "2024-07-02T18:48:32.592Z"
   },
   {
    "duration": 558,
    "start_time": "2024-07-04T15:26:45.224Z"
   },
   {
    "duration": 6844,
    "start_time": "2024-07-04T15:26:45.784Z"
   },
   {
    "duration": 229,
    "start_time": "2024-07-04T15:26:52.630Z"
   },
   {
    "duration": 122,
    "start_time": "2024-07-04T15:26:52.861Z"
   },
   {
    "duration": 50,
    "start_time": "2024-07-04T15:26:52.985Z"
   },
   {
    "duration": 51,
    "start_time": "2024-07-04T15:26:53.037Z"
   },
   {
    "duration": 55,
    "start_time": "2024-07-04T15:26:53.090Z"
   },
   {
    "duration": 48,
    "start_time": "2024-07-04T15:26:53.146Z"
   },
   {
    "duration": 86,
    "start_time": "2024-07-04T15:26:53.196Z"
   },
   {
    "duration": 51,
    "start_time": "2024-07-04T15:26:53.284Z"
   },
   {
    "duration": 55,
    "start_time": "2024-07-04T15:26:53.336Z"
   },
   {
    "duration": 53,
    "start_time": "2024-07-04T15:26:53.393Z"
   }
  ],
  "kernelspec": {
   "display_name": "Python 3 (ipykernel)",
   "language": "python",
   "name": "python3"
  },
  "language_info": {
   "codemirror_mode": {
    "name": "ipython",
    "version": 3
   },
   "file_extension": ".py",
   "mimetype": "text/x-python",
   "name": "python",
   "nbconvert_exporter": "python",
   "pygments_lexer": "ipython3",
   "version": "3.9.5"
  },
  "toc": {
   "base_numbering": 1,
   "nav_menu": {},
   "number_sections": true,
   "sideBar": true,
   "skip_h1_title": true,
   "title_cell": "Table of Contents",
   "title_sidebar": "Contents",
   "toc_cell": false,
   "toc_position": {},
   "toc_section_display": true,
   "toc_window_display": true
  }
 },
 "nbformat": 4,
 "nbformat_minor": 2
}
