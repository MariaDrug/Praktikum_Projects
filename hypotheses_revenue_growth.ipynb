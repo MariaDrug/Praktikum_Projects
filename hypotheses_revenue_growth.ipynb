{
 "cells": [
  {
   "cell_type": "markdown",
   "metadata": {},
   "source": [
    "# Проверка гипотез для увеличения выручки\n",
    "\n",
    "**Цель исследования:** приоритизировать гипотезы, проанализировать результаты А/B теста для увеличения выручки. \n",
    "\n",
    "**Имеющиеся данные:** 9 гипотез по увеличению выручки интернет-магазина, результаты А/B теста.\n",
    "\n",
    "**План работы:**\n",
    "\n",
    "- подготовка данных;\n",
    "- приоритизация гипотез фреймворками ICE и RICE;\n",
    "- расчет и анализ кумулятивных метрик;\n",
    "- анализ выбросов и аномальных значений;\n",
    "- анализ А/В теста, расчет статистической значимости различий;\n",
    "- выводы и предположения.\n",
    "\n",
    "    "
   ]
  },
  {
   "cell_type": "markdown",
   "metadata": {},
   "source": [
    "### Приоритизация гипотез."
   ]
  },
  {
   "cell_type": "markdown",
   "metadata": {},
   "source": [
    "Подготовим данные, приоритизируем гипотезы используя фреймворки ICE и RICE, сделаем выводы."
   ]
  },
  {
   "cell_type": "markdown",
   "metadata": {},
   "source": [
    "#### Подготовка данных"
   ]
  },
  {
   "cell_type": "markdown",
   "metadata": {},
   "source": [
    "Импортируем все необходимые библиотеки, сохраним датасеты в переменные, изучим общий вид и информацию по таблицам."
   ]
  },
  {
   "cell_type": "code",
   "execution_count": 1,
   "metadata": {},
   "outputs": [],
   "source": [
    "# импортируем необходимые библиотеки\n",
    "import pandas as pd\n",
    "import scipy.stats as stats\n",
    "import datetime as dt\n",
    "import numpy as np\n",
    "import matplotlib.pyplot as plt\n",
    "from pandas.plotting import register_matplotlib_converters\n",
    "import warnings\n",
    "# конвертеры, которые позволяют использовать типы pandas в matplotlib  \n",
    "register_matplotlib_converters()"
   ]
  },
  {
   "cell_type": "code",
   "execution_count": 2,
   "metadata": {},
   "outputs": [
    {
     "data": {
      "text/html": [
       "<div>\n",
       "<style scoped>\n",
       "    .dataframe tbody tr th:only-of-type {\n",
       "        vertical-align: middle;\n",
       "    }\n",
       "\n",
       "    .dataframe tbody tr th {\n",
       "        vertical-align: top;\n",
       "    }\n",
       "\n",
       "    .dataframe thead th {\n",
       "        text-align: right;\n",
       "    }\n",
       "</style>\n",
       "<table border=\"1\" class=\"dataframe\">\n",
       "  <thead>\n",
       "    <tr style=\"text-align: right;\">\n",
       "      <th></th>\n",
       "      <th>Hypothesis</th>\n",
       "      <th>Reach</th>\n",
       "      <th>Impact</th>\n",
       "      <th>Confidence</th>\n",
       "      <th>Efforts</th>\n",
       "    </tr>\n",
       "  </thead>\n",
       "  <tbody>\n",
       "    <tr>\n",
       "      <th>0</th>\n",
       "      <td>Добавить два новых канала привлечения трафика, что позволит привлекать на 30% больше пользователей</td>\n",
       "      <td>3</td>\n",
       "      <td>10</td>\n",
       "      <td>8</td>\n",
       "      <td>6</td>\n",
       "    </tr>\n",
       "    <tr>\n",
       "      <th>1</th>\n",
       "      <td>Запустить собственную службу доставки, что сократит срок доставки заказов</td>\n",
       "      <td>2</td>\n",
       "      <td>5</td>\n",
       "      <td>4</td>\n",
       "      <td>10</td>\n",
       "    </tr>\n",
       "    <tr>\n",
       "      <th>2</th>\n",
       "      <td>Добавить блоки рекомендаций товаров на сайт интернет магазина, чтобы повысить конверсию и средний чек заказа</td>\n",
       "      <td>8</td>\n",
       "      <td>3</td>\n",
       "      <td>7</td>\n",
       "      <td>3</td>\n",
       "    </tr>\n",
       "    <tr>\n",
       "      <th>3</th>\n",
       "      <td>Изменить структура категорий, что увеличит конверсию, т.к. пользователи быстрее найдут нужный товар</td>\n",
       "      <td>8</td>\n",
       "      <td>3</td>\n",
       "      <td>3</td>\n",
       "      <td>8</td>\n",
       "    </tr>\n",
       "    <tr>\n",
       "      <th>4</th>\n",
       "      <td>Изменить цвет фона главной страницы, чтобы увеличить вовлеченность пользователей</td>\n",
       "      <td>3</td>\n",
       "      <td>1</td>\n",
       "      <td>1</td>\n",
       "      <td>1</td>\n",
       "    </tr>\n",
       "    <tr>\n",
       "      <th>5</th>\n",
       "      <td>Добавить страницу отзывов клиентов о магазине, что позволит увеличить количество заказов</td>\n",
       "      <td>3</td>\n",
       "      <td>2</td>\n",
       "      <td>2</td>\n",
       "      <td>3</td>\n",
       "    </tr>\n",
       "    <tr>\n",
       "      <th>6</th>\n",
       "      <td>Показать на главной странице баннеры с актуальными акциями и распродажами, чтобы увеличить конверсию</td>\n",
       "      <td>5</td>\n",
       "      <td>3</td>\n",
       "      <td>8</td>\n",
       "      <td>3</td>\n",
       "    </tr>\n",
       "    <tr>\n",
       "      <th>7</th>\n",
       "      <td>Добавить форму подписки на все основные страницы, чтобы собрать базу клиентов для email-рассылок</td>\n",
       "      <td>10</td>\n",
       "      <td>7</td>\n",
       "      <td>8</td>\n",
       "      <td>5</td>\n",
       "    </tr>\n",
       "    <tr>\n",
       "      <th>8</th>\n",
       "      <td>Запустить акцию, дающую скидку на товар в день рождения</td>\n",
       "      <td>1</td>\n",
       "      <td>9</td>\n",
       "      <td>9</td>\n",
       "      <td>5</td>\n",
       "    </tr>\n",
       "  </tbody>\n",
       "</table>\n",
       "</div>"
      ],
      "text/plain": [
       "                                                                                                     Hypothesis  \\\n",
       "0            Добавить два новых канала привлечения трафика, что позволит привлекать на 30% больше пользователей   \n",
       "1                                     Запустить собственную службу доставки, что сократит срок доставки заказов   \n",
       "2  Добавить блоки рекомендаций товаров на сайт интернет магазина, чтобы повысить конверсию и средний чек заказа   \n",
       "3           Изменить структура категорий, что увеличит конверсию, т.к. пользователи быстрее найдут нужный товар   \n",
       "4                              Изменить цвет фона главной страницы, чтобы увеличить вовлеченность пользователей   \n",
       "5                      Добавить страницу отзывов клиентов о магазине, что позволит увеличить количество заказов   \n",
       "6          Показать на главной странице баннеры с актуальными акциями и распродажами, чтобы увеличить конверсию   \n",
       "7              Добавить форму подписки на все основные страницы, чтобы собрать базу клиентов для email-рассылок   \n",
       "8                                                       Запустить акцию, дающую скидку на товар в день рождения   \n",
       "\n",
       "   Reach  Impact  Confidence  Efforts  \n",
       "0      3      10           8        6  \n",
       "1      2       5           4       10  \n",
       "2      8       3           7        3  \n",
       "3      8       3           3        8  \n",
       "4      3       1           1        1  \n",
       "5      3       2           2        3  \n",
       "6      5       3           8        3  \n",
       "7     10       7           8        5  \n",
       "8      1       9           9        5  "
      ]
     },
     "execution_count": 2,
     "metadata": {},
     "output_type": "execute_result"
    }
   ],
   "source": [
    "hypothesis = pd.read_csv('/datasets/hypothesis.csv') #сохраняем данные о гипотезах\n",
    "\n",
    "# изменим параметры отображения\n",
    "pd.options.display.max_colwidth = 350\n",
    "\n",
    "hypothesis #смотрим общий вид датасета"
   ]
  },
  {
   "cell_type": "code",
   "execution_count": 3,
   "metadata": {},
   "outputs": [],
   "source": [
    "hypothesis.columns = hypothesis.columns.str.lower() # приводим название колонок к нижнему регистру"
   ]
  },
  {
   "cell_type": "code",
   "execution_count": 4,
   "metadata": {
    "scrolled": false
   },
   "outputs": [
    {
     "name": "stdout",
     "output_type": "stream",
     "text": [
      "<class 'pandas.core.frame.DataFrame'>\n",
      "RangeIndex: 9 entries, 0 to 8\n",
      "Data columns (total 5 columns):\n",
      " #   Column      Non-Null Count  Dtype \n",
      "---  ------      --------------  ----- \n",
      " 0   hypothesis  9 non-null      object\n",
      " 1   reach       9 non-null      int64 \n",
      " 2   impact      9 non-null      int64 \n",
      " 3   confidence  9 non-null      int64 \n",
      " 4   efforts     9 non-null      int64 \n",
      "dtypes: int64(4), object(1)\n",
      "memory usage: 488.0+ bytes\n"
     ]
    }
   ],
   "source": [
    "hypothesis.info() # проверим информацию о количестве, типе данных и пропусках."
   ]
  },
  {
   "cell_type": "markdown",
   "metadata": {},
   "source": [
    "Пропущенных значений в данных нет. Типы данных верные. Наименование колонок привели к нижнему регистру."
   ]
  },
  {
   "cell_type": "markdown",
   "metadata": {},
   "source": [
    "#### Применение фреймворка ICE для приоритизации гипотез."
   ]
  },
  {
   "cell_type": "markdown",
   "metadata": {},
   "source": [
    "Используя имеющееся данные:\n",
    "\n",
    "- Impact — насколько сильно изменение повлияет на пользователей, их опыт и удовлетворение от продукта;\n",
    "- Confidence — насколько вы уверены, что это изменение повлияет на пользователей именно так; \n",
    "- Efforts — сколько стоит протестировать эту гипотезу. \n",
    "\n",
    "Рассчитаем ICE SCORE."
   ]
  },
  {
   "cell_type": "code",
   "execution_count": 5,
   "metadata": {},
   "outputs": [
    {
     "data": {
      "text/html": [
       "<div>\n",
       "<style scoped>\n",
       "    .dataframe tbody tr th:only-of-type {\n",
       "        vertical-align: middle;\n",
       "    }\n",
       "\n",
       "    .dataframe tbody tr th {\n",
       "        vertical-align: top;\n",
       "    }\n",
       "\n",
       "    .dataframe thead th {\n",
       "        text-align: right;\n",
       "    }\n",
       "</style>\n",
       "<table border=\"1\" class=\"dataframe\">\n",
       "  <thead>\n",
       "    <tr style=\"text-align: right;\">\n",
       "      <th></th>\n",
       "      <th>hypothesis</th>\n",
       "      <th>reach</th>\n",
       "      <th>impact</th>\n",
       "      <th>confidence</th>\n",
       "      <th>efforts</th>\n",
       "      <th>ice</th>\n",
       "    </tr>\n",
       "  </thead>\n",
       "  <tbody>\n",
       "    <tr>\n",
       "      <th>8</th>\n",
       "      <td>Запустить акцию, дающую скидку на товар в день рождения</td>\n",
       "      <td>1</td>\n",
       "      <td>9</td>\n",
       "      <td>9</td>\n",
       "      <td>5</td>\n",
       "      <td>16.20</td>\n",
       "    </tr>\n",
       "    <tr>\n",
       "      <th>0</th>\n",
       "      <td>Добавить два новых канала привлечения трафика, что позволит привлекать на 30% больше пользователей</td>\n",
       "      <td>3</td>\n",
       "      <td>10</td>\n",
       "      <td>8</td>\n",
       "      <td>6</td>\n",
       "      <td>13.33</td>\n",
       "    </tr>\n",
       "    <tr>\n",
       "      <th>7</th>\n",
       "      <td>Добавить форму подписки на все основные страницы, чтобы собрать базу клиентов для email-рассылок</td>\n",
       "      <td>10</td>\n",
       "      <td>7</td>\n",
       "      <td>8</td>\n",
       "      <td>5</td>\n",
       "      <td>11.20</td>\n",
       "    </tr>\n",
       "    <tr>\n",
       "      <th>6</th>\n",
       "      <td>Показать на главной странице баннеры с актуальными акциями и распродажами, чтобы увеличить конверсию</td>\n",
       "      <td>5</td>\n",
       "      <td>3</td>\n",
       "      <td>8</td>\n",
       "      <td>3</td>\n",
       "      <td>8.00</td>\n",
       "    </tr>\n",
       "    <tr>\n",
       "      <th>2</th>\n",
       "      <td>Добавить блоки рекомендаций товаров на сайт интернет магазина, чтобы повысить конверсию и средний чек заказа</td>\n",
       "      <td>8</td>\n",
       "      <td>3</td>\n",
       "      <td>7</td>\n",
       "      <td>3</td>\n",
       "      <td>7.00</td>\n",
       "    </tr>\n",
       "    <tr>\n",
       "      <th>1</th>\n",
       "      <td>Запустить собственную службу доставки, что сократит срок доставки заказов</td>\n",
       "      <td>2</td>\n",
       "      <td>5</td>\n",
       "      <td>4</td>\n",
       "      <td>10</td>\n",
       "      <td>2.00</td>\n",
       "    </tr>\n",
       "    <tr>\n",
       "      <th>5</th>\n",
       "      <td>Добавить страницу отзывов клиентов о магазине, что позволит увеличить количество заказов</td>\n",
       "      <td>3</td>\n",
       "      <td>2</td>\n",
       "      <td>2</td>\n",
       "      <td>3</td>\n",
       "      <td>1.33</td>\n",
       "    </tr>\n",
       "    <tr>\n",
       "      <th>3</th>\n",
       "      <td>Изменить структура категорий, что увеличит конверсию, т.к. пользователи быстрее найдут нужный товар</td>\n",
       "      <td>8</td>\n",
       "      <td>3</td>\n",
       "      <td>3</td>\n",
       "      <td>8</td>\n",
       "      <td>1.12</td>\n",
       "    </tr>\n",
       "    <tr>\n",
       "      <th>4</th>\n",
       "      <td>Изменить цвет фона главной страницы, чтобы увеличить вовлеченность пользователей</td>\n",
       "      <td>3</td>\n",
       "      <td>1</td>\n",
       "      <td>1</td>\n",
       "      <td>1</td>\n",
       "      <td>1.00</td>\n",
       "    </tr>\n",
       "  </tbody>\n",
       "</table>\n",
       "</div>"
      ],
      "text/plain": [
       "                                                                                                     hypothesis  \\\n",
       "8                                                       Запустить акцию, дающую скидку на товар в день рождения   \n",
       "0            Добавить два новых канала привлечения трафика, что позволит привлекать на 30% больше пользователей   \n",
       "7              Добавить форму подписки на все основные страницы, чтобы собрать базу клиентов для email-рассылок   \n",
       "6          Показать на главной странице баннеры с актуальными акциями и распродажами, чтобы увеличить конверсию   \n",
       "2  Добавить блоки рекомендаций товаров на сайт интернет магазина, чтобы повысить конверсию и средний чек заказа   \n",
       "1                                     Запустить собственную службу доставки, что сократит срок доставки заказов   \n",
       "5                      Добавить страницу отзывов клиентов о магазине, что позволит увеличить количество заказов   \n",
       "3           Изменить структура категорий, что увеличит конверсию, т.к. пользователи быстрее найдут нужный товар   \n",
       "4                              Изменить цвет фона главной страницы, чтобы увеличить вовлеченность пользователей   \n",
       "\n",
       "   reach  impact  confidence  efforts    ice  \n",
       "8      1       9           9        5  16.20  \n",
       "0      3      10           8        6  13.33  \n",
       "7     10       7           8        5  11.20  \n",
       "6      5       3           8        3   8.00  \n",
       "2      8       3           7        3   7.00  \n",
       "1      2       5           4       10   2.00  \n",
       "5      3       2           2        3   1.33  \n",
       "3      8       3           3        8   1.12  \n",
       "4      3       1           1        1   1.00  "
      ]
     },
     "execution_count": 5,
     "metadata": {},
     "output_type": "execute_result"
    }
   ],
   "source": [
    "#рассчитаем ICE SCORE, округлим до 2-х знаков\n",
    "hypothesis['ice'] =  round(hypothesis['impact']*hypothesis['confidence']/hypothesis['efforts'],2) \n",
    "\n",
    "\n",
    "#сделаем сортировку по убыванию ice и выведем на экран\n",
    "hypothesis.sort_values(by = 'ice',ascending = False)"
   ]
  },
  {
   "cell_type": "markdown",
   "metadata": {},
   "source": [
    "Наиболее перспективные гипотезы 8, 0 и 7. Они имеют высокие показатели impact и confidence, то есть с большей уверенностью окажут ощутимое влияние на пользователей. При этом имеют средний уровень сложности тестирования гипотезы."
   ]
  },
  {
   "cell_type": "markdown",
   "metadata": {},
   "source": [
    "#### Применение фреймворка RICE для приоритизации гипотез."
   ]
  },
  {
   "cell_type": "markdown",
   "metadata": {},
   "source": [
    "Добавим к расчету ICE SCORE дополнительный параметр:\n",
    "\n",
    "Reach — скольких пользователей затронет изменение, которое вы хотите внести;\n",
    "\n",
    "И рассчитаем RICE SCORE."
   ]
  },
  {
   "cell_type": "code",
   "execution_count": 6,
   "metadata": {
    "scrolled": true
   },
   "outputs": [
    {
     "data": {
      "text/html": [
       "<div>\n",
       "<style scoped>\n",
       "    .dataframe tbody tr th:only-of-type {\n",
       "        vertical-align: middle;\n",
       "    }\n",
       "\n",
       "    .dataframe tbody tr th {\n",
       "        vertical-align: top;\n",
       "    }\n",
       "\n",
       "    .dataframe thead th {\n",
       "        text-align: right;\n",
       "    }\n",
       "</style>\n",
       "<table border=\"1\" class=\"dataframe\">\n",
       "  <thead>\n",
       "    <tr style=\"text-align: right;\">\n",
       "      <th></th>\n",
       "      <th>hypothesis</th>\n",
       "      <th>reach</th>\n",
       "      <th>impact</th>\n",
       "      <th>confidence</th>\n",
       "      <th>efforts</th>\n",
       "      <th>ice</th>\n",
       "      <th>rice</th>\n",
       "    </tr>\n",
       "  </thead>\n",
       "  <tbody>\n",
       "    <tr>\n",
       "      <th>7</th>\n",
       "      <td>Добавить форму подписки на все основные страницы, чтобы собрать базу клиентов для email-рассылок</td>\n",
       "      <td>10</td>\n",
       "      <td>7</td>\n",
       "      <td>8</td>\n",
       "      <td>5</td>\n",
       "      <td>11.20</td>\n",
       "      <td>112.0</td>\n",
       "    </tr>\n",
       "    <tr>\n",
       "      <th>2</th>\n",
       "      <td>Добавить блоки рекомендаций товаров на сайт интернет магазина, чтобы повысить конверсию и средний чек заказа</td>\n",
       "      <td>8</td>\n",
       "      <td>3</td>\n",
       "      <td>7</td>\n",
       "      <td>3</td>\n",
       "      <td>7.00</td>\n",
       "      <td>56.0</td>\n",
       "    </tr>\n",
       "    <tr>\n",
       "      <th>0</th>\n",
       "      <td>Добавить два новых канала привлечения трафика, что позволит привлекать на 30% больше пользователей</td>\n",
       "      <td>3</td>\n",
       "      <td>10</td>\n",
       "      <td>8</td>\n",
       "      <td>6</td>\n",
       "      <td>13.33</td>\n",
       "      <td>40.0</td>\n",
       "    </tr>\n",
       "    <tr>\n",
       "      <th>6</th>\n",
       "      <td>Показать на главной странице баннеры с актуальными акциями и распродажами, чтобы увеличить конверсию</td>\n",
       "      <td>5</td>\n",
       "      <td>3</td>\n",
       "      <td>8</td>\n",
       "      <td>3</td>\n",
       "      <td>8.00</td>\n",
       "      <td>40.0</td>\n",
       "    </tr>\n",
       "    <tr>\n",
       "      <th>8</th>\n",
       "      <td>Запустить акцию, дающую скидку на товар в день рождения</td>\n",
       "      <td>1</td>\n",
       "      <td>9</td>\n",
       "      <td>9</td>\n",
       "      <td>5</td>\n",
       "      <td>16.20</td>\n",
       "      <td>16.2</td>\n",
       "    </tr>\n",
       "    <tr>\n",
       "      <th>3</th>\n",
       "      <td>Изменить структура категорий, что увеличит конверсию, т.к. пользователи быстрее найдут нужный товар</td>\n",
       "      <td>8</td>\n",
       "      <td>3</td>\n",
       "      <td>3</td>\n",
       "      <td>8</td>\n",
       "      <td>1.12</td>\n",
       "      <td>9.0</td>\n",
       "    </tr>\n",
       "    <tr>\n",
       "      <th>1</th>\n",
       "      <td>Запустить собственную службу доставки, что сократит срок доставки заказов</td>\n",
       "      <td>2</td>\n",
       "      <td>5</td>\n",
       "      <td>4</td>\n",
       "      <td>10</td>\n",
       "      <td>2.00</td>\n",
       "      <td>4.0</td>\n",
       "    </tr>\n",
       "    <tr>\n",
       "      <th>5</th>\n",
       "      <td>Добавить страницу отзывов клиентов о магазине, что позволит увеличить количество заказов</td>\n",
       "      <td>3</td>\n",
       "      <td>2</td>\n",
       "      <td>2</td>\n",
       "      <td>3</td>\n",
       "      <td>1.33</td>\n",
       "      <td>4.0</td>\n",
       "    </tr>\n",
       "    <tr>\n",
       "      <th>4</th>\n",
       "      <td>Изменить цвет фона главной страницы, чтобы увеличить вовлеченность пользователей</td>\n",
       "      <td>3</td>\n",
       "      <td>1</td>\n",
       "      <td>1</td>\n",
       "      <td>1</td>\n",
       "      <td>1.00</td>\n",
       "      <td>3.0</td>\n",
       "    </tr>\n",
       "  </tbody>\n",
       "</table>\n",
       "</div>"
      ],
      "text/plain": [
       "                                                                                                     hypothesis  \\\n",
       "7              Добавить форму подписки на все основные страницы, чтобы собрать базу клиентов для email-рассылок   \n",
       "2  Добавить блоки рекомендаций товаров на сайт интернет магазина, чтобы повысить конверсию и средний чек заказа   \n",
       "0            Добавить два новых канала привлечения трафика, что позволит привлекать на 30% больше пользователей   \n",
       "6          Показать на главной странице баннеры с актуальными акциями и распродажами, чтобы увеличить конверсию   \n",
       "8                                                       Запустить акцию, дающую скидку на товар в день рождения   \n",
       "3           Изменить структура категорий, что увеличит конверсию, т.к. пользователи быстрее найдут нужный товар   \n",
       "1                                     Запустить собственную службу доставки, что сократит срок доставки заказов   \n",
       "5                      Добавить страницу отзывов клиентов о магазине, что позволит увеличить количество заказов   \n",
       "4                              Изменить цвет фона главной страницы, чтобы увеличить вовлеченность пользователей   \n",
       "\n",
       "   reach  impact  confidence  efforts    ice   rice  \n",
       "7     10       7           8        5  11.20  112.0  \n",
       "2      8       3           7        3   7.00   56.0  \n",
       "0      3      10           8        6  13.33   40.0  \n",
       "6      5       3           8        3   8.00   40.0  \n",
       "8      1       9           9        5  16.20   16.2  \n",
       "3      8       3           3        8   1.12    9.0  \n",
       "1      2       5           4       10   2.00    4.0  \n",
       "5      3       2           2        3   1.33    4.0  \n",
       "4      3       1           1        1   1.00    3.0  "
      ]
     },
     "execution_count": 6,
     "metadata": {},
     "output_type": "execute_result"
    }
   ],
   "source": [
    "#рассчитаем RICE SCORE\n",
    "hypothesis['rice'] =  hypothesis['impact']*hypothesis['confidence']*hypothesis['reach']/hypothesis['efforts']\n",
    "#сделаем сортировку по убыванию rice и выведем на экран\n",
    "hypothesis.sort_values(by = 'rice',ascending = False)"
   ]
  },
  {
   "cell_type": "markdown",
   "metadata": {},
   "source": [
    "Наиболее перспективные гипотезы 7, 2 и 0. Гипотеза 7 имеет все высокие показатели, при этом имеет средний уровень сложности тестирования гипотезы. Гипотеза 2 затронет большое число пользователей, имет высокую степень уверености в результате и не высокую сложность проверки, но не окажет большого влияния на пользователей. Гипотеза 0 с большой степенью уверенности окажет большое влияние на пользователей, но доля таких пользоватлей не большая. "
   ]
  },
  {
   "cell_type": "markdown",
   "metadata": {},
   "source": [
    "#### Вывод\n",
    "\n",
    "Проведена подготовка данных к анализу. Пропущенных значений в данных нет. Типы данных верные. Наименование колонок привели к нижнему регистру.\n",
    "\n",
    "Были расчитаны:\n",
    "\n",
    "- ICE SCORE. По результатам приоритетны для проверки гипотезы 8, 0 и 7.\n",
    "- RICE SCORE. По результатам приоритетны для проверки гипотезы 7, 2 и 0.\n",
    "\n",
    "Результаты отличаются, так как в расчете ICE SCORE учитывается сила изменений, степень уверенности в том, что гипотеза верна и сложность проверки гипотезы. В расчете RICE SCORE также дополнительно учитывается доля пользователей, которую затронет изменение. \n",
    "\n",
    "По результатам двух оценок, приоритетной для проверки можно посчитать гипотезу 7, она имеет высокие показатели силы изменений, степени уверенности в том, что гипотеза верна и высокую долю пользователей, которых изменения затронут. При этом сложность проверки гипотезы средняя. \n",
    "\n",
    "\n"
   ]
  },
  {
   "cell_type": "markdown",
   "metadata": {},
   "source": [
    "### Расчет кумулятивных метрик."
   ]
  },
  {
   "cell_type": "markdown",
   "metadata": {},
   "source": [
    "Для анализа A/B-теста построим графики: кумулятивной выручки по группам, кумулятивного среднего чека по группам, кумулятивного среднего количества заказов на посетителя по группам, а также графики относительного изменения кумулятивного среднего чека группы B к группе A и среднего количества заказов на посетителя группы B к группе A.\n",
    "Посмотрим динамику и сделаем выводы."
   ]
  },
  {
   "cell_type": "markdown",
   "metadata": {},
   "source": [
    "#### Подготовка данных"
   ]
  },
  {
   "cell_type": "markdown",
   "metadata": {},
   "source": [
    "Сохраним датасеты в переменные, изучим общий вид и информацию по таблицам, проверим типы данных и приведем к нужному формату."
   ]
  },
  {
   "cell_type": "code",
   "execution_count": 7,
   "metadata": {},
   "outputs": [
    {
     "data": {
      "text/html": [
       "<div>\n",
       "<style scoped>\n",
       "    .dataframe tbody tr th:only-of-type {\n",
       "        vertical-align: middle;\n",
       "    }\n",
       "\n",
       "    .dataframe tbody tr th {\n",
       "        vertical-align: top;\n",
       "    }\n",
       "\n",
       "    .dataframe thead th {\n",
       "        text-align: right;\n",
       "    }\n",
       "</style>\n",
       "<table border=\"1\" class=\"dataframe\">\n",
       "  <thead>\n",
       "    <tr style=\"text-align: right;\">\n",
       "      <th></th>\n",
       "      <th>transactionId</th>\n",
       "      <th>visitorId</th>\n",
       "      <th>date</th>\n",
       "      <th>revenue</th>\n",
       "      <th>group</th>\n",
       "    </tr>\n",
       "  </thead>\n",
       "  <tbody>\n",
       "    <tr>\n",
       "      <th>0</th>\n",
       "      <td>3667963787</td>\n",
       "      <td>3312258926</td>\n",
       "      <td>2019-08-15</td>\n",
       "      <td>1650</td>\n",
       "      <td>B</td>\n",
       "    </tr>\n",
       "    <tr>\n",
       "      <th>1</th>\n",
       "      <td>2804400009</td>\n",
       "      <td>3642806036</td>\n",
       "      <td>2019-08-15</td>\n",
       "      <td>730</td>\n",
       "      <td>B</td>\n",
       "    </tr>\n",
       "    <tr>\n",
       "      <th>2</th>\n",
       "      <td>2961555356</td>\n",
       "      <td>4069496402</td>\n",
       "      <td>2019-08-15</td>\n",
       "      <td>400</td>\n",
       "      <td>A</td>\n",
       "    </tr>\n",
       "    <tr>\n",
       "      <th>3</th>\n",
       "      <td>3797467345</td>\n",
       "      <td>1196621759</td>\n",
       "      <td>2019-08-15</td>\n",
       "      <td>9759</td>\n",
       "      <td>B</td>\n",
       "    </tr>\n",
       "    <tr>\n",
       "      <th>4</th>\n",
       "      <td>2282983706</td>\n",
       "      <td>2322279887</td>\n",
       "      <td>2019-08-15</td>\n",
       "      <td>2308</td>\n",
       "      <td>B</td>\n",
       "    </tr>\n",
       "  </tbody>\n",
       "</table>\n",
       "</div>"
      ],
      "text/plain": [
       "   transactionId   visitorId        date  revenue group\n",
       "0     3667963787  3312258926  2019-08-15     1650     B\n",
       "1     2804400009  3642806036  2019-08-15      730     B\n",
       "2     2961555356  4069496402  2019-08-15      400     A\n",
       "3     3797467345  1196621759  2019-08-15     9759     B\n",
       "4     2282983706  2322279887  2019-08-15     2308     B"
      ]
     },
     "metadata": {},
     "output_type": "display_data"
    },
    {
     "data": {
      "text/html": [
       "<div>\n",
       "<style scoped>\n",
       "    .dataframe tbody tr th:only-of-type {\n",
       "        vertical-align: middle;\n",
       "    }\n",
       "\n",
       "    .dataframe tbody tr th {\n",
       "        vertical-align: top;\n",
       "    }\n",
       "\n",
       "    .dataframe thead th {\n",
       "        text-align: right;\n",
       "    }\n",
       "</style>\n",
       "<table border=\"1\" class=\"dataframe\">\n",
       "  <thead>\n",
       "    <tr style=\"text-align: right;\">\n",
       "      <th></th>\n",
       "      <th>date</th>\n",
       "      <th>group</th>\n",
       "      <th>visitors</th>\n",
       "    </tr>\n",
       "  </thead>\n",
       "  <tbody>\n",
       "    <tr>\n",
       "      <th>0</th>\n",
       "      <td>2019-08-01</td>\n",
       "      <td>A</td>\n",
       "      <td>719</td>\n",
       "    </tr>\n",
       "    <tr>\n",
       "      <th>1</th>\n",
       "      <td>2019-08-02</td>\n",
       "      <td>A</td>\n",
       "      <td>619</td>\n",
       "    </tr>\n",
       "    <tr>\n",
       "      <th>2</th>\n",
       "      <td>2019-08-03</td>\n",
       "      <td>A</td>\n",
       "      <td>507</td>\n",
       "    </tr>\n",
       "    <tr>\n",
       "      <th>3</th>\n",
       "      <td>2019-08-04</td>\n",
       "      <td>A</td>\n",
       "      <td>717</td>\n",
       "    </tr>\n",
       "    <tr>\n",
       "      <th>4</th>\n",
       "      <td>2019-08-05</td>\n",
       "      <td>A</td>\n",
       "      <td>756</td>\n",
       "    </tr>\n",
       "  </tbody>\n",
       "</table>\n",
       "</div>"
      ],
      "text/plain": [
       "         date group  visitors\n",
       "0  2019-08-01     A       719\n",
       "1  2019-08-02     A       619\n",
       "2  2019-08-03     A       507\n",
       "3  2019-08-04     A       717\n",
       "4  2019-08-05     A       756"
      ]
     },
     "metadata": {},
     "output_type": "display_data"
    }
   ],
   "source": [
    "orders = pd.read_csv('/datasets/orders.csv')  #сохраняем данные о заказах\n",
    "visitors = pd.read_csv('/datasets/visitors.csv') #сохраняем данные о посетителях\n",
    "display(orders.head(5)) #смотрим общий вид датасета\n",
    "display(visitors.head(5))#смотрим общий вид датасета"
   ]
  },
  {
   "cell_type": "code",
   "execution_count": 8,
   "metadata": {},
   "outputs": [
    {
     "name": "stdout",
     "output_type": "stream",
     "text": [
      "<class 'pandas.core.frame.DataFrame'>\n",
      "RangeIndex: 1197 entries, 0 to 1196\n",
      "Data columns (total 5 columns):\n",
      " #   Column         Non-Null Count  Dtype \n",
      "---  ------         --------------  ----- \n",
      " 0   transactionId  1197 non-null   int64 \n",
      " 1   visitorId      1197 non-null   int64 \n",
      " 2   date           1197 non-null   object\n",
      " 3   revenue        1197 non-null   int64 \n",
      " 4   group          1197 non-null   object\n",
      "dtypes: int64(3), object(2)\n",
      "memory usage: 46.9+ KB\n"
     ]
    },
    {
     "data": {
      "text/plain": [
       "None"
      ]
     },
     "metadata": {},
     "output_type": "display_data"
    },
    {
     "name": "stdout",
     "output_type": "stream",
     "text": [
      "<class 'pandas.core.frame.DataFrame'>\n",
      "RangeIndex: 62 entries, 0 to 61\n",
      "Data columns (total 3 columns):\n",
      " #   Column    Non-Null Count  Dtype \n",
      "---  ------    --------------  ----- \n",
      " 0   date      62 non-null     object\n",
      " 1   group     62 non-null     object\n",
      " 2   visitors  62 non-null     int64 \n",
      "dtypes: int64(1), object(2)\n",
      "memory usage: 1.6+ KB\n"
     ]
    },
    {
     "data": {
      "text/plain": [
       "None"
      ]
     },
     "metadata": {},
     "output_type": "display_data"
    }
   ],
   "source": [
    "# проверим информацию о количестве, типе данных и пропусках\n",
    "display(orders.info())\n",
    "display(visitors.info())"
   ]
  },
  {
   "cell_type": "code",
   "execution_count": 9,
   "metadata": {},
   "outputs": [],
   "source": [
    "orders['date'] = orders['date'].map(lambda x: dt.datetime.strptime(x,'%Y-%m-%d')) # переведем данные в формат даты\n",
    "visitors['date'] = visitors['date'].map(lambda x: dt.datetime.strptime(x,'%Y-%m-%d')) # переведем данные в формат даты\n",
    "orders = orders.rename(columns = {'transactionId':'transaction_id','visitorId':'visitor_id'}) # приводим название колонок к \"змеиному\" регистру"
   ]
  },
  {
   "cell_type": "code",
   "execution_count": 10,
   "metadata": {},
   "outputs": [
    {
     "name": "stdout",
     "output_type": "stream",
     "text": [
      "<class 'pandas.core.frame.DataFrame'>\n",
      "RangeIndex: 1197 entries, 0 to 1196\n",
      "Data columns (total 5 columns):\n",
      " #   Column          Non-Null Count  Dtype         \n",
      "---  ------          --------------  -----         \n",
      " 0   transaction_id  1197 non-null   int64         \n",
      " 1   visitor_id      1197 non-null   int64         \n",
      " 2   date            1197 non-null   datetime64[ns]\n",
      " 3   revenue         1197 non-null   int64         \n",
      " 4   group           1197 non-null   object        \n",
      "dtypes: datetime64[ns](1), int64(3), object(1)\n",
      "memory usage: 46.9+ KB\n"
     ]
    },
    {
     "data": {
      "text/plain": [
       "None"
      ]
     },
     "metadata": {},
     "output_type": "display_data"
    },
    {
     "name": "stdout",
     "output_type": "stream",
     "text": [
      "<class 'pandas.core.frame.DataFrame'>\n",
      "RangeIndex: 62 entries, 0 to 61\n",
      "Data columns (total 3 columns):\n",
      " #   Column    Non-Null Count  Dtype         \n",
      "---  ------    --------------  -----         \n",
      " 0   date      62 non-null     datetime64[ns]\n",
      " 1   group     62 non-null     object        \n",
      " 2   visitors  62 non-null     int64         \n",
      "dtypes: datetime64[ns](1), int64(1), object(1)\n",
      "memory usage: 1.6+ KB\n"
     ]
    },
    {
     "data": {
      "text/plain": [
       "None"
      ]
     },
     "metadata": {},
     "output_type": "display_data"
    }
   ],
   "source": [
    "# проверяем внесенные изменения\n",
    "display(orders.info())\n",
    "display(visitors.info())"
   ]
  },
  {
   "cell_type": "code",
   "execution_count": 11,
   "metadata": {
    "scrolled": true
   },
   "outputs": [
    {
     "data": {
      "text/plain": [
       "0"
      ]
     },
     "metadata": {},
     "output_type": "display_data"
    },
    {
     "data": {
      "text/plain": [
       "0"
      ]
     },
     "metadata": {},
     "output_type": "display_data"
    }
   ],
   "source": [
    "# проверим наличие явных дублкатов\n",
    "display(orders.duplicated().sum())\n",
    "display(visitors.duplicated().sum())"
   ]
  },
  {
   "cell_type": "markdown",
   "metadata": {},
   "source": [
    "Для численных данных посмотрим на их статистические показатели и проверим их на наличие ошибок или аномалий."
   ]
  },
  {
   "cell_type": "code",
   "execution_count": 12,
   "metadata": {
    "scrolled": true
   },
   "outputs": [
    {
     "data": {
      "text/plain": [
       "count    1.197000e+03\n",
       "mean     8.348006e+03\n",
       "std      3.919113e+04\n",
       "min      5.000000e+01\n",
       "25%      1.220000e+03\n",
       "50%      2.978000e+03\n",
       "75%      8.290000e+03\n",
       "max      1.294500e+06\n",
       "Name: revenue, dtype: float64"
      ]
     },
     "metadata": {},
     "output_type": "display_data"
    },
    {
     "data": {
      "text/plain": [
       "count     62.000000\n",
       "mean     607.290323\n",
       "std      114.400560\n",
       "min      361.000000\n",
       "25%      534.000000\n",
       "50%      624.500000\n",
       "75%      710.500000\n",
       "max      770.000000\n",
       "Name: visitors, dtype: float64"
      ]
     },
     "metadata": {},
     "output_type": "display_data"
    }
   ],
   "source": [
    "display (orders['revenue'].describe())\n",
    "display (visitors['visitors'].describe())"
   ]
  },
  {
   "cell_type": "markdown",
   "metadata": {},
   "source": [
    "В показателях выручки максимальное значение сильно больше 75% процентиля, возможны выбросы, нужно проверить на следующих этапах."
   ]
  },
  {
   "cell_type": "markdown",
   "metadata": {},
   "source": [
    "Проверим временной интервал имеющихся данных на наличие ошибок."
   ]
  },
  {
   "cell_type": "code",
   "execution_count": 13,
   "metadata": {},
   "outputs": [
    {
     "data": {
      "text/plain": [
       "Timestamp('2019-08-01 00:00:00')"
      ]
     },
     "metadata": {},
     "output_type": "display_data"
    },
    {
     "data": {
      "text/plain": [
       "Timestamp('2019-08-31 00:00:00')"
      ]
     },
     "metadata": {},
     "output_type": "display_data"
    }
   ],
   "source": [
    "display(orders['date'].min())\n",
    "display(orders['date'].max())"
   ]
  },
  {
   "cell_type": "code",
   "execution_count": 14,
   "metadata": {
    "scrolled": true
   },
   "outputs": [
    {
     "data": {
      "text/plain": [
       "Timestamp('2019-08-01 00:00:00')"
      ]
     },
     "metadata": {},
     "output_type": "display_data"
    },
    {
     "data": {
      "text/plain": [
       "Timestamp('2019-08-31 00:00:00')"
      ]
     },
     "metadata": {},
     "output_type": "display_data"
    }
   ],
   "source": [
    "display(visitors['date'].min())\n",
    "display(visitors['date'].max())"
   ]
  },
  {
   "cell_type": "markdown",
   "metadata": {},
   "source": [
    "Ошибок во временном интервале нет."
   ]
  },
  {
   "cell_type": "markdown",
   "metadata": {},
   "source": [
    "Проверим количество поситителей группы A и В, чтобы убедиться в равенстве групп. "
   ]
  },
  {
   "cell_type": "code",
   "execution_count": 15,
   "metadata": {},
   "outputs": [
    {
     "data": {
      "text/html": [
       "<div>\n",
       "<style scoped>\n",
       "    .dataframe tbody tr th:only-of-type {\n",
       "        vertical-align: middle;\n",
       "    }\n",
       "\n",
       "    .dataframe tbody tr th {\n",
       "        vertical-align: top;\n",
       "    }\n",
       "\n",
       "    .dataframe thead th {\n",
       "        text-align: right;\n",
       "    }\n",
       "</style>\n",
       "<table border=\"1\" class=\"dataframe\">\n",
       "  <thead>\n",
       "    <tr style=\"text-align: right;\">\n",
       "      <th></th>\n",
       "      <th>visitors</th>\n",
       "    </tr>\n",
       "    <tr>\n",
       "      <th>group</th>\n",
       "      <th></th>\n",
       "    </tr>\n",
       "  </thead>\n",
       "  <tbody>\n",
       "    <tr>\n",
       "      <th>A</th>\n",
       "      <td>18736</td>\n",
       "    </tr>\n",
       "    <tr>\n",
       "      <th>B</th>\n",
       "      <td>18916</td>\n",
       "    </tr>\n",
       "  </tbody>\n",
       "</table>\n",
       "</div>"
      ],
      "text/plain": [
       "       visitors\n",
       "group          \n",
       "A         18736\n",
       "B         18916"
      ]
     },
     "execution_count": 15,
     "metadata": {},
     "output_type": "execute_result"
    }
   ],
   "source": [
    "visitors.groupby('group').agg({'visitors':'sum'})"
   ]
  },
  {
   "cell_type": "markdown",
   "metadata": {},
   "source": [
    "Разница между группами менее 1 %."
   ]
  },
  {
   "cell_type": "markdown",
   "metadata": {},
   "source": [
    "Найдем количество уникальных пользователей в общем, и в каждой группе. Проверим, чтобы не было пользоватлей попавших в обе группы."
   ]
  },
  {
   "cell_type": "code",
   "execution_count": 16,
   "metadata": {},
   "outputs": [
    {
     "data": {
      "text/plain": [
       "1031"
      ]
     },
     "execution_count": 16,
     "metadata": {},
     "output_type": "execute_result"
    }
   ],
   "source": [
    "# найдем общее число уникальных пользователей\n",
    "orders['visitor_id'].nunique()"
   ]
  },
  {
   "cell_type": "code",
   "execution_count": 17,
   "metadata": {
    "scrolled": false
   },
   "outputs": [
    {
     "data": {
      "text/plain": [
       "visitor_id    58\n",
       "dtype: int64"
      ]
     },
     "metadata": {},
     "output_type": "display_data"
    },
    {
     "data": {
      "text/plain": [
       "visitor_id    5.625606\n",
       "dtype: float64"
      ]
     },
     "metadata": {},
     "output_type": "display_data"
    }
   ],
   "source": [
    "# число уникальных пользователей группы А\n",
    "visitors_a_nunique = orders[orders['group'] == 'A'][['visitor_id']]\n",
    "\n",
    "# число уникальных пользователей группы В\n",
    "visitors_b_nunique = orders[orders['group'] == 'B'][['visitor_id']]\n",
    "\n",
    "# число пересекающихся пользователей \n",
    "display(visitors_b_nunique.query('visitor_id in @visitors_a_nunique[\"visitor_id\"]').nunique()) \n",
    "# процент пересекающихся пользователей \n",
    "display(visitors_b_nunique.query('visitor_id in @visitors_a_nunique[\"visitor_id\"]').nunique()/orders['visitor_id'].nunique() * 100)"
   ]
  },
  {
   "cell_type": "markdown",
   "metadata": {},
   "source": [
    "В группах есть 58 пересекающихся пользователей, что составляет 5,62%. Несмотря на то, что это большое количество пользователей, их лучше удалить. Так как они работали с обоими версиями интернет-магазина в ходе одного исследования, неизвестно, какая именно повлияла на  их решения. Значит, и результаты такого теста нельзя интерпретировать однозначно."
   ]
  },
  {
   "cell_type": "code",
   "execution_count": 18,
   "metadata": {},
   "outputs": [
    {
     "data": {
      "text/plain": [
       "973"
      ]
     },
     "execution_count": 18,
     "metadata": {},
     "output_type": "execute_result"
    }
   ],
   "source": [
    "# список пересекающихся пользователей для удаления\n",
    "visitors_to_delete = orders[\n",
    "    lambda x: x.index.isin(\n",
    "    orders[orders['group'] == 'A']['visitor_id'].isin(\n",
    "    orders[orders['group'] == 'B']['visitor_id'])[lambda x:x].index)]['visitor_id'].unique()\n",
    "# исключаем пересекающихся пользователей.\n",
    "orders = orders.query('visitor_id not in @visitors_to_delete')\n",
    "\n",
    "# проверям число уникальных пользователей\n",
    "orders['visitor_id'].nunique()"
   ]
  },
  {
   "cell_type": "markdown",
   "metadata": {},
   "source": [
    "Данные проверены, дубликатов и пропусков нет. Типы данных приведены к нужному формату. Исправлены наименование столбцов. \n",
    "\n",
    "- возможны аномальные значения выручки, на которые нужно обратить внимания при дальнейшем анализе.\n",
    "- из данных исключено 58 пользователей(5,62% от общего числа) в связи с тем, что они попали в обе исследуемые группы.\n",
    "\n",
    "Необходимо проверить как происходит деление трафика. В связи с удалением части данных, результаты могут быть искажены."
   ]
  },
  {
   "cell_type": "markdown",
   "metadata": {},
   "source": [
    "#### График кумулятивной выручки по группам."
   ]
  },
  {
   "cell_type": "markdown",
   "metadata": {},
   "source": [
    "Построим график кумулятивной выручки по группам А и B и сделаем выводы."
   ]
  },
  {
   "cell_type": "code",
   "execution_count": 19,
   "metadata": {},
   "outputs": [
    {
     "data": {
      "text/html": [
       "<div>\n",
       "<style scoped>\n",
       "    .dataframe tbody tr th:only-of-type {\n",
       "        vertical-align: middle;\n",
       "    }\n",
       "\n",
       "    .dataframe tbody tr th {\n",
       "        vertical-align: top;\n",
       "    }\n",
       "\n",
       "    .dataframe thead th {\n",
       "        text-align: right;\n",
       "    }\n",
       "</style>\n",
       "<table border=\"1\" class=\"dataframe\">\n",
       "  <thead>\n",
       "    <tr style=\"text-align: right;\">\n",
       "      <th></th>\n",
       "      <th>date</th>\n",
       "      <th>group</th>\n",
       "      <th>orders</th>\n",
       "      <th>buyers</th>\n",
       "      <th>revenue</th>\n",
       "      <th>visitors</th>\n",
       "    </tr>\n",
       "  </thead>\n",
       "  <tbody>\n",
       "    <tr>\n",
       "      <th>0</th>\n",
       "      <td>2019-08-01</td>\n",
       "      <td>A</td>\n",
       "      <td>23</td>\n",
       "      <td>19</td>\n",
       "      <td>142779</td>\n",
       "      <td>719</td>\n",
       "    </tr>\n",
       "    <tr>\n",
       "      <th>1</th>\n",
       "      <td>2019-08-01</td>\n",
       "      <td>B</td>\n",
       "      <td>17</td>\n",
       "      <td>17</td>\n",
       "      <td>59758</td>\n",
       "      <td>713</td>\n",
       "    </tr>\n",
       "    <tr>\n",
       "      <th>2</th>\n",
       "      <td>2019-08-02</td>\n",
       "      <td>A</td>\n",
       "      <td>42</td>\n",
       "      <td>36</td>\n",
       "      <td>234381</td>\n",
       "      <td>1338</td>\n",
       "    </tr>\n",
       "    <tr>\n",
       "      <th>3</th>\n",
       "      <td>2019-08-02</td>\n",
       "      <td>B</td>\n",
       "      <td>40</td>\n",
       "      <td>39</td>\n",
       "      <td>221801</td>\n",
       "      <td>1294</td>\n",
       "    </tr>\n",
       "    <tr>\n",
       "      <th>4</th>\n",
       "      <td>2019-08-03</td>\n",
       "      <td>A</td>\n",
       "      <td>66</td>\n",
       "      <td>60</td>\n",
       "      <td>346854</td>\n",
       "      <td>1845</td>\n",
       "    </tr>\n",
       "  </tbody>\n",
       "</table>\n",
       "</div>"
      ],
      "text/plain": [
       "        date group  orders  buyers  revenue  visitors\n",
       "0 2019-08-01     A      23      19   142779       719\n",
       "1 2019-08-01     B      17      17    59758       713\n",
       "2 2019-08-02     A      42      36   234381      1338\n",
       "3 2019-08-02     B      40      39   221801      1294\n",
       "4 2019-08-03     A      66      60   346854      1845"
      ]
     },
     "execution_count": 19,
     "metadata": {},
     "output_type": "execute_result"
    }
   ],
   "source": [
    "# создаем массив уникальных пар значений дат и групп теста\n",
    "dates_groups = orders[['date','group']].drop_duplicates() \n",
    "\n",
    "# получаем агрегированные кумулятивные по дням данные о заказах \n",
    "orders_aggregated = (\n",
    "    dates_groups.apply(lambda x: orders[np.logical_and(orders['date'] <= x['date'], orders['group'] == x['group'])]\\\n",
    "    .agg({'date' : 'max', 'group' : 'max', 'transaction_id' : 'nunique', 'visitor_id' : 'nunique', 'revenue' : 'sum'}), axis=1)\n",
    "    .sort_values(by=['date','group'])\n",
    ")\n",
    "\n",
    "# получаем агрегированные кумулятивные по дням данные о посетителях\n",
    "visitors_aggregated = (\n",
    "    dates_groups.apply(lambda x: visitors[np.logical_and(visitors['date'] <= x['date'], visitors['group'] == x['group'])]\n",
    "    .agg({'date' : 'max', 'group' : 'max', 'visitors' : 'sum'}), axis=1)\n",
    "    .sort_values(by=['date','group'])\n",
    ")\n",
    "\n",
    "# объединяем кумулятивные данные в одной таблице и присваиваем ее столбцам понятные названия\n",
    "cumulative_data = orders_aggregated.merge(visitors_aggregated, left_on=['date', 'group'], right_on=['date', 'group'])\n",
    "\n",
    "cumulative_data.columns = ['date', 'group', 'orders', 'buyers', 'revenue', 'visitors']\n",
    "\n",
    "cumulative_data.head(5)"
   ]
  },
  {
   "cell_type": "code",
   "execution_count": 20,
   "metadata": {
    "scrolled": false
   },
   "outputs": [
    {
     "data": {
      "image/png": "[encoded data removed]",
      "text/plain": [
       "<Figure size 1080x504 with 1 Axes>"
      ]
     },
     "metadata": {
      "needs_background": "light"
     },
     "output_type": "display_data"
    }
   ],
   "source": [
    "# датафрейм с кумулятивным количеством заказов и кумулятивной выручкой по дням в группе А\n",
    "cumulative_revenue_a = cumulative_data[cumulative_data['group'] == 'A'][['date','revenue','orders']]\n",
    "\n",
    "# датафрейм с кумулятивным количеством заказов и кумулятивной выручкой по дням в группе B\n",
    "cumulative_revenue_b = cumulative_data[cumulative_data['group'] == 'B'][['date','revenue','orders']]\n",
    "\n",
    "# задаем размер графика\n",
    "plt.figure(figsize=(15, 7))\n",
    "\n",
    "# Строим график выручки группы А\n",
    "plt.plot(cumulative_revenue_a['date'], cumulative_revenue_a['revenue'], label='A')\n",
    "\n",
    "# Строим график выручки группы B\n",
    "plt.plot(cumulative_revenue_b['date'], cumulative_revenue_b['revenue'], label='B')\n",
    "\n",
    "plt.title('График кумулятивной выручки по группам')\n",
    "\n",
    "plt.legend(loc='upper center',bbox_to_anchor=(0.5, -0.04), ncol=2)\n",
    "    \n",
    "plt.show()"
   ]
  },
  {
   "cell_type": "markdown",
   "metadata": {},
   "source": [
    "Выручка равномерно увеличивается в течении всего теста в обоих группах. При этом выручка группы B стабильно превышает выручку группы A. График выручки группы В в одной точке резко растет. Это может сигнализировать о всплесках числа заказов, либо о появлении очень дорогих заказов в выборке. Возможно связано в аномально высоким заказом, который мы видели на предварительной обработке данных. Необходимо в дальнейшем проанализировать выбросы."
   ]
  },
  {
   "cell_type": "markdown",
   "metadata": {},
   "source": [
    "<div class=\"alert alert-success\">\n",
    "  \n",
    "  <b>Комментарий ревьюера</b>\n",
    "    \n",
    "  ✔️ График построен верно и можем зафиксировать аномалию в группе В.\n",
    "</div>"
   ]
  },
  {
   "cell_type": "markdown",
   "metadata": {},
   "source": [
    "#### График кумулятивного среднего чека по группам."
   ]
  },
  {
   "cell_type": "markdown",
   "metadata": {},
   "source": [
    "Построим график кумулятивного среднего чека по группам и сделаем выводы."
   ]
  },
  {
   "cell_type": "code",
   "execution_count": 21,
   "metadata": {},
   "outputs": [
    {
     "data": {
      "image/png": "[encoded data removed]",
      "text/plain": [
       "<Figure size 1080x504 with 1 Axes>"
      ]
     },
     "metadata": {
      "needs_background": "light"
     },
     "output_type": "display_data"
    }
   ],
   "source": [
    "# задаем размер графика\n",
    "plt.figure(figsize=(15, 7))\n",
    "\n",
    "# построим график среднего чека, разделим кумулятивную выручку на кумулятивное число заказов\n",
    "plt.plot(cumulative_revenue_a['date'], cumulative_revenue_a['revenue']/cumulative_revenue_a['orders'], label='A')\n",
    "plt.plot(cumulative_revenue_b['date'], cumulative_revenue_b['revenue']/cumulative_revenue_b['orders'], label='B')\n",
    "\n",
    "plt.title('График кумулятивного среднего чека по группам')\n",
    "\n",
    "plt.legend(loc='upper center',bbox_to_anchor=(0.5, -0.04), ncol=2)\n",
    "    \n",
    "plt.show()"
   ]
  },
  {
   "cell_type": "markdown",
   "metadata": {},
   "source": [
    "Средний чек становится равномерным ближе к концу теста: установился для группы A и продолжает падать для группы B. Возможно, в группу B в середине теста попали крупные заказы (резкий всплеск на графике, тот же что и на выручке). Тогда ей нужно больше данных, чтобы прийти к реальному среднему чеку и установиться на его уровне."
   ]
  },
  {
   "cell_type": "markdown",
   "metadata": {},
   "source": [
    "####  График относительного изменения кумулятивного среднего чека группы B к группе A."
   ]
  },
  {
   "cell_type": "markdown",
   "metadata": {},
   "source": [
    "Построим график относительного изменения кумулятивного среднего чека группы B к группе A и сделаем выводы."
   ]
  },
  {
   "cell_type": "code",
   "execution_count": 22,
   "metadata": {
    "scrolled": false
   },
   "outputs": [
    {
     "data": {
      "image/png": "[encoded data removed]",
      "text/plain": [
       "<Figure size 1080x504 with 1 Axes>"
      ]
     },
     "metadata": {
      "needs_background": "light"
     },
     "output_type": "display_data"
    }
   ],
   "source": [
    "# собираем данные в одном датафрейме\n",
    "merged_сumulative_revenue = (\n",
    "    cumulative_revenue_a\n",
    "    .merge(cumulative_revenue_b, left_on='date', right_on='date', how='left', suffixes=['A', 'B'])\n",
    ")\n",
    "\n",
    "# задаем размер графика\n",
    "plt.figure(figsize=(15, 7))\n",
    "\n",
    "# cтроим отношение средних чеков\n",
    "plt.plot(merged_сumulative_revenue['date'], (merged_сumulative_revenue['revenueB']/merged_сumulative_revenue['ordersB'])/(merged_сumulative_revenue['revenueA']/merged_сumulative_revenue['ordersA'])-1)\n",
    "\n",
    "# добавляем ось X\n",
    "plt.axhline(y=0, color='black', linestyle='--')\n",
    "\n",
    "plt.title('График относительного изменения кумулятивного среднего чека группы B к группе A')\n",
    "\n",
    "    \n",
    "plt.show()"
   ]
  },
  {
   "cell_type": "markdown",
   "metadata": {},
   "source": [
    "В нескольких точках график различия между сегментами резко «скачет», что может быть связано с аномально крупными заказами."
   ]
  },
  {
   "cell_type": "markdown",
   "metadata": {},
   "source": [
    "#### График кумулятивного среднего количества заказов на посетителя по группам."
   ]
  },
  {
   "cell_type": "markdown",
   "metadata": {},
   "source": [
    "Построим график кумулятивного среднего количества заказов на посетителя по группам и сделаем выводы."
   ]
  },
  {
   "cell_type": "code",
   "execution_count": 23,
   "metadata": {
    "scrolled": false
   },
   "outputs": [
    {
     "data": {
      "image/png": "[encoded data removed]",
      "text/plain": [
       "<Figure size 1080x504 with 1 Axes>"
      ]
     },
     "metadata": {
      "needs_background": "light"
     },
     "output_type": "display_data"
    }
   ],
   "source": [
    "# считаем среднее количество заказов на посетителя\n",
    "cumulative_data['conversion'] = cumulative_data['orders']/cumulative_data['visitors']\n",
    "\n",
    "# отделяем данные по группе A\n",
    "cumulative_data_a = cumulative_data[cumulative_data['group'] == 'A']\n",
    "\n",
    "# отделяем данные по группе B\n",
    "cumulative_data_b = cumulative_data[cumulative_data['group'] == 'B']\n",
    "\n",
    "#задаем размер графика\n",
    "plt.figure(figsize=(15, 7))\n",
    "\n",
    "# строим графики\n",
    "plt.plot(cumulative_data_a['date'], cumulative_data_a['conversion'], label='A')\n",
    "plt.plot(cumulative_data_b['date'], cumulative_data_b['conversion'], label='B')\n",
    "\n",
    "\n",
    "# задаем масштаб осей\n",
    "plt.axis([dt.datetime(2019, 8, 1), dt.datetime(2019, 9, 1),0,0.05])\n",
    "\n",
    "plt.legend(loc='upper center',bbox_to_anchor=(0.5, -0.04), ncol=2)\n",
    "\n",
    "plt.title('График кумулятивного среднего количества заказов на посетителя по группам')\n",
    "    \n",
    "plt.show()"
   ]
  },
  {
   "cell_type": "markdown",
   "metadata": {},
   "source": [
    "Были колебания в начале графика, затем количество заказов обоих групп зафиксировалось  и число заказов группы В стабильно выше заказов группы А."
   ]
  },
  {
   "cell_type": "markdown",
   "metadata": {},
   "source": [
    "#### График относительного изменения кумулятивного среднего количества заказов на посетителя группы B к группе A."
   ]
  },
  {
   "cell_type": "markdown",
   "metadata": {},
   "source": [
    "Построим график относительного изменения кумулятивного среднего количества заказов на посетителя группы B к группе A и сделаем выводы."
   ]
  },
  {
   "cell_type": "code",
   "execution_count": 24,
   "metadata": {
    "scrolled": false
   },
   "outputs": [
    {
     "data": {
      "image/png": "[encoded data removed]",
      "text/plain": [
       "<Figure size 1080x504 with 1 Axes>"
      ]
     },
     "metadata": {
      "needs_background": "light"
     },
     "output_type": "display_data"
    }
   ],
   "source": [
    "# собираем данные в одном датафрейме\n",
    "merged_cumulative_conversions = (\n",
    "    cumulative_data_a[['date','conversion']]\n",
    "    .merge(cumulative_data_b[['date','conversion']], left_on = 'date', right_on = 'date', how = 'left', suffixes = ['A','B'])\n",
    ")\n",
    "\n",
    "#задаем размер графика\n",
    "plt.figure(figsize=(15, 7))\n",
    "\n",
    "# строим отношение среднего количества заказов\n",
    "plt.plot(merged_cumulative_conversions['date'], merged_cumulative_conversions['conversionB']/merged_cumulative_conversions['conversionA']-1)\n",
    "\n",
    "# добавляем ось X\n",
    "plt.axhline(y=0, color='black', linestyle='--')\n",
    "    \n",
    "plt.axhline(y= 0.2, color='grey', linestyle='--')\n",
    "    \n",
    "plt.axis([dt.datetime(2019, 8, 1), dt.datetime(2019, 9, 1), -0.5, 0.5])\n",
    "\n",
    "plt.title('Относительный прирост кумулятивного среднего количества заказов на посетителя группы B относительно группы A')\n",
    "    \n",
    "plt.show()"
   ]
  },
  {
   "cell_type": "markdown",
   "metadata": {},
   "source": [
    "Почти с начала теста среднее количество заказов группы В стабильно превышает количество заказов группы А на примерно 10-20%."
   ]
  },
  {
   "cell_type": "markdown",
   "metadata": {},
   "source": [
    "**Вывод:** На основании построенных графиков можно сделать вывод, что все показатели группы В превышают показатели группы А. У группы В кумулятивная средняя выручка, средний чек и количество заказов стабильно выше, чем у группы А. При этом на графиках выручки и среднего чека есть колебания, вероятно связанные с аномально крупными заказами. Необходимо провести анализ выбросов и аномальных значений."
   ]
  },
  {
   "cell_type": "markdown",
   "metadata": {},
   "source": [
    "### Анализ выбросов. Определение аномальных значений."
   ]
  },
  {
   "cell_type": "markdown",
   "metadata": {},
   "source": [
    "Построим графики распределения количества заказов по пользователям и стоимости заказов. Опредеоим 95 и 99 процентили, проанализруем и определим выбросы и аномальные значения."
   ]
  },
  {
   "cell_type": "markdown",
   "metadata": {},
   "source": [
    "#### Распределение заказов по пользователям.\n"
   ]
  },
  {
   "cell_type": "markdown",
   "metadata": {},
   "source": [
    "Построим точечный график количества заказов по пользователям и сделаем выводы.\n",
    "Посчитаем 95-й и 99-й перцентили количества заказов на пользователя. Выберем границу для определения аномальных пользователей."
   ]
  },
  {
   "cell_type": "code",
   "execution_count": 25,
   "metadata": {
    "scrolled": true
   },
   "outputs": [
    {
     "data": {
      "text/html": [
       "<div>\n",
       "<style scoped>\n",
       "    .dataframe tbody tr th:only-of-type {\n",
       "        vertical-align: middle;\n",
       "    }\n",
       "\n",
       "    .dataframe tbody tr th {\n",
       "        vertical-align: top;\n",
       "    }\n",
       "\n",
       "    .dataframe thead th {\n",
       "        text-align: right;\n",
       "    }\n",
       "</style>\n",
       "<table border=\"1\" class=\"dataframe\">\n",
       "  <thead>\n",
       "    <tr style=\"text-align: right;\">\n",
       "      <th></th>\n",
       "      <th>visitor_id</th>\n",
       "      <th>orders</th>\n",
       "    </tr>\n",
       "  </thead>\n",
       "  <tbody>\n",
       "    <tr>\n",
       "      <th>908</th>\n",
       "      <td>3967698036</td>\n",
       "      <td>3</td>\n",
       "    </tr>\n",
       "    <tr>\n",
       "      <th>55</th>\n",
       "      <td>249864742</td>\n",
       "      <td>3</td>\n",
       "    </tr>\n",
       "    <tr>\n",
       "      <th>478</th>\n",
       "      <td>2108163459</td>\n",
       "      <td>3</td>\n",
       "    </tr>\n",
       "    <tr>\n",
       "      <th>687</th>\n",
       "      <td>2988190573</td>\n",
       "      <td>3</td>\n",
       "    </tr>\n",
       "    <tr>\n",
       "      <th>890</th>\n",
       "      <td>3908431265</td>\n",
       "      <td>3</td>\n",
       "    </tr>\n",
       "    <tr>\n",
       "      <th>138</th>\n",
       "      <td>611059232</td>\n",
       "      <td>3</td>\n",
       "    </tr>\n",
       "    <tr>\n",
       "      <th>632</th>\n",
       "      <td>2742574263</td>\n",
       "      <td>3</td>\n",
       "    </tr>\n",
       "    <tr>\n",
       "      <th>157</th>\n",
       "      <td>678354126</td>\n",
       "      <td>2</td>\n",
       "    </tr>\n",
       "    <tr>\n",
       "      <th>323</th>\n",
       "      <td>1404560065</td>\n",
       "      <td>2</td>\n",
       "    </tr>\n",
       "    <tr>\n",
       "      <th>452</th>\n",
       "      <td>1985475298</td>\n",
       "      <td>2</td>\n",
       "    </tr>\n",
       "  </tbody>\n",
       "</table>\n",
       "</div>"
      ],
      "text/plain": [
       "     visitor_id  orders\n",
       "908  3967698036       3\n",
       "55    249864742       3\n",
       "478  2108163459       3\n",
       "687  2988190573       3\n",
       "890  3908431265       3\n",
       "138   611059232       3\n",
       "632  2742574263       3\n",
       "157   678354126       2\n",
       "323  1404560065       2\n",
       "452  1985475298       2"
      ]
     },
     "execution_count": 25,
     "metadata": {},
     "output_type": "execute_result"
    }
   ],
   "source": [
    "#группируем данные по пользователям и считаем количество заказов\n",
    "orders_by_users = orders.groupby('visitor_id', as_index = False).agg({'transaction_id':'nunique'})\n",
    "orders_by_users.columns = ['visitor_id', 'orders']\n",
    "\n",
    "#отсортируем данные по убыванию числа заказов\n",
    "orders_by_users.sort_values(by = 'orders', ascending = False).head(10)\n"
   ]
  },
  {
   "cell_type": "markdown",
   "metadata": {},
   "source": [
    "Есть 7 пользователей с числом заказов 3 штуки. Посмотрим распределение на графике."
   ]
  },
  {
   "cell_type": "code",
   "execution_count": 26,
   "metadata": {
    "scrolled": false
   },
   "outputs": [
    {
     "data": {
      "image/png": "[encoded data removed]",
      "text/plain": [
       "<Figure size 1080x504 with 1 Axes>"
      ]
     },
     "metadata": {
      "needs_background": "light"
     },
     "output_type": "display_data"
    }
   ],
   "source": [
    "# задаем значение оси х\n",
    "x_values = pd.Series(range(0,len(orders_by_users)))\n",
    "\n",
    "#задаем размер графика\n",
    "plt.figure(figsize=(15, 7))\n",
    "\n",
    "# построим точечный график\n",
    "plt.scatter(x_values, orders_by_users['orders']) \n",
    "\n",
    "plt.title('Распределение количества заказов по пользователям')\n",
    "\n",
    "\n",
    "plt.ylabel('Количество заказов')\n",
    "    \n",
    "plt.show()\n"
   ]
  },
  {
   "cell_type": "markdown",
   "metadata": {},
   "source": [
    "Большиство пользователей оформляли 1 или 2 заказа. Есть небольшое число пользователей с тремя заказами."
   ]
  },
  {
   "cell_type": "markdown",
   "metadata": {},
   "source": [
    "Посчитаем 95-й и 99-й перцентиль количества заказов на одного пользователя."
   ]
  },
  {
   "cell_type": "code",
   "execution_count": 27,
   "metadata": {},
   "outputs": [
    {
     "data": {
      "text/plain": [
       "array([1., 2.])"
      ]
     },
     "execution_count": 27,
     "metadata": {},
     "output_type": "execute_result"
    }
   ],
   "source": [
    "# 95,99 перцентиль количестсва заказов\n",
    "np.percentile(orders_by_users['orders'], [95, 99])"
   ]
  },
  {
   "cell_type": "markdown",
   "metadata": {},
   "source": [
    "95 % всех клиентов имеют не больше 1 заказа и 99% клиентов заказывали не более 2-х раз. Определим количество заказов не более 2 для отсечения аномальных пользователей."
   ]
  },
  {
   "cell_type": "markdown",
   "metadata": {},
   "source": [
    "#### Распределение стоимости заказов."
   ]
  },
  {
   "cell_type": "markdown",
   "metadata": {},
   "source": [
    "Построим точечный график стоимостей заказов и сделаем выводы.\n",
    "Посчитаем 95-й и 99-й перцентили стоимости одного заказа. Выберем границу для определения аномальных пользователей."
   ]
  },
  {
   "cell_type": "code",
   "execution_count": 28,
   "metadata": {},
   "outputs": [
    {
     "data": {
      "text/html": [
       "<div>\n",
       "<style scoped>\n",
       "    .dataframe tbody tr th:only-of-type {\n",
       "        vertical-align: middle;\n",
       "    }\n",
       "\n",
       "    .dataframe tbody tr th {\n",
       "        vertical-align: top;\n",
       "    }\n",
       "\n",
       "    .dataframe thead th {\n",
       "        text-align: right;\n",
       "    }\n",
       "</style>\n",
       "<table border=\"1\" class=\"dataframe\">\n",
       "  <thead>\n",
       "    <tr style=\"text-align: right;\">\n",
       "      <th></th>\n",
       "      <th>transaction_id</th>\n",
       "      <th>visitor_id</th>\n",
       "      <th>date</th>\n",
       "      <th>revenue</th>\n",
       "      <th>group</th>\n",
       "    </tr>\n",
       "  </thead>\n",
       "  <tbody>\n",
       "    <tr>\n",
       "      <th>425</th>\n",
       "      <td>590470918</td>\n",
       "      <td>1920142716</td>\n",
       "      <td>2019-08-19</td>\n",
       "      <td>1294500</td>\n",
       "      <td>B</td>\n",
       "    </tr>\n",
       "    <tr>\n",
       "      <th>1196</th>\n",
       "      <td>3936777065</td>\n",
       "      <td>2108080724</td>\n",
       "      <td>2019-08-15</td>\n",
       "      <td>202740</td>\n",
       "      <td>B</td>\n",
       "    </tr>\n",
       "    <tr>\n",
       "      <th>1136</th>\n",
       "      <td>666610489</td>\n",
       "      <td>1307669133</td>\n",
       "      <td>2019-08-13</td>\n",
       "      <td>92550</td>\n",
       "      <td>A</td>\n",
       "    </tr>\n",
       "    <tr>\n",
       "      <th>744</th>\n",
       "      <td>3668308183</td>\n",
       "      <td>888512513</td>\n",
       "      <td>2019-08-27</td>\n",
       "      <td>86620</td>\n",
       "      <td>B</td>\n",
       "    </tr>\n",
       "    <tr>\n",
       "      <th>743</th>\n",
       "      <td>3603576309</td>\n",
       "      <td>4133034833</td>\n",
       "      <td>2019-08-09</td>\n",
       "      <td>67990</td>\n",
       "      <td>A</td>\n",
       "    </tr>\n",
       "    <tr>\n",
       "      <th>1103</th>\n",
       "      <td>1348774318</td>\n",
       "      <td>1164614297</td>\n",
       "      <td>2019-08-12</td>\n",
       "      <td>66350</td>\n",
       "      <td>A</td>\n",
       "    </tr>\n",
       "    <tr>\n",
       "      <th>1099</th>\n",
       "      <td>316924019</td>\n",
       "      <td>148427295</td>\n",
       "      <td>2019-08-12</td>\n",
       "      <td>65710</td>\n",
       "      <td>A</td>\n",
       "    </tr>\n",
       "    <tr>\n",
       "      <th>949</th>\n",
       "      <td>1347999392</td>\n",
       "      <td>887908475</td>\n",
       "      <td>2019-08-21</td>\n",
       "      <td>60450</td>\n",
       "      <td>A</td>\n",
       "    </tr>\n",
       "    <tr>\n",
       "      <th>940</th>\n",
       "      <td>2420050534</td>\n",
       "      <td>4003628586</td>\n",
       "      <td>2019-08-08</td>\n",
       "      <td>58550</td>\n",
       "      <td>B</td>\n",
       "    </tr>\n",
       "    <tr>\n",
       "      <th>131</th>\n",
       "      <td>3163614039</td>\n",
       "      <td>2254586615</td>\n",
       "      <td>2019-08-22</td>\n",
       "      <td>53904</td>\n",
       "      <td>A</td>\n",
       "    </tr>\n",
       "  </tbody>\n",
       "</table>\n",
       "</div>"
      ],
      "text/plain": [
       "      transaction_id  visitor_id       date  revenue group\n",
       "425        590470918  1920142716 2019-08-19  1294500     B\n",
       "1196      3936777065  2108080724 2019-08-15   202740     B\n",
       "1136       666610489  1307669133 2019-08-13    92550     A\n",
       "744       3668308183   888512513 2019-08-27    86620     B\n",
       "743       3603576309  4133034833 2019-08-09    67990     A\n",
       "1103      1348774318  1164614297 2019-08-12    66350     A\n",
       "1099       316924019   148427295 2019-08-12    65710     A\n",
       "949       1347999392   887908475 2019-08-21    60450     A\n",
       "940       2420050534  4003628586 2019-08-08    58550     B\n",
       "131       3163614039  2254586615 2019-08-22    53904     A"
      ]
     },
     "execution_count": 28,
     "metadata": {},
     "output_type": "execute_result"
    }
   ],
   "source": [
    "#отсортируем данные по убыванию стоимости заказа\n",
    "orders.sort_values(by='revenue', ascending=False).head(10)"
   ]
  },
  {
   "cell_type": "markdown",
   "metadata": {},
   "source": [
    "Есть пользователь из группы B, стоимость заказа которого составила 1.3 млн рублей, что явно выше средней стоимости заказа. Дата заказа как раз совпадает с датой всплеска на графиках куммулятивной выручки и среднего чека. "
   ]
  },
  {
   "cell_type": "code",
   "execution_count": 29,
   "metadata": {
    "scrolled": false
   },
   "outputs": [
    {
     "data": {
      "image/png": "[encoded data removed]",
      "text/plain": [
       "<Figure size 1080x504 with 1 Axes>"
      ]
     },
     "metadata": {
      "needs_background": "light"
     },
     "output_type": "display_data"
    }
   ],
   "source": [
    "# задаем значение оси х\n",
    "x_values = pd.Series(range(0,len(orders)))\n",
    "\n",
    "#задаем размер графика\n",
    "plt.figure(figsize=(15, 7))\n",
    "\n",
    "# построим точечный график\n",
    "plt.scatter(x_values, orders['revenue']) \n",
    "\n",
    "plt.title('Распределение стоимости заказов')\n",
    "\n",
    "\n",
    "plt.ylabel('Стоимость одного заказа')\n",
    "    \n",
    "plt.show()\n"
   ]
  },
  {
   "cell_type": "markdown",
   "metadata": {},
   "source": [
    "По графику видно что большинство заказов находятся в диапазон от 0 до 50 000. На графики видны явные выбросы. "
   ]
  },
  {
   "cell_type": "markdown",
   "metadata": {},
   "source": [
    "Сделаем расчет 95-го и 99-го процентилей стоимости заказа для определения аномальных значений. "
   ]
  },
  {
   "cell_type": "code",
   "execution_count": 30,
   "metadata": {},
   "outputs": [
    {
     "data": {
      "text/plain": [
       "array([26785., 53904.])"
      ]
     },
     "execution_count": 30,
     "metadata": {},
     "output_type": "execute_result"
    }
   ],
   "source": [
    "# 95,99 перцентили стоимости заказа\n",
    "np.percentile(orders['revenue'], [95, 99])"
   ]
  },
  {
   "cell_type": "markdown",
   "metadata": {},
   "source": [
    "95 % всех заказов не превышают стоимость в 26785  и 99% заказаов не более 53904. Определим стоимость одного заказа в 50000 для отсечения аномальных заказов. "
   ]
  },
  {
   "cell_type": "markdown",
   "metadata": {},
   "source": [
    "**Вывод:** \n",
    "\n",
    "На точечных графиках распределения стоимости заказа и количества заказов на одного пользователя явно видны аномальные значения, которые необходимо учесть в дальнейших расчетах при проверки гипотез. \n",
    "\n",
    "Сделав расчет 95-го и 99-го процентилей можно сделать вывод:\n",
    "\n",
    "- 95 % всех клиентов имеют не больше 1 заказа и 99% клиентов заказывали не более 2-х раз. Определим количество заказов не более 2 для отсечения аномальных пользователей.\n",
    "\n",
    "- 95 % всех заказов не превышают стоимость в 26785 и 99% заказаов не более 53904. Определим стоимость одного заказа в 50 000 для отсечения аномальных заказов. \n"
   ]
  },
  {
   "cell_type": "markdown",
   "metadata": {},
   "source": [
    "### Анализ А/B теста.\n"
   ]
  },
  {
   "cell_type": "markdown",
   "metadata": {},
   "source": [
    "Посчитаем статистическую значимость различий в среднем количестве заказов  на посетителя и в среднем чеке заказа между группами по «сырым» данным. Посчитаем статистическую значимость различий в среднем количестве заказов  на посетителя и в среднем чеке заказа между группами по «очищенным» данным. Сделаем выводы. "
   ]
  },
  {
   "cell_type": "markdown",
   "metadata": {},
   "source": [
    "#### Cтатистическая значимость различий по первоначальным данным"
   ]
  },
  {
   "cell_type": "markdown",
   "metadata": {},
   "source": [
    "Посчитаем сначала статистическую значимость различий в среднем количестве заказов на посетителя между группами по «сырым» данным.\n",
    "\n",
    "Сформулируем гипотезы:\n",
    "\n",
    "Нулевая гипотеза: различий в среднем количестве заказов между группами нет. Альтернативная гипотеза: различия в среднем количестве заказов между группами есть"
   ]
  },
  {
   "cell_type": "code",
   "execution_count": 31,
   "metadata": {},
   "outputs": [
    {
     "data": {
      "text/html": [
       "<div>\n",
       "<style scoped>\n",
       "    .dataframe tbody tr th:only-of-type {\n",
       "        vertical-align: middle;\n",
       "    }\n",
       "\n",
       "    .dataframe tbody tr th {\n",
       "        vertical-align: top;\n",
       "    }\n",
       "\n",
       "    .dataframe thead th {\n",
       "        text-align: right;\n",
       "    }\n",
       "</style>\n",
       "<table border=\"1\" class=\"dataframe\">\n",
       "  <thead>\n",
       "    <tr style=\"text-align: right;\">\n",
       "      <th></th>\n",
       "      <th>date</th>\n",
       "      <th>orders_per_date_a</th>\n",
       "      <th>revenue_per_date_a</th>\n",
       "      <th>orders_per_date_b</th>\n",
       "      <th>revenue_per_date_b</th>\n",
       "      <th>orders_cummulative_a</th>\n",
       "      <th>revenue_cummulative_a</th>\n",
       "      <th>orders_cummulative_b</th>\n",
       "      <th>revenue_cummulative_b</th>\n",
       "      <th>visitors_per_date_a</th>\n",
       "      <th>visitors_per_date_b</th>\n",
       "      <th>visitors_cummulative_a</th>\n",
       "      <th>visitors_cummulative_b</th>\n",
       "    </tr>\n",
       "  </thead>\n",
       "  <tbody>\n",
       "    <tr>\n",
       "      <th>0</th>\n",
       "      <td>2019-08-01</td>\n",
       "      <td>23</td>\n",
       "      <td>142779</td>\n",
       "      <td>17</td>\n",
       "      <td>59758</td>\n",
       "      <td>23</td>\n",
       "      <td>142779</td>\n",
       "      <td>17</td>\n",
       "      <td>59758</td>\n",
       "      <td>719</td>\n",
       "      <td>713</td>\n",
       "      <td>719</td>\n",
       "      <td>713</td>\n",
       "    </tr>\n",
       "    <tr>\n",
       "      <th>1</th>\n",
       "      <td>2019-08-02</td>\n",
       "      <td>19</td>\n",
       "      <td>91602</td>\n",
       "      <td>23</td>\n",
       "      <td>162043</td>\n",
       "      <td>42</td>\n",
       "      <td>234381</td>\n",
       "      <td>40</td>\n",
       "      <td>221801</td>\n",
       "      <td>619</td>\n",
       "      <td>581</td>\n",
       "      <td>1338</td>\n",
       "      <td>1294</td>\n",
       "    </tr>\n",
       "    <tr>\n",
       "      <th>2</th>\n",
       "      <td>2019-08-03</td>\n",
       "      <td>24</td>\n",
       "      <td>112473</td>\n",
       "      <td>14</td>\n",
       "      <td>67049</td>\n",
       "      <td>66</td>\n",
       "      <td>346854</td>\n",
       "      <td>54</td>\n",
       "      <td>288850</td>\n",
       "      <td>507</td>\n",
       "      <td>509</td>\n",
       "      <td>1845</td>\n",
       "      <td>1803</td>\n",
       "    </tr>\n",
       "    <tr>\n",
       "      <th>3</th>\n",
       "      <td>2019-08-04</td>\n",
       "      <td>11</td>\n",
       "      <td>41176</td>\n",
       "      <td>14</td>\n",
       "      <td>96890</td>\n",
       "      <td>77</td>\n",
       "      <td>388030</td>\n",
       "      <td>68</td>\n",
       "      <td>385740</td>\n",
       "      <td>717</td>\n",
       "      <td>770</td>\n",
       "      <td>2562</td>\n",
       "      <td>2573</td>\n",
       "    </tr>\n",
       "    <tr>\n",
       "      <th>4</th>\n",
       "      <td>2019-08-05</td>\n",
       "      <td>22</td>\n",
       "      <td>86383</td>\n",
       "      <td>21</td>\n",
       "      <td>89908</td>\n",
       "      <td>99</td>\n",
       "      <td>474413</td>\n",
       "      <td>89</td>\n",
       "      <td>475648</td>\n",
       "      <td>756</td>\n",
       "      <td>707</td>\n",
       "      <td>3318</td>\n",
       "      <td>3280</td>\n",
       "    </tr>\n",
       "  </tbody>\n",
       "</table>\n",
       "</div>"
      ],
      "text/plain": [
       "        date  orders_per_date_a  revenue_per_date_a  orders_per_date_b  \\\n",
       "0 2019-08-01                 23              142779                 17   \n",
       "1 2019-08-02                 19               91602                 23   \n",
       "2 2019-08-03                 24              112473                 14   \n",
       "3 2019-08-04                 11               41176                 14   \n",
       "4 2019-08-05                 22               86383                 21   \n",
       "\n",
       "   revenue_per_date_b  orders_cummulative_a  revenue_cummulative_a  \\\n",
       "0               59758                    23                 142779   \n",
       "1              162043                    42                 234381   \n",
       "2               67049                    66                 346854   \n",
       "3               96890                    77                 388030   \n",
       "4               89908                    99                 474413   \n",
       "\n",
       "   orders_cummulative_b  revenue_cummulative_b  visitors_per_date_a  \\\n",
       "0                    17                  59758                  719   \n",
       "1                    40                 221801                  619   \n",
       "2                    54                 288850                  507   \n",
       "3                    68                 385740                  717   \n",
       "4                    89                 475648                  756   \n",
       "\n",
       "   visitors_per_date_b  visitors_cummulative_a  visitors_cummulative_b  \n",
       "0                  713                     719                     713  \n",
       "1                  581                    1338                    1294  \n",
       "2                  509                    1845                    1803  \n",
       "3                  770                    2562                    2573  \n",
       "4                  707                    3318                    3280  "
      ]
     },
     "execution_count": 31,
     "metadata": {},
     "output_type": "execute_result"
    }
   ],
   "source": [
    "# отделяем данные о посещениях по группе A\n",
    "visitors_a_daily = visitors[visitors['group'] == 'A'][['date', 'visitors']]\n",
    "visitors_a_daily.columns = ['date', 'visitors_per_date_a']\n",
    "\n",
    "# кумулятивное число посещений по группе A\n",
    "visitors_a_cummulative = visitors_a_daily.apply(\n",
    "    lambda x: visitors_a_daily[visitors_a_daily['date'] <= x['date']].agg(\n",
    "        {'date': 'max', 'visitors_per_date_a': 'sum'}\n",
    "    ),\n",
    "    axis=1,\n",
    ")\n",
    "visitors_a_cummulative.columns = ['date', 'visitors_cummulative_a']\n",
    "\n",
    "# отделяем данные о посещениях по группе В\n",
    "visitors_b_daily = visitors[visitors['group'] == 'B'][['date', 'visitors']]\n",
    "visitors_b_daily.columns = ['date', 'visitors_per_date_b']\n",
    "\n",
    "# кумулятивное число посещений по группе В\n",
    "visitors_b_cummulative = visitors_b_daily.apply(\n",
    "    lambda x: visitors_b_daily[visitors_b_daily['date'] <= x['date']].agg(\n",
    "        {'date': 'max', 'visitors_per_date_b': 'sum'}\n",
    "    ),\n",
    "    axis=1,\n",
    ")\n",
    "visitors_b_cummulative.columns = ['date', 'visitors_cummulative_b']\n",
    "\n",
    "# отделяем данные о заказах по группе A, считаем число заказов и выручку по датам\n",
    "orders_a_daily = (\n",
    "    orders[orders['group'] == 'A'][['date', 'transaction_id', 'visitor_id', 'revenue']]\n",
    "    .groupby('date', as_index=False)\n",
    "    .agg({'transaction_id': pd.Series.nunique, 'revenue': 'sum'})\n",
    ")\n",
    "\n",
    "orders_a_daily.columns = ['date', 'orders_per_date_a', 'revenue_per_date_a']\n",
    "\n",
    "# кумулятивное число заказов и выручка по группе A\n",
    "orders_a_cummulative = orders_a_daily.apply(\n",
    "    lambda x: orders_a_daily[orders_a_daily['date'] <= x['date']].agg(\n",
    "        {'date': 'max', 'orders_per_date_a': 'sum', 'revenue_per_date_a': 'sum'}\n",
    "    ),\n",
    "    axis=1,\n",
    ").sort_values(by=['date'])\n",
    "\n",
    "orders_a_cummulative.columns = ['date','orders_cummulative_a','revenue_cummulative_a']\n",
    "\n",
    "# отделяем данные о заказах по группе В, считаем число заказов и выручку по датам\n",
    "orders_b_daily = (\n",
    "    orders[orders['group'] == 'B'][['date', 'transaction_id', 'visitor_id', 'revenue']]\n",
    "    .groupby('date', as_index=False)\n",
    "    .agg({'transaction_id': pd.Series.nunique, 'revenue': 'sum'})\n",
    ")\n",
    "orders_b_daily.columns = ['date', 'orders_per_date_b', 'revenue_per_date_b']\n",
    "\n",
    "# кумулятивное число заказов и выручка по группе В\n",
    "orders_b_cummulative = orders_b_daily.apply(\n",
    "    lambda x:orders_b_daily[orders_b_daily['date'] <= x['date']].agg(\n",
    "        {'date': 'max', 'orders_per_date_b': 'sum', 'revenue_per_date_b': 'sum'}\n",
    "    ),\n",
    "    axis=1,\n",
    ").sort_values(by=['date'])\n",
    "\n",
    "orders_b_cummulative.columns = ['date','orders_cummulative_b','revenue_cummulative_b']\n",
    "\n",
    "#соединям данные в одну таблицу\n",
    "data = (\n",
    "    orders_a_daily.merge(\n",
    "        orders_b_daily, left_on='date', right_on='date', how='left'\n",
    "    )\n",
    "    .merge(orders_a_cummulative, left_on='date', right_on='date', how='left')\n",
    "    .merge(orders_b_cummulative, left_on='date', right_on='date', how='left')\n",
    "    .merge(visitors_a_daily, left_on='date', right_on='date', how='left')\n",
    "    .merge(visitors_b_daily, left_on='date', right_on='date', how='left')\n",
    "    .merge(visitors_a_cummulative, left_on='date', right_on='date', how='left')\n",
    "    .merge(visitors_b_cummulative, left_on='date', right_on='date', how='left')\n",
    ")\n",
    "\n",
    "data.head(5)"
   ]
  },
  {
   "cell_type": "code",
   "execution_count": 32,
   "metadata": {},
   "outputs": [],
   "source": [
    "# число совершённых заказов пользователей группы А\n",
    "orders_by_users_a = (\n",
    "    orders[orders['group'] == 'A']\n",
    "    .groupby('visitor_id', as_index=False)\n",
    "    .agg({'transaction_id': pd.Series.nunique})\n",
    ")\n",
    "orders_by_users_a.columns = ['visitor_id', 'orders']\n",
    "\n",
    "# число совершённых заказов пользователей группы В\n",
    "orders_by_users_b = (\n",
    "    orders[orders['group'] == 'B']\n",
    "    .groupby('visitor_id', as_index=False)\n",
    "    .agg({'transaction_id': pd.Series.nunique})\n",
    ")\n",
    "orders_by_users_b.columns = ['visitor_id', 'orders'] "
   ]
  },
  {
   "cell_type": "code",
   "execution_count": 33,
   "metadata": {
    "scrolled": true
   },
   "outputs": [
    {
     "data": {
      "text/plain": [
       "'P_value:0.011'"
      ]
     },
     "metadata": {},
     "output_type": "display_data"
    },
    {
     "data": {
      "text/plain": [
       "'Oтносительный прирост среднего числа заказов группы B:0.160'"
      ]
     },
     "metadata": {},
     "output_type": "display_data"
    },
    {
     "data": {
      "text/plain": [
       "'Отвергаем нулевую гипотезу: между долями есть значимая разница'"
      ]
     },
     "metadata": {},
     "output_type": "display_data"
    }
   ],
   "source": [
    "# критический уровень статистической значимости\n",
    "alpha = 0.05\n",
    "\n",
    "# выборка, где каждый элемент — число заказов определённого пользователя, в том числе ноль для группы А\n",
    "sampleA = pd.concat(\n",
    "    [\n",
    "        orders_by_users_a['orders'],\n",
    "        pd.Series(\n",
    "            0,\n",
    "            index=np.arange(\n",
    "                data['visitors_per_date_a'].sum() - len(orders_by_users_a['orders'])\n",
    "            ),\n",
    "            name='orders',\n",
    "        ),\n",
    "    ],\n",
    "    axis=0,\n",
    ")\n",
    "\n",
    "# выборка, где каждый элемент — число заказов определённого пользователя, в том числе ноль для группы В\n",
    "sampleB = pd.concat(\n",
    "    [\n",
    "        orders_by_users_b['orders'],\n",
    "        pd.Series(\n",
    "            0,\n",
    "            index=np.arange(\n",
    "                data['visitors_per_date_b'].sum() - len(orders_by_users_b['orders'])\n",
    "            ),\n",
    "            name='orders',\n",
    "        ),\n",
    "    ],\n",
    "    axis=0,\n",
    ")\n",
    "\n",
    "#p_value проверка критерием Манна-Уитни\n",
    "display ('P_value:' \"{0:.3f}\".format(stats.mannwhitneyu(sampleA, sampleB)[1]))\n",
    "\n",
    "# относительный прирост среднего числа заказов группы B\n",
    "display ('Oтносительный прирост среднего числа заказов группы B:'\"{0:.3f}\".format(sampleB.mean() / sampleA.mean() - 1))\n",
    "\n",
    "if stats.mannwhitneyu(sampleA, sampleB)[1] < alpha:\n",
    "    display ('Отвергаем нулевую гипотезу: между долями есть значимая разница')\n",
    "else:\n",
    "    display('Не получилось отвергнуть нулевую гипотезу, нет оснований считать доли разными') "
   ]
  },
  {
   "cell_type": "markdown",
   "metadata": {},
   "source": [
    "По \"сырым\" данным отвергаем нулевую гипотезу. Различия в среднем количестве заказов между группами есть. Прирост заказов в группе Б составляет 16 %."
   ]
  },
  {
   "cell_type": "markdown",
   "metadata": {},
   "source": [
    "Посчитаем статистическую значимость различий в среднем чеке заказа между группами по «сырым» данным.\n",
    "\n",
    "Сформулируем гипотезы.\n",
    "\n",
    "Нулевая гипотеза: различий в среднем чеке между группами нет. Альтернативная гипотеза: различия в среднем чеке между группами есть."
   ]
  },
  {
   "cell_type": "code",
   "execution_count": 34,
   "metadata": {
    "scrolled": true
   },
   "outputs": [
    {
     "data": {
      "text/plain": [
       "'P_value:0.829'"
      ]
     },
     "metadata": {},
     "output_type": "display_data"
    },
    {
     "data": {
      "text/plain": [
       "'Oтносительный прирост среднего чека группы B:0.287'"
      ]
     },
     "metadata": {},
     "output_type": "display_data"
    },
    {
     "data": {
      "text/plain": [
       "'Не получилось отвергнуть нулевую гипотезу, нет оснований считать доли разными'"
      ]
     },
     "metadata": {},
     "output_type": "display_data"
    }
   ],
   "source": [
    "# статистическая значимость различий в среднем чеке, передадим критерию Манна-Уитни данные о выручке с заказов. \n",
    "pvalue = stats.mannwhitneyu(orders[orders['group']=='A']['revenue'], orders[orders['group']=='B']['revenue'])[1]\n",
    "display('P_value:''{0:.3f}'.format(pvalue))\n",
    "\n",
    "#относительные различия в среднем чеке между группами\n",
    "display('Oтносительный прирост среднего чека группы B:''{0:.3f}'.format(orders[orders['group']=='B']['revenue'].mean()/orders[orders['group']=='A']['revenue'].mean()-1)) \n",
    "      \n",
    "if pvalue < alpha:\n",
    "    display('Отвергаем нулевую гипотезу: между долями есть значимая разница')\n",
    "else:\n",
    "    display('Не получилось отвергнуть нулевую гипотезу, нет оснований считать доли разными')      "
   ]
  },
  {
   "cell_type": "markdown",
   "metadata": {},
   "source": [
    "По \"сырым\" данным не можем отвергуть нулевую гипотезу и считать, что в среднем чеке есть различия, p-value значительно больше 0.05. \n",
    "\n",
    "Значение относительного прироста среднего чека группы B 28,7% не является статистически значимым и возможно связано с аномальными выбросами и на очищенных данным разница будет не так велика."
   ]
  },
  {
   "cell_type": "markdown",
   "metadata": {},
   "source": [
    "**Вывод:**\n",
    "\n",
    "- по \"сырым\" данным  отвергаем  гипотезу, что нет различий в среднем количестве заказов между группами. Среднее количество заказов в группе Б выше.\n",
    "- по \"сырым\" данным не можем отвергнуть гипотезу что в среднем чеке есть различия между группами, хотя средний чек группы B значительно выше среднего чека группы A."
   ]
  },
  {
   "cell_type": "markdown",
   "metadata": {},
   "source": [
    "#### Cтатистическая значимость различий по \"очищенным\" данным."
   ]
  },
  {
   "cell_type": "markdown",
   "metadata": {},
   "source": [
    "Посчитаем сначала статистическую значимость различий в среднем количестве заказов на посетителя между группами по «очищенным» данным.\n",
    "\n",
    "Сформулируем гипотезы:\n",
    "\n",
    "Нулевая гипотеза: различий в среднем количестве заказов между группами нет. Альтернативная гипотеза: различия в среднем количестве заказов между группами есть"
   ]
  },
  {
   "cell_type": "markdown",
   "metadata": {},
   "source": [
    "Подготовим данные. Примемх за аномальных пользователей тех, кто совершил больше 3 заказов или совершил заказ дороже 50 000 рублей."
   ]
  },
  {
   "cell_type": "code",
   "execution_count": 35,
   "metadata": {},
   "outputs": [
    {
     "data": {
      "text/plain": [
       "1099    148427295\n",
       "33      249864742\n",
       "58      611059232\n",
       "1137    759473111\n",
       "949     887908475\n",
       "Name: visitor_id, dtype: int64"
      ]
     },
     "metadata": {},
     "output_type": "display_data"
    },
    {
     "data": {
      "text/plain": [
       "22"
      ]
     },
     "metadata": {},
     "output_type": "display_data"
    }
   ],
   "source": [
    "# выберем анамальных пользователй по числу заказов\n",
    "users_many_orders = pd.concat(\n",
    "    [\n",
    "         orders_by_users_a[orders_by_users_a['orders'] > 2]['visitor_id'],\n",
    "         orders_by_users_b[orders_by_users_b['orders'] > 2]['visitor_id'],\n",
    "    ],\n",
    "    axis=0,\n",
    ")\n",
    "\n",
    "# выберем анамальных пользователй по стоимости заказа\n",
    "users_expensive_orders = orders[orders['revenue'] > 50000]['visitor_id']\n",
    "abnormal_users = (\n",
    "    pd.concat([users_many_orders, users_expensive_orders], axis=0)\n",
    "    .drop_duplicates()\n",
    "    .sort_values()\n",
    ")\n",
    "\n",
    "# узнаем число пользователей.\n",
    "display(abnormal_users.head(5))\n",
    "display(abnormal_users.shape[0]) "
   ]
  },
  {
   "cell_type": "markdown",
   "metadata": {},
   "source": [
    "Всего 22 аномальных пользователей."
   ]
  },
  {
   "cell_type": "code",
   "execution_count": 36,
   "metadata": {},
   "outputs": [
    {
     "data": {
      "text/plain": [
       "'P_value:0.006'"
      ]
     },
     "metadata": {},
     "output_type": "display_data"
    },
    {
     "data": {
      "text/plain": [
       "'Oтносительный прирост среднего числа заказов группы B:0.198'"
      ]
     },
     "metadata": {},
     "output_type": "display_data"
    },
    {
     "data": {
      "text/plain": [
       "'Отвергаем нулевую гипотезу: между долями есть значимая разница'"
      ]
     },
     "metadata": {},
     "output_type": "display_data"
    }
   ],
   "source": [
    "# выборка количества заказов по пользователям по группе А без аномальных пользователей\n",
    "sample_a_filtered = pd.concat(\n",
    "    [\n",
    "         orders_by_users_a[\n",
    "            np.logical_not(orders_by_users_a['visitor_id'].isin(abnormal_users))\n",
    "        ]['orders'],\n",
    "        pd.Series(\n",
    "            0,\n",
    "            index=np.arange(\n",
    "                data['visitors_per_date_a'].sum() - len(orders_by_users_a['orders'])\n",
    "            ),\n",
    "            name='orders',\n",
    "        ),\n",
    "    ],\n",
    "    axis=0,\n",
    ")\n",
    "\n",
    "# выборка количества заказов по пользователям по группе В без аномальных пользователей\n",
    "sample_b_filtered = pd.concat(\n",
    "    [\n",
    "        orders_by_users_b[\n",
    "            np.logical_not(orders_by_users_b['visitor_id'].isin(abnormal_users))\n",
    "        ]['orders'],\n",
    "        pd.Series(\n",
    "            0,\n",
    "            index=np.arange(\n",
    "                data['visitors_per_date_b'].sum() - len(orders_by_users_b['orders'])\n",
    "            ),\n",
    "            name='orders',\n",
    "        ),\n",
    "    ],\n",
    "    axis=0,\n",
    ") \n",
    "\n",
    "# #p_value проверка критерием Манна-Уитни\n",
    "result_orders = stats.mannwhitneyu(sample_a_filtered, sample_b_filtered)[1]\n",
    "\n",
    "display('P_value:''{0:.3f}'.format(result_orders))\n",
    "\n",
    "# относительный прирост среднего числа заказов группы B\n",
    "display('Oтносительный прирост среднего числа заказов группы B:''{0:.3f}'.format(sample_b_filtered.mean()/sample_a_filtered.mean()-1)) \n",
    "\n",
    "if result_orders < alpha:\n",
    "    display('Отвергаем нулевую гипотезу: между долями есть значимая разница')\n",
    "else:\n",
    "    display('Не получилось отвергнуть нулевую гипотезу, нет оснований считать доли разными')   "
   ]
  },
  {
   "cell_type": "markdown",
   "metadata": {},
   "source": [
    "Также, как и по \"сырым\" данным, отвергаем нулевую гипотезу. Различия в среднем количестве заказов по \"очищенным\" данным между группами есть. Результат по очищенным данным более убедительно показывает разницу, p_value 0.006 меньше, чем по сырым данным 0.011. Прирост заказов в группе Б также выше по очищенным данным и составляет 19,8 %."
   ]
  },
  {
   "cell_type": "markdown",
   "metadata": {},
   "source": [
    "Посчитаем статистическую значимость различий в среднем чеке заказа между группами по «очищенным» данным.\n",
    "\n",
    "Сформулируем гипотезы.\n",
    "\n",
    "Нулевая гипотеза: различий в среднем чеке между группами нет. Альтернативная гипотеза: различия в среднем чеке между группами есть"
   ]
  },
  {
   "cell_type": "code",
   "execution_count": 37,
   "metadata": {},
   "outputs": [
    {
     "data": {
      "text/plain": [
       "'P_value:0.939'"
      ]
     },
     "metadata": {},
     "output_type": "display_data"
    },
    {
     "data": {
      "text/plain": [
       "'Oтносительный прирост среднего чека группы B:0.011'"
      ]
     },
     "metadata": {},
     "output_type": "display_data"
    },
    {
     "data": {
      "text/plain": [
       "'Не получилось отвергнуть нулевую гипотезу, нет оснований считать доли разными'"
      ]
     },
     "metadata": {},
     "output_type": "display_data"
    }
   ],
   "source": [
    "# статистическая значимость различий в среднем чеке, передадим критерию Манна-Уитни данные о выручке с заказов, исключив анамольных пользователей\n",
    "result_revenue = stats.mannwhitneyu(orders[np.logical_and(orders['group'] == 'A',\n",
    "                np.logical_not(orders['visitor_id'].isin(abnormal_users)),\n",
    "                )]['revenue'],\n",
    "                orders[np.logical_and(orders['group'] == 'B',\n",
    "                np.logical_not(orders['visitor_id'].isin(abnormal_users)),\n",
    "                )]['revenue'])[1]\n",
    "\n",
    "display('P_value:''{0:.3f}'.format(result_revenue))\n",
    "\n",
    "#относительные различия в среднем чеке между группами\n",
    "display('Oтносительный прирост среднего чека группы B:'\"{0:.3f}\".format(\n",
    "        orders[\n",
    "            np.logical_and(\n",
    "                orders['group'] == 'B',\n",
    "                np.logical_not(orders['visitor_id'].isin(abnormal_users)),\n",
    "            )\n",
    "        ]['revenue'].mean()\n",
    "        / orders[\n",
    "            np.logical_and(\n",
    "                orders['group'] == 'A',\n",
    "                np.logical_not(orders['visitor_id'].isin(abnormal_users)),\n",
    "            )\n",
    "        ]['revenue'].mean()\n",
    "        - 1\n",
    "    )\n",
    ") \n",
    "\n",
    "if result_revenue < alpha:\n",
    "    display('Отвергаем нулевую гипотезу: между долями есть значимая разница')\n",
    "else:\n",
    "    display('Не получилось отвергнуть нулевую гипотезу, нет оснований считать доли разными')   "
   ]
  },
  {
   "cell_type": "markdown",
   "metadata": {},
   "source": [
    "Не можем отвергнуть нулевую гипотезу о различии в средних чеках между группами по очищенным \"данным\".\n",
    "\n",
    "По очищенным данным данные теста выглядят более убедительно, p-value выше (0.819 против 0.729), а разница между чеками всего 1,1 %, если исключить аномальные заказы. Такая разницы не является статистически значимой, чтобы отвергнуть нулевую гипотезу."
   ]
  },
  {
   "cell_type": "markdown",
   "metadata": {},
   "source": [
    "**Вывод:**\n",
    "\n",
    "В результате проверки гипотез по \"сырым\" и \"очищенным\" данным были получены одинаковые результаты:\n",
    "\n",
    "- среднее количество заказов выше в группе В, на 19,8% по очищенным данным. Отвергаем гипотезу о равенстве среднего количества заказов в группах.\n",
    "- различий в среднем чеке между группами нет, не можем отвергнуть нулевую гипотезу о равенстве средних чеков. Если очистить данные о выбросах, разница между средними чеками состаляет 1,1 % и вероятность получить выше средний чек в группе В может быть просто случайностью. "
   ]
  },
  {
   "cell_type": "markdown",
   "metadata": {},
   "source": [
    "### Общий вывод.\n",
    "\n",
    "Была проведена приоритезация и проверка гипотез для увеличения выручки\n",
    "\n",
    "**Цель исследования:** приоритизировать гипотезы, проанализировать результаты А/B теста для увеличения выручки. \n",
    "\n",
    "**Имеющиеся данные:** 9 гипотез по увеличению выручки интернет-магазина, результаты А/B теста.\n",
    "\n",
    "**На этапе предобработке данных:**\n",
    "\n",
    "Данные проверены, дубликатов и пропусков нет. Типы данных приведены к нужному формату. Исправлены наименование столбцов.\n",
    "Возможны аномальные значения выручки, на которые нужно обратить внимания при дальнейшем анализе.\n",
    "\n",
    "В группах А и В обнаружено 58 пересекающихся пользователей, что составляет 5,62%. Несмотря на то, что это большое количество пользователей, их данные были удалены. Так как они работали с обоими версиями интернет-магазина в ходе одного исследования, неизвестно, какая именно повлияла на их решения. Значит, и результаты такого теста нельзя интерпретировать однозначно.\n",
    "\n",
    "\n",
    "**Приоритезация гипотез:**\n",
    "\n",
    "Были расчитаны:\n",
    "\n",
    "- ICE SCORE. По результатам приоритетны для проверки гипотезы 8, 0 и 7.\n",
    "- RICE SCORE. По результатам приоритетны для проверки гипотезы 7, 2 и 0.\n",
    "\n",
    "\n",
    "По результатам двух оценок, приоритетной для проверки можно посчитать гипотезу 7, она имеет высокие показатели силы изменений, степени уверенности в том, что гипотеза верна и высокую долю пользователей, которых изменения затронут. При этом сложность проверки гипотезы средняя. \n",
    "\n",
    "**Расчет кумулятивных метрик:**\n",
    "\n",
    "У группы В кумулятивная средняя выручка, средний чек и количество заказов выше, чем у группы А. При этом графики выручки и количества заказов стабилизировались. График среднего чека имеет колебанияю, вероятно связанные с аномально крупными заказами. Необходимо провести анализ выбросов и аномальных значений.\n",
    "\n",
    "**Анализ выбросов:**\n",
    "\n",
    "- 95 % всех клиентов имеют не больше 1 заказа и 99% клиентов заказывали не более 2-х раз. Определим количество заказов не более 2 для отсечения аномальных пользователей.\n",
    "\n",
    "- 95 % всех заказов не превышают стоимость в 26785 и 99% заказаов не более 53904. Определим стоимость одного заказа в 50 000 для отсечения аномальных заказов.  \n",
    "\n",
    "**Анализ А/В теста:**\n",
    "\n",
    "В результате проверки гипотез по \"сырым\" и \"очищенным\" данным были получены одинаковые результаты:\n",
    "\n",
    "- среднее количество заказов выше в группе В, на 19,8% по очищенным данным. Отвергаем гипотезу о равенстве среднего количества заказов в группах.\n",
    "- различий в среднем чеке между группами нет, не можем отвергнуть нулевую гипотезу о равенстве средних чеков. Если очистить данные о выбросах, разница между средними чеками состаляет 1,1 % и вероятность получить выше средний чек в группе В может быть просто случайностью.\n",
    "\n",
    "**Рекомендуется:** остановить тест, признать победу группы В. Графики показвают стабильность показателей по количеству пользователей и выручке. Несмотря на отсутствие разницы в среднем чеке, так как цель был рост выручки, это достигается за счет роста числа пользоватлей при сохранении уровня среднего чека. \n",
    "Рекомендуется проверить, как происходит деление трафика. В связи с удалением части данных, результаты могут быть искажены.\n",
    "\n"
   ]
  }
 ],
 "metadata": {
  "ExecuteTimeLog": [
   {
    "duration": 47,
    "start_time": "2024-03-19T15:01:32.174Z"
   },
   {
    "duration": 842,
    "start_time": "2024-03-19T15:01:34.605Z"
   },
   {
    "duration": 50,
    "start_time": "2024-03-19T15:01:37.482Z"
   },
   {
    "duration": 78,
    "start_time": "2024-03-19T15:01:42.423Z"
   },
   {
    "duration": 10,
    "start_time": "2024-03-19T15:04:45.887Z"
   },
   {
    "duration": 3,
    "start_time": "2024-03-19T15:17:10.700Z"
   },
   {
    "duration": 52,
    "start_time": "2024-03-19T15:17:10.726Z"
   },
   {
    "duration": 2,
    "start_time": "2024-03-19T15:17:10.780Z"
   },
   {
    "duration": 12,
    "start_time": "2024-03-19T15:17:10.784Z"
   },
   {
    "duration": 4,
    "start_time": "2024-03-19T15:17:25.454Z"
   },
   {
    "duration": 59,
    "start_time": "2024-03-19T15:17:25.459Z"
   },
   {
    "duration": 3,
    "start_time": "2024-03-19T15:17:25.520Z"
   },
   {
    "duration": 27,
    "start_time": "2024-03-19T15:17:25.525Z"
   },
   {
    "duration": 3,
    "start_time": "2024-03-19T15:18:20.886Z"
   },
   {
    "duration": 44,
    "start_time": "2024-03-19T15:18:20.890Z"
   },
   {
    "duration": 2,
    "start_time": "2024-03-19T15:18:20.936Z"
   },
   {
    "duration": 28,
    "start_time": "2024-03-19T15:18:20.940Z"
   },
   {
    "duration": 13,
    "start_time": "2024-03-19T15:21:27.850Z"
   },
   {
    "duration": 13,
    "start_time": "2024-03-19T15:24:55.401Z"
   },
   {
    "duration": 12,
    "start_time": "2024-03-19T15:28:08.310Z"
   },
   {
    "duration": 12,
    "start_time": "2024-03-19T15:28:21.765Z"
   },
   {
    "duration": 2,
    "start_time": "2024-03-19T15:29:19.881Z"
   },
   {
    "duration": 78,
    "start_time": "2024-03-19T15:30:59.897Z"
   },
   {
    "duration": 110,
    "start_time": "2024-03-19T15:32:01.142Z"
   },
   {
    "duration": 18,
    "start_time": "2024-03-19T15:34:14.336Z"
   },
   {
    "duration": 10,
    "start_time": "2024-03-19T15:43:18.896Z"
   },
   {
    "duration": 18,
    "start_time": "2024-03-19T15:44:09.953Z"
   },
   {
    "duration": 6,
    "start_time": "2024-03-19T15:45:15.311Z"
   },
   {
    "duration": 8,
    "start_time": "2024-03-19T15:45:33.146Z"
   },
   {
    "duration": 6,
    "start_time": "2024-03-19T15:46:25.953Z"
   },
   {
    "duration": 7,
    "start_time": "2024-03-19T15:47:14.597Z"
   },
   {
    "duration": 8,
    "start_time": "2024-03-19T15:49:10.358Z"
   },
   {
    "duration": 25,
    "start_time": "2024-03-19T15:51:36.079Z"
   },
   {
    "duration": 11,
    "start_time": "2024-03-19T15:53:14.351Z"
   },
   {
    "duration": 12,
    "start_time": "2024-03-19T15:54:27.520Z"
   },
   {
    "duration": 11,
    "start_time": "2024-03-19T15:54:44.926Z"
   },
   {
    "duration": 2,
    "start_time": "2024-03-19T15:56:34.079Z"
   },
   {
    "duration": 127,
    "start_time": "2024-03-19T16:08:18.698Z"
   },
   {
    "duration": 95,
    "start_time": "2024-03-19T16:08:40.006Z"
   },
   {
    "duration": 268,
    "start_time": "2024-03-19T16:09:16.393Z"
   },
   {
    "duration": 258,
    "start_time": "2024-03-19T16:11:12.194Z"
   },
   {
    "duration": 255,
    "start_time": "2024-03-19T16:11:39.575Z"
   },
   {
    "duration": 3,
    "start_time": "2024-03-19T16:16:14.847Z"
   },
   {
    "duration": 36,
    "start_time": "2024-03-19T16:16:14.852Z"
   },
   {
    "duration": 3,
    "start_time": "2024-03-19T16:16:14.890Z"
   },
   {
    "duration": 20,
    "start_time": "2024-03-19T16:16:14.894Z"
   },
   {
    "duration": 20,
    "start_time": "2024-03-19T16:16:14.915Z"
   },
   {
    "duration": 16,
    "start_time": "2024-03-19T16:16:14.937Z"
   },
   {
    "duration": 60,
    "start_time": "2024-03-19T16:16:14.955Z"
   },
   {
    "duration": 19,
    "start_time": "2024-03-19T16:16:15.016Z"
   },
   {
    "duration": 129,
    "start_time": "2024-03-19T16:16:15.037Z"
   },
   {
    "duration": 0,
    "start_time": "2024-03-19T16:16:15.168Z"
   },
   {
    "duration": 0,
    "start_time": "2024-03-19T16:16:15.169Z"
   },
   {
    "duration": 0,
    "start_time": "2024-03-19T16:16:15.170Z"
   },
   {
    "duration": 0,
    "start_time": "2024-03-19T16:16:15.171Z"
   },
   {
    "duration": 0,
    "start_time": "2024-03-19T16:16:15.172Z"
   },
   {
    "duration": 0,
    "start_time": "2024-03-19T16:16:15.173Z"
   },
   {
    "duration": 0,
    "start_time": "2024-03-19T16:16:15.174Z"
   },
   {
    "duration": 97,
    "start_time": "2024-03-19T16:17:28.044Z"
   },
   {
    "duration": 105,
    "start_time": "2024-03-19T16:18:18.517Z"
   },
   {
    "duration": 98,
    "start_time": "2024-03-19T16:18:29.399Z"
   },
   {
    "duration": 16,
    "start_time": "2024-03-19T16:19:11.894Z"
   },
   {
    "duration": 400,
    "start_time": "2024-03-19T16:19:35.947Z"
   },
   {
    "duration": 2,
    "start_time": "2024-03-19T16:20:03.216Z"
   },
   {
    "duration": 163,
    "start_time": "2024-03-19T16:20:03.220Z"
   },
   {
    "duration": 53,
    "start_time": "2024-03-19T16:20:03.384Z"
   },
   {
    "duration": 57,
    "start_time": "2024-03-19T16:20:03.439Z"
   },
   {
    "duration": 16,
    "start_time": "2024-03-19T16:20:03.498Z"
   },
   {
    "duration": 29,
    "start_time": "2024-03-19T16:20:03.515Z"
   },
   {
    "duration": 87,
    "start_time": "2024-03-19T16:20:03.545Z"
   },
   {
    "duration": 18,
    "start_time": "2024-03-19T16:20:03.634Z"
   },
   {
    "duration": 72,
    "start_time": "2024-03-19T16:20:03.653Z"
   },
   {
    "duration": 60,
    "start_time": "2024-03-19T16:20:03.727Z"
   },
   {
    "duration": 13,
    "start_time": "2024-03-19T16:20:03.789Z"
   },
   {
    "duration": 30,
    "start_time": "2024-03-19T16:20:03.803Z"
   },
   {
    "duration": 6,
    "start_time": "2024-03-19T16:20:03.834Z"
   },
   {
    "duration": 14,
    "start_time": "2024-03-19T16:20:03.843Z"
   },
   {
    "duration": 33,
    "start_time": "2024-03-19T16:20:03.859Z"
   },
   {
    "duration": 311,
    "start_time": "2024-03-19T16:20:03.894Z"
   },
   {
    "duration": 12,
    "start_time": "2024-03-19T16:22:12.215Z"
   },
   {
    "duration": 499,
    "start_time": "2024-03-19T16:23:32.850Z"
   },
   {
    "duration": 31,
    "start_time": "2024-03-19T16:23:33.351Z"
   },
   {
    "duration": 3,
    "start_time": "2024-03-19T16:23:33.384Z"
   },
   {
    "duration": 75,
    "start_time": "2024-03-19T16:23:33.388Z"
   },
   {
    "duration": 21,
    "start_time": "2024-03-19T16:23:33.465Z"
   },
   {
    "duration": 41,
    "start_time": "2024-03-19T16:23:33.488Z"
   },
   {
    "duration": 81,
    "start_time": "2024-03-19T16:23:33.531Z"
   },
   {
    "duration": 19,
    "start_time": "2024-03-19T16:23:33.613Z"
   },
   {
    "duration": 28,
    "start_time": "2024-03-19T16:23:33.633Z"
   },
   {
    "duration": 60,
    "start_time": "2024-03-19T16:23:33.663Z"
   },
   {
    "duration": 28,
    "start_time": "2024-03-19T16:23:33.725Z"
   },
   {
    "duration": 36,
    "start_time": "2024-03-19T16:23:33.755Z"
   },
   {
    "duration": 27,
    "start_time": "2024-03-19T16:23:33.793Z"
   },
   {
    "duration": 36,
    "start_time": "2024-03-19T16:23:33.822Z"
   },
   {
    "duration": 36,
    "start_time": "2024-03-19T16:23:33.859Z"
   },
   {
    "duration": 290,
    "start_time": "2024-03-19T16:23:33.897Z"
   },
   {
    "duration": 261,
    "start_time": "2024-03-19T16:23:34.189Z"
   },
   {
    "duration": 203,
    "start_time": "2024-03-19T16:24:07.305Z"
   },
   {
    "duration": 285,
    "start_time": "2024-03-19T16:24:59.290Z"
   },
   {
    "duration": 208,
    "start_time": "2024-03-19T16:25:12.734Z"
   },
   {
    "duration": 211,
    "start_time": "2024-03-19T16:26:25.345Z"
   },
   {
    "duration": 146,
    "start_time": "2024-03-19T16:28:58.931Z"
   },
   {
    "duration": 262,
    "start_time": "2024-03-19T16:30:08.541Z"
   },
   {
    "duration": 209,
    "start_time": "2024-03-19T16:30:31.111Z"
   },
   {
    "duration": 203,
    "start_time": "2024-03-19T16:30:54.935Z"
   },
   {
    "duration": 16,
    "start_time": "2024-03-19T16:35:04.414Z"
   },
   {
    "duration": 373,
    "start_time": "2024-03-19T16:35:21.485Z"
   },
   {
    "duration": 297,
    "start_time": "2024-03-19T16:35:30.947Z"
   },
   {
    "duration": 98,
    "start_time": "2024-03-19T16:40:39.948Z"
   },
   {
    "duration": 5,
    "start_time": "2024-03-19T16:40:49.436Z"
   },
   {
    "duration": 190,
    "start_time": "2024-03-19T16:41:06.505Z"
   },
   {
    "duration": 205,
    "start_time": "2024-03-19T16:41:30.423Z"
   },
   {
    "duration": 206,
    "start_time": "2024-03-19T16:41:38.965Z"
   },
   {
    "duration": 196,
    "start_time": "2024-03-19T16:44:13.516Z"
   },
   {
    "duration": 97,
    "start_time": "2024-03-19T16:45:25.631Z"
   },
   {
    "duration": 335,
    "start_time": "2024-03-19T16:45:41.276Z"
   },
   {
    "duration": 197,
    "start_time": "2024-03-19T16:47:20.177Z"
   },
   {
    "duration": 300,
    "start_time": "2024-03-19T16:47:46.735Z"
   },
   {
    "duration": 277,
    "start_time": "2024-03-19T16:48:20.859Z"
   },
   {
    "duration": 292,
    "start_time": "2024-03-19T16:48:59.805Z"
   },
   {
    "duration": 269,
    "start_time": "2024-03-19T16:49:53.825Z"
   },
   {
    "duration": 279,
    "start_time": "2024-03-19T16:50:54.017Z"
   },
   {
    "duration": 20,
    "start_time": "2024-03-19T18:00:30.018Z"
   },
   {
    "duration": 21,
    "start_time": "2024-03-19T18:01:05.528Z"
   },
   {
    "duration": 24,
    "start_time": "2024-03-19T18:01:35.350Z"
   },
   {
    "duration": 174,
    "start_time": "2024-03-19T18:02:08.830Z"
   },
   {
    "duration": 256,
    "start_time": "2024-03-19T18:02:37.679Z"
   },
   {
    "duration": 139,
    "start_time": "2024-03-19T18:03:40.153Z"
   },
   {
    "duration": 179,
    "start_time": "2024-03-19T18:04:29.186Z"
   },
   {
    "duration": 11,
    "start_time": "2024-03-19T18:10:13.145Z"
   },
   {
    "duration": 158,
    "start_time": "2024-03-19T18:10:42.565Z"
   },
   {
    "duration": 7,
    "start_time": "2024-03-19T18:12:26.788Z"
   },
   {
    "duration": 11,
    "start_time": "2024-03-19T18:12:57.051Z"
   },
   {
    "duration": 11,
    "start_time": "2024-03-19T18:13:04.348Z"
   },
   {
    "duration": 10,
    "start_time": "2024-03-19T18:13:12.040Z"
   },
   {
    "duration": 115,
    "start_time": "2024-03-19T18:16:48.253Z"
   },
   {
    "duration": 378,
    "start_time": "2024-03-19T18:17:42.693Z"
   },
   {
    "duration": 235,
    "start_time": "2024-03-19T18:18:20.678Z"
   },
   {
    "duration": 240,
    "start_time": "2024-03-19T18:18:41.640Z"
   },
   {
    "duration": 165,
    "start_time": "2024-03-19T18:19:35.277Z"
   },
   {
    "duration": 152,
    "start_time": "2024-03-19T18:20:17.290Z"
   },
   {
    "duration": 145,
    "start_time": "2024-03-19T18:20:32.839Z"
   },
   {
    "duration": 287,
    "start_time": "2024-03-19T18:20:50.709Z"
   },
   {
    "duration": 260,
    "start_time": "2024-03-19T18:24:10.459Z"
   },
   {
    "duration": 235,
    "start_time": "2024-03-19T18:25:46.980Z"
   },
   {
    "duration": 3,
    "start_time": "2024-03-19T18:27:02.712Z"
   },
   {
    "duration": 5,
    "start_time": "2024-03-19T18:27:09.095Z"
   },
   {
    "duration": 5,
    "start_time": "2024-03-19T18:27:20.589Z"
   },
   {
    "duration": 5,
    "start_time": "2024-03-19T18:28:23.996Z"
   },
   {
    "duration": 4,
    "start_time": "2024-03-19T18:31:23.303Z"
   },
   {
    "duration": 10,
    "start_time": "2024-03-19T18:31:26.104Z"
   },
   {
    "duration": 235,
    "start_time": "2024-03-19T18:32:14.261Z"
   },
   {
    "duration": 132,
    "start_time": "2024-03-19T18:33:05.990Z"
   },
   {
    "duration": 150,
    "start_time": "2024-03-19T18:33:17.739Z"
   },
   {
    "duration": 5,
    "start_time": "2024-03-19T18:33:55.097Z"
   },
   {
    "duration": 64,
    "start_time": "2024-03-19T21:29:22.469Z"
   },
   {
    "duration": 1251,
    "start_time": "2024-03-19T21:29:42.122Z"
   },
   {
    "duration": 81,
    "start_time": "2024-03-19T21:29:43.375Z"
   },
   {
    "duration": 3,
    "start_time": "2024-03-19T21:29:43.458Z"
   },
   {
    "duration": 16,
    "start_time": "2024-03-19T21:29:43.464Z"
   },
   {
    "duration": 19,
    "start_time": "2024-03-19T21:29:43.482Z"
   },
   {
    "duration": 17,
    "start_time": "2024-03-19T21:29:43.503Z"
   },
   {
    "duration": 137,
    "start_time": "2024-03-19T21:29:43.522Z"
   },
   {
    "duration": 19,
    "start_time": "2024-03-19T21:29:43.661Z"
   },
   {
    "duration": 16,
    "start_time": "2024-03-19T21:29:43.681Z"
   },
   {
    "duration": 27,
    "start_time": "2024-03-19T21:29:43.699Z"
   },
   {
    "duration": 8,
    "start_time": "2024-03-19T21:29:43.728Z"
   },
   {
    "duration": 13,
    "start_time": "2024-03-19T21:29:43.737Z"
   },
   {
    "duration": 26,
    "start_time": "2024-03-19T21:29:43.751Z"
   },
   {
    "duration": 7,
    "start_time": "2024-03-19T21:29:43.779Z"
   },
   {
    "duration": 8,
    "start_time": "2024-03-19T21:29:43.788Z"
   },
   {
    "duration": 315,
    "start_time": "2024-03-19T21:29:43.798Z"
   },
   {
    "duration": 326,
    "start_time": "2024-03-19T21:29:44.115Z"
   },
   {
    "duration": 267,
    "start_time": "2024-03-19T21:29:44.442Z"
   },
   {
    "duration": 378,
    "start_time": "2024-03-19T21:29:44.711Z"
   },
   {
    "duration": 217,
    "start_time": "2024-03-19T21:29:45.091Z"
   },
   {
    "duration": 291,
    "start_time": "2024-03-19T21:29:45.309Z"
   },
   {
    "duration": 10,
    "start_time": "2024-03-19T21:29:45.602Z"
   },
   {
    "duration": 163,
    "start_time": "2024-03-19T21:29:45.613Z"
   },
   {
    "duration": 5,
    "start_time": "2024-03-19T21:29:45.778Z"
   },
   {
    "duration": 15,
    "start_time": "2024-03-19T21:29:45.784Z"
   },
   {
    "duration": 178,
    "start_time": "2024-03-19T21:29:45.800Z"
   },
   {
    "duration": 4,
    "start_time": "2024-03-19T21:29:45.980Z"
   },
   {
    "duration": 187,
    "start_time": "2024-03-19T21:29:45.987Z"
   },
   {
    "duration": 208,
    "start_time": "2024-03-19T21:30:44.127Z"
   },
   {
    "duration": 229,
    "start_time": "2024-03-19T21:31:11.005Z"
   },
   {
    "duration": 155,
    "start_time": "2024-03-19T21:35:28.006Z"
   },
   {
    "duration": 30,
    "start_time": "2024-03-19T21:38:38.360Z"
   },
   {
    "duration": 114,
    "start_time": "2024-03-19T21:43:42.178Z"
   },
   {
    "duration": 49,
    "start_time": "2024-03-19T21:44:00.383Z"
   },
   {
    "duration": 103,
    "start_time": "2024-03-19T21:47:55.746Z"
   },
   {
    "duration": 14,
    "start_time": "2024-03-19T21:49:58.796Z"
   },
   {
    "duration": 50,
    "start_time": "2024-03-19T21:50:05.306Z"
   },
   {
    "duration": 111,
    "start_time": "2024-03-19T21:50:26.930Z"
   },
   {
    "duration": 50,
    "start_time": "2024-03-19T21:50:37.567Z"
   },
   {
    "duration": 11,
    "start_time": "2024-03-19T22:00:28.814Z"
   },
   {
    "duration": 10,
    "start_time": "2024-03-19T22:01:43.996Z"
   },
   {
    "duration": 11,
    "start_time": "2024-03-19T22:03:23.604Z"
   },
   {
    "duration": 1599,
    "start_time": "2024-03-19T22:09:27.798Z"
   },
   {
    "duration": 15,
    "start_time": "2024-03-19T22:09:52.258Z"
   },
   {
    "duration": 38,
    "start_time": "2024-03-19T22:11:41.484Z"
   },
   {
    "duration": 33,
    "start_time": "2024-03-19T22:12:11.415Z"
   },
   {
    "duration": 21,
    "start_time": "2024-03-19T22:19:21.404Z"
   },
   {
    "duration": 48,
    "start_time": "2024-03-22T09:33:48.067Z"
   },
   {
    "duration": 1323,
    "start_time": "2024-03-22T09:33:54.584Z"
   },
   {
    "duration": 82,
    "start_time": "2024-03-22T09:33:55.909Z"
   },
   {
    "duration": 3,
    "start_time": "2024-03-22T09:33:55.993Z"
   },
   {
    "duration": 20,
    "start_time": "2024-03-22T09:33:55.998Z"
   },
   {
    "duration": 32,
    "start_time": "2024-03-22T09:33:56.021Z"
   },
   {
    "duration": 17,
    "start_time": "2024-03-22T09:33:56.055Z"
   },
   {
    "duration": 142,
    "start_time": "2024-03-22T09:33:56.074Z"
   },
   {
    "duration": 21,
    "start_time": "2024-03-22T09:33:56.218Z"
   },
   {
    "duration": 15,
    "start_time": "2024-03-22T09:33:56.241Z"
   },
   {
    "duration": 53,
    "start_time": "2024-03-22T09:33:56.258Z"
   },
   {
    "duration": 9,
    "start_time": "2024-03-22T09:33:56.313Z"
   },
   {
    "duration": 14,
    "start_time": "2024-03-22T09:33:56.323Z"
   },
   {
    "duration": 26,
    "start_time": "2024-03-22T09:33:56.338Z"
   },
   {
    "duration": 28,
    "start_time": "2024-03-22T09:33:56.366Z"
   },
   {
    "duration": 55,
    "start_time": "2024-03-22T09:33:56.396Z"
   },
   {
    "duration": 281,
    "start_time": "2024-03-22T09:33:56.453Z"
   },
   {
    "duration": 311,
    "start_time": "2024-03-22T09:33:56.735Z"
   },
   {
    "duration": 277,
    "start_time": "2024-03-22T09:33:57.048Z"
   },
   {
    "duration": 600,
    "start_time": "2024-03-22T09:33:57.327Z"
   },
   {
    "duration": 459,
    "start_time": "2024-03-22T09:33:57.929Z"
   },
   {
    "duration": 494,
    "start_time": "2024-03-22T09:33:58.389Z"
   },
   {
    "duration": 11,
    "start_time": "2024-03-22T09:33:58.885Z"
   },
   {
    "duration": 201,
    "start_time": "2024-03-22T09:33:58.897Z"
   },
   {
    "duration": 4,
    "start_time": "2024-03-22T09:33:59.100Z"
   },
   {
    "duration": 49,
    "start_time": "2024-03-22T09:33:59.106Z"
   },
   {
    "duration": 160,
    "start_time": "2024-03-22T09:33:59.156Z"
   },
   {
    "duration": 4,
    "start_time": "2024-03-22T09:33:59.317Z"
   },
   {
    "duration": 216,
    "start_time": "2024-03-22T09:33:59.323Z"
   },
   {
    "duration": 166,
    "start_time": "2024-03-22T09:33:59.541Z"
   },
   {
    "duration": 50,
    "start_time": "2024-03-22T09:33:59.709Z"
   },
   {
    "duration": 31,
    "start_time": "2024-03-22T09:33:59.761Z"
   },
   {
    "duration": 11,
    "start_time": "2024-03-22T09:33:59.794Z"
   },
   {
    "duration": 106,
    "start_time": "2024-03-22T09:33:59.806Z"
   },
   {
    "duration": 0,
    "start_time": "2024-03-22T09:33:59.913Z"
   },
   {
    "duration": 445,
    "start_time": "2024-03-22T10:12:52.371Z"
   },
   {
    "duration": 231,
    "start_time": "2024-03-22T10:32:40.933Z"
   },
   {
    "duration": 97,
    "start_time": "2024-03-22T10:43:14.329Z"
   },
   {
    "duration": 6,
    "start_time": "2024-03-22T11:05:13.249Z"
   },
   {
    "duration": 10,
    "start_time": "2024-03-22T11:12:03.442Z"
   },
   {
    "duration": 11,
    "start_time": "2024-03-22T11:54:21.308Z"
   },
   {
    "duration": 35,
    "start_time": "2024-03-22T11:56:54.551Z"
   },
   {
    "duration": 33,
    "start_time": "2024-03-22T11:57:25.449Z"
   },
   {
    "duration": 16,
    "start_time": "2024-03-22T12:01:40.099Z"
   },
   {
    "duration": 4,
    "start_time": "2024-03-22T12:30:10.747Z"
   },
   {
    "duration": 66,
    "start_time": "2024-03-22T12:30:10.753Z"
   },
   {
    "duration": 4,
    "start_time": "2024-03-22T12:30:10.821Z"
   },
   {
    "duration": 16,
    "start_time": "2024-03-22T12:30:10.826Z"
   },
   {
    "duration": 16,
    "start_time": "2024-03-22T12:30:10.844Z"
   },
   {
    "duration": 27,
    "start_time": "2024-03-22T12:30:10.862Z"
   },
   {
    "duration": 142,
    "start_time": "2024-03-22T12:30:10.891Z"
   },
   {
    "duration": 19,
    "start_time": "2024-03-22T12:30:11.034Z"
   },
   {
    "duration": 15,
    "start_time": "2024-03-22T12:30:11.055Z"
   },
   {
    "duration": 41,
    "start_time": "2024-03-22T12:30:11.071Z"
   },
   {
    "duration": 8,
    "start_time": "2024-03-22T12:30:11.114Z"
   },
   {
    "duration": 13,
    "start_time": "2024-03-22T12:30:11.125Z"
   },
   {
    "duration": 8,
    "start_time": "2024-03-22T12:30:11.140Z"
   },
   {
    "duration": 35,
    "start_time": "2024-03-22T12:30:11.149Z"
   },
   {
    "duration": 36,
    "start_time": "2024-03-22T12:30:11.186Z"
   },
   {
    "duration": 270,
    "start_time": "2024-03-22T12:30:11.224Z"
   },
   {
    "duration": 243,
    "start_time": "2024-03-22T12:30:11.496Z"
   },
   {
    "duration": 212,
    "start_time": "2024-03-22T12:30:11.741Z"
   },
   {
    "duration": 377,
    "start_time": "2024-03-22T12:30:11.954Z"
   },
   {
    "duration": 213,
    "start_time": "2024-03-22T12:30:12.332Z"
   },
   {
    "duration": 126,
    "start_time": "2024-03-22T12:30:12.547Z"
   },
   {
    "duration": 0,
    "start_time": "2024-03-22T12:30:12.674Z"
   },
   {
    "duration": 0,
    "start_time": "2024-03-22T12:30:12.676Z"
   },
   {
    "duration": 0,
    "start_time": "2024-03-22T12:30:12.677Z"
   },
   {
    "duration": 0,
    "start_time": "2024-03-22T12:30:12.678Z"
   },
   {
    "duration": 0,
    "start_time": "2024-03-22T12:30:12.680Z"
   },
   {
    "duration": 0,
    "start_time": "2024-03-22T12:30:12.682Z"
   },
   {
    "duration": 0,
    "start_time": "2024-03-22T12:30:12.683Z"
   },
   {
    "duration": 0,
    "start_time": "2024-03-22T12:30:12.685Z"
   },
   {
    "duration": 0,
    "start_time": "2024-03-22T12:30:12.686Z"
   },
   {
    "duration": 0,
    "start_time": "2024-03-22T12:30:12.688Z"
   },
   {
    "duration": 0,
    "start_time": "2024-03-22T12:30:12.689Z"
   },
   {
    "duration": 0,
    "start_time": "2024-03-22T12:30:12.691Z"
   },
   {
    "duration": 0,
    "start_time": "2024-03-22T12:30:12.693Z"
   },
   {
    "duration": 106,
    "start_time": "2024-03-22T12:31:06.176Z"
   },
   {
    "duration": 104,
    "start_time": "2024-03-22T12:31:59.622Z"
   },
   {
    "duration": 277,
    "start_time": "2024-03-22T12:33:43.835Z"
   },
   {
    "duration": 3,
    "start_time": "2024-03-22T12:33:52.439Z"
   },
   {
    "duration": 42,
    "start_time": "2024-03-22T12:33:52.444Z"
   },
   {
    "duration": 4,
    "start_time": "2024-03-22T12:33:52.488Z"
   },
   {
    "duration": 11,
    "start_time": "2024-03-22T12:33:52.493Z"
   },
   {
    "duration": 10,
    "start_time": "2024-03-22T12:33:52.506Z"
   },
   {
    "duration": 15,
    "start_time": "2024-03-22T12:33:52.518Z"
   },
   {
    "duration": 61,
    "start_time": "2024-03-22T12:33:52.535Z"
   },
   {
    "duration": 18,
    "start_time": "2024-03-22T12:33:52.598Z"
   },
   {
    "duration": 14,
    "start_time": "2024-03-22T12:33:52.618Z"
   },
   {
    "duration": 27,
    "start_time": "2024-03-22T12:33:52.633Z"
   },
   {
    "duration": 26,
    "start_time": "2024-03-22T12:33:52.661Z"
   },
   {
    "duration": 13,
    "start_time": "2024-03-22T12:33:52.688Z"
   },
   {
    "duration": 6,
    "start_time": "2024-03-22T12:33:52.703Z"
   },
   {
    "duration": 6,
    "start_time": "2024-03-22T12:33:52.710Z"
   },
   {
    "duration": 11,
    "start_time": "2024-03-22T12:33:52.717Z"
   },
   {
    "duration": 302,
    "start_time": "2024-03-22T12:33:52.729Z"
   },
   {
    "duration": 222,
    "start_time": "2024-03-22T12:33:53.032Z"
   },
   {
    "duration": 209,
    "start_time": "2024-03-22T12:33:53.256Z"
   },
   {
    "duration": 421,
    "start_time": "2024-03-22T12:33:53.467Z"
   },
   {
    "duration": 428,
    "start_time": "2024-03-22T12:33:53.890Z"
   },
   {
    "duration": 682,
    "start_time": "2024-03-22T12:33:54.320Z"
   },
   {
    "duration": 10,
    "start_time": "2024-03-22T12:33:55.004Z"
   },
   {
    "duration": 306,
    "start_time": "2024-03-22T12:33:55.016Z"
   },
   {
    "duration": 5,
    "start_time": "2024-03-22T12:33:55.323Z"
   },
   {
    "duration": 11,
    "start_time": "2024-03-22T12:33:55.380Z"
   },
   {
    "duration": 228,
    "start_time": "2024-03-22T12:33:55.392Z"
   },
   {
    "duration": 4,
    "start_time": "2024-03-22T12:33:55.622Z"
   },
   {
    "duration": 223,
    "start_time": "2024-03-22T12:33:55.628Z"
   },
   {
    "duration": 139,
    "start_time": "2024-03-22T12:33:55.852Z"
   },
   {
    "duration": 54,
    "start_time": "2024-03-22T12:33:55.992Z"
   },
   {
    "duration": 35,
    "start_time": "2024-03-22T12:33:56.048Z"
   },
   {
    "duration": 13,
    "start_time": "2024-03-22T12:33:56.085Z"
   },
   {
    "duration": 36,
    "start_time": "2024-03-22T12:33:56.099Z"
   },
   {
    "duration": 47,
    "start_time": "2024-03-22T12:33:56.137Z"
   },
   {
    "duration": 3,
    "start_time": "2024-03-22T12:38:40.640Z"
   },
   {
    "duration": 48,
    "start_time": "2024-03-22T12:38:40.645Z"
   },
   {
    "duration": 4,
    "start_time": "2024-03-22T12:38:40.695Z"
   },
   {
    "duration": 25,
    "start_time": "2024-03-22T12:38:40.700Z"
   },
   {
    "duration": 23,
    "start_time": "2024-03-22T12:38:40.727Z"
   },
   {
    "duration": 21,
    "start_time": "2024-03-22T12:38:40.752Z"
   },
   {
    "duration": 67,
    "start_time": "2024-03-22T12:38:40.775Z"
   },
   {
    "duration": 18,
    "start_time": "2024-03-22T12:38:40.844Z"
   },
   {
    "duration": 21,
    "start_time": "2024-03-22T12:38:40.864Z"
   },
   {
    "duration": 35,
    "start_time": "2024-03-22T12:38:40.887Z"
   },
   {
    "duration": 10,
    "start_time": "2024-03-22T12:38:40.923Z"
   },
   {
    "duration": 14,
    "start_time": "2024-03-22T12:38:40.934Z"
   },
   {
    "duration": 5,
    "start_time": "2024-03-22T12:38:40.951Z"
   },
   {
    "duration": 29,
    "start_time": "2024-03-22T12:38:40.957Z"
   },
   {
    "duration": 8,
    "start_time": "2024-03-22T12:38:40.987Z"
   },
   {
    "duration": 289,
    "start_time": "2024-03-22T12:38:40.997Z"
   },
   {
    "duration": 220,
    "start_time": "2024-03-22T12:38:41.287Z"
   },
   {
    "duration": 223,
    "start_time": "2024-03-22T12:38:41.509Z"
   },
   {
    "duration": 308,
    "start_time": "2024-03-22T12:38:41.734Z"
   },
   {
    "duration": 204,
    "start_time": "2024-03-22T12:38:42.044Z"
   },
   {
    "duration": 338,
    "start_time": "2024-03-22T12:38:42.249Z"
   },
   {
    "duration": 11,
    "start_time": "2024-03-22T12:38:42.588Z"
   },
   {
    "duration": 155,
    "start_time": "2024-03-22T12:38:42.601Z"
   },
   {
    "duration": 4,
    "start_time": "2024-03-22T12:38:42.758Z"
   },
   {
    "duration": 23,
    "start_time": "2024-03-22T12:38:42.764Z"
   },
   {
    "duration": 165,
    "start_time": "2024-03-22T12:38:42.789Z"
   },
   {
    "duration": 5,
    "start_time": "2024-03-22T12:38:42.955Z"
   },
   {
    "duration": 294,
    "start_time": "2024-03-22T12:38:42.962Z"
   },
   {
    "duration": 132,
    "start_time": "2024-03-22T12:38:43.258Z"
   },
   {
    "duration": 49,
    "start_time": "2024-03-22T12:38:43.391Z"
   },
   {
    "duration": 13,
    "start_time": "2024-03-22T12:38:43.441Z"
   },
   {
    "duration": 34,
    "start_time": "2024-03-22T12:38:43.455Z"
   },
   {
    "duration": 34,
    "start_time": "2024-03-22T12:38:43.491Z"
   },
   {
    "duration": 16,
    "start_time": "2024-03-22T12:38:43.526Z"
   },
   {
    "duration": 1151,
    "start_time": "2024-03-22T12:59:54.278Z"
   },
   {
    "duration": 71,
    "start_time": "2024-03-22T12:59:55.430Z"
   },
   {
    "duration": 3,
    "start_time": "2024-03-22T12:59:55.503Z"
   },
   {
    "duration": 12,
    "start_time": "2024-03-22T12:59:55.509Z"
   },
   {
    "duration": 15,
    "start_time": "2024-03-22T12:59:55.523Z"
   },
   {
    "duration": 15,
    "start_time": "2024-03-22T12:59:55.539Z"
   },
   {
    "duration": 145,
    "start_time": "2024-03-22T12:59:55.556Z"
   },
   {
    "duration": 19,
    "start_time": "2024-03-22T12:59:55.703Z"
   },
   {
    "duration": 15,
    "start_time": "2024-03-22T12:59:55.723Z"
   },
   {
    "duration": 22,
    "start_time": "2024-03-22T12:59:55.740Z"
   },
   {
    "duration": 26,
    "start_time": "2024-03-22T12:59:55.764Z"
   },
   {
    "duration": 30,
    "start_time": "2024-03-22T12:59:55.791Z"
   },
   {
    "duration": 16,
    "start_time": "2024-03-22T12:59:55.823Z"
   },
   {
    "duration": 11,
    "start_time": "2024-03-22T12:59:55.841Z"
   },
   {
    "duration": 9,
    "start_time": "2024-03-22T12:59:55.854Z"
   },
   {
    "duration": 290,
    "start_time": "2024-03-22T12:59:55.865Z"
   },
   {
    "duration": 304,
    "start_time": "2024-03-22T12:59:56.157Z"
   },
   {
    "duration": 219,
    "start_time": "2024-03-22T12:59:56.463Z"
   },
   {
    "duration": 339,
    "start_time": "2024-03-22T12:59:56.684Z"
   },
   {
    "duration": 213,
    "start_time": "2024-03-22T12:59:57.025Z"
   },
   {
    "duration": 302,
    "start_time": "2024-03-22T12:59:57.239Z"
   },
   {
    "duration": 11,
    "start_time": "2024-03-22T12:59:57.542Z"
   },
   {
    "duration": 166,
    "start_time": "2024-03-22T12:59:57.555Z"
   },
   {
    "duration": 5,
    "start_time": "2024-03-22T12:59:57.723Z"
   },
   {
    "duration": 11,
    "start_time": "2024-03-22T12:59:57.729Z"
   },
   {
    "duration": 216,
    "start_time": "2024-03-22T12:59:57.741Z"
   },
   {
    "duration": 5,
    "start_time": "2024-03-22T12:59:57.958Z"
   },
   {
    "duration": 240,
    "start_time": "2024-03-22T12:59:57.966Z"
   },
   {
    "duration": 158,
    "start_time": "2024-03-22T12:59:58.207Z"
   },
   {
    "duration": 74,
    "start_time": "2024-03-22T12:59:58.367Z"
   },
   {
    "duration": 15,
    "start_time": "2024-03-22T12:59:58.442Z"
   },
   {
    "duration": 11,
    "start_time": "2024-03-22T12:59:58.482Z"
   },
   {
    "duration": 33,
    "start_time": "2024-03-22T12:59:58.494Z"
   },
   {
    "duration": 17,
    "start_time": "2024-03-22T12:59:58.529Z"
   },
   {
    "duration": 50,
    "start_time": "2024-03-22T14:21:29.098Z"
   },
   {
    "duration": 1363,
    "start_time": "2024-03-22T14:21:34.358Z"
   },
   {
    "duration": 76,
    "start_time": "2024-03-22T14:21:35.724Z"
   },
   {
    "duration": 4,
    "start_time": "2024-03-22T14:21:35.802Z"
   },
   {
    "duration": 12,
    "start_time": "2024-03-22T14:21:35.809Z"
   },
   {
    "duration": 55,
    "start_time": "2024-03-22T14:21:35.823Z"
   },
   {
    "duration": 16,
    "start_time": "2024-03-22T14:21:35.880Z"
   },
   {
    "duration": 142,
    "start_time": "2024-03-22T14:21:35.898Z"
   },
   {
    "duration": 31,
    "start_time": "2024-03-22T14:21:36.042Z"
   },
   {
    "duration": 16,
    "start_time": "2024-03-22T14:21:36.075Z"
   },
   {
    "duration": 30,
    "start_time": "2024-03-22T14:21:36.092Z"
   },
   {
    "duration": 7,
    "start_time": "2024-03-22T14:21:36.124Z"
   },
   {
    "duration": 36,
    "start_time": "2024-03-22T14:21:36.133Z"
   },
   {
    "duration": 8,
    "start_time": "2024-03-22T14:21:36.171Z"
   },
   {
    "duration": 6,
    "start_time": "2024-03-22T14:21:36.181Z"
   },
   {
    "duration": 9,
    "start_time": "2024-03-22T14:21:36.189Z"
   },
   {
    "duration": 319,
    "start_time": "2024-03-22T14:21:36.200Z"
   },
   {
    "duration": 332,
    "start_time": "2024-03-22T14:21:36.521Z"
   },
   {
    "duration": 306,
    "start_time": "2024-03-22T14:21:36.858Z"
   },
   {
    "duration": 607,
    "start_time": "2024-03-22T14:21:37.175Z"
   },
   {
    "duration": 490,
    "start_time": "2024-03-22T14:21:37.784Z"
   },
   {
    "duration": 500,
    "start_time": "2024-03-22T14:21:38.276Z"
   },
   {
    "duration": 12,
    "start_time": "2024-03-22T14:21:38.777Z"
   },
   {
    "duration": 259,
    "start_time": "2024-03-22T14:21:38.790Z"
   },
   {
    "duration": 23,
    "start_time": "2024-03-22T14:21:39.050Z"
   },
   {
    "duration": 11,
    "start_time": "2024-03-22T14:21:39.075Z"
   },
   {
    "duration": 214,
    "start_time": "2024-03-22T14:21:39.087Z"
   },
   {
    "duration": 5,
    "start_time": "2024-03-22T14:21:39.302Z"
   },
   {
    "duration": 245,
    "start_time": "2024-03-22T14:21:39.308Z"
   },
   {
    "duration": 151,
    "start_time": "2024-03-22T14:21:39.555Z"
   },
   {
    "duration": 75,
    "start_time": "2024-03-22T14:21:39.708Z"
   },
   {
    "duration": 13,
    "start_time": "2024-03-22T14:21:39.785Z"
   },
   {
    "duration": 11,
    "start_time": "2024-03-22T14:21:39.799Z"
   },
   {
    "duration": 73,
    "start_time": "2024-03-22T14:21:39.812Z"
   },
   {
    "duration": 16,
    "start_time": "2024-03-22T14:21:39.887Z"
   },
   {
    "duration": 15,
    "start_time": "2024-03-22T14:21:57.347Z"
   },
   {
    "duration": 4,
    "start_time": "2024-03-22T14:22:41.409Z"
   },
   {
    "duration": 52,
    "start_time": "2024-03-22T14:22:41.415Z"
   },
   {
    "duration": 5,
    "start_time": "2024-03-22T14:22:41.469Z"
   },
   {
    "duration": 17,
    "start_time": "2024-03-22T14:22:41.476Z"
   },
   {
    "duration": 16,
    "start_time": "2024-03-22T14:22:41.495Z"
   },
   {
    "duration": 19,
    "start_time": "2024-03-22T14:22:41.512Z"
   },
   {
    "duration": 83,
    "start_time": "2024-03-22T14:22:41.533Z"
   },
   {
    "duration": 20,
    "start_time": "2024-03-22T14:22:41.618Z"
   },
   {
    "duration": 14,
    "start_time": "2024-03-22T14:22:41.639Z"
   },
   {
    "duration": 22,
    "start_time": "2024-03-22T14:22:41.655Z"
   },
   {
    "duration": 8,
    "start_time": "2024-03-22T14:22:41.679Z"
   },
   {
    "duration": 20,
    "start_time": "2024-03-22T14:22:41.689Z"
   },
   {
    "duration": 18,
    "start_time": "2024-03-22T14:22:41.712Z"
   },
   {
    "duration": 29,
    "start_time": "2024-03-22T14:22:41.731Z"
   },
   {
    "duration": 12,
    "start_time": "2024-03-22T14:22:41.761Z"
   },
   {
    "duration": 285,
    "start_time": "2024-03-22T14:22:41.775Z"
   },
   {
    "duration": 255,
    "start_time": "2024-03-22T14:22:42.061Z"
   },
   {
    "duration": 296,
    "start_time": "2024-03-22T14:22:42.317Z"
   },
   {
    "duration": 374,
    "start_time": "2024-03-22T14:22:42.614Z"
   },
   {
    "duration": 225,
    "start_time": "2024-03-22T14:22:42.990Z"
   },
   {
    "duration": 391,
    "start_time": "2024-03-22T14:22:43.217Z"
   },
   {
    "duration": 70,
    "start_time": "2024-03-22T14:22:43.609Z"
   },
   {
    "duration": 378,
    "start_time": "2024-03-22T14:22:43.681Z"
   },
   {
    "duration": 6,
    "start_time": "2024-03-22T14:22:44.060Z"
   },
   {
    "duration": 11,
    "start_time": "2024-03-22T14:22:44.068Z"
   },
   {
    "duration": 400,
    "start_time": "2024-03-22T14:22:44.081Z"
   },
   {
    "duration": 5,
    "start_time": "2024-03-22T14:22:44.482Z"
   },
   {
    "duration": 506,
    "start_time": "2024-03-22T14:22:44.488Z"
   },
   {
    "duration": 245,
    "start_time": "2024-03-22T14:22:44.996Z"
   },
   {
    "duration": 74,
    "start_time": "2024-03-22T14:22:45.242Z"
   },
   {
    "duration": 14,
    "start_time": "2024-03-22T14:22:45.317Z"
   },
   {
    "duration": 47,
    "start_time": "2024-03-22T14:22:45.333Z"
   },
   {
    "duration": 35,
    "start_time": "2024-03-22T14:22:45.382Z"
   },
   {
    "duration": 17,
    "start_time": "2024-03-22T14:22:45.419Z"
   },
   {
    "duration": 7,
    "start_time": "2024-03-22T14:31:55.871Z"
   },
   {
    "duration": 11,
    "start_time": "2024-03-22T14:32:04.837Z"
   },
   {
    "duration": 72,
    "start_time": "2024-03-22T14:33:30.351Z"
   },
   {
    "duration": 69,
    "start_time": "2024-03-22T14:37:52.103Z"
   },
   {
    "duration": 4,
    "start_time": "2024-03-22T14:38:24.210Z"
   },
   {
    "duration": 38,
    "start_time": "2024-03-22T14:38:24.215Z"
   },
   {
    "duration": 2,
    "start_time": "2024-03-22T14:38:24.255Z"
   },
   {
    "duration": 30,
    "start_time": "2024-03-22T14:38:24.259Z"
   },
   {
    "duration": 50,
    "start_time": "2024-03-22T14:38:24.290Z"
   },
   {
    "duration": 16,
    "start_time": "2024-03-22T14:38:24.341Z"
   },
   {
    "duration": 79,
    "start_time": "2024-03-22T14:38:24.359Z"
   },
   {
    "duration": 18,
    "start_time": "2024-03-22T14:38:24.439Z"
   },
   {
    "duration": 34,
    "start_time": "2024-03-22T14:38:24.458Z"
   },
   {
    "duration": 25,
    "start_time": "2024-03-22T14:38:24.495Z"
   },
   {
    "duration": 7,
    "start_time": "2024-03-22T14:38:24.521Z"
   },
   {
    "duration": 11,
    "start_time": "2024-03-22T14:38:24.529Z"
   },
   {
    "duration": 5,
    "start_time": "2024-03-22T14:38:24.541Z"
   },
   {
    "duration": 13,
    "start_time": "2024-03-22T14:38:24.548Z"
   },
   {
    "duration": 8,
    "start_time": "2024-03-22T14:38:24.562Z"
   },
   {
    "duration": 101,
    "start_time": "2024-03-22T14:38:24.571Z"
   },
   {
    "duration": 0,
    "start_time": "2024-03-22T14:38:24.674Z"
   },
   {
    "duration": 0,
    "start_time": "2024-03-22T14:38:24.676Z"
   },
   {
    "duration": 0,
    "start_time": "2024-03-22T14:38:24.677Z"
   },
   {
    "duration": 0,
    "start_time": "2024-03-22T14:38:24.678Z"
   },
   {
    "duration": 0,
    "start_time": "2024-03-22T14:38:24.679Z"
   },
   {
    "duration": 0,
    "start_time": "2024-03-22T14:38:24.680Z"
   },
   {
    "duration": 0,
    "start_time": "2024-03-22T14:38:24.681Z"
   },
   {
    "duration": 0,
    "start_time": "2024-03-22T14:38:24.682Z"
   },
   {
    "duration": 0,
    "start_time": "2024-03-22T14:38:24.683Z"
   },
   {
    "duration": 0,
    "start_time": "2024-03-22T14:38:24.684Z"
   },
   {
    "duration": 0,
    "start_time": "2024-03-22T14:38:24.684Z"
   },
   {
    "duration": 0,
    "start_time": "2024-03-22T14:38:24.685Z"
   },
   {
    "duration": 0,
    "start_time": "2024-03-22T14:38:24.686Z"
   },
   {
    "duration": 0,
    "start_time": "2024-03-22T14:38:24.687Z"
   },
   {
    "duration": 0,
    "start_time": "2024-03-22T14:38:24.689Z"
   },
   {
    "duration": 0,
    "start_time": "2024-03-22T14:38:24.690Z"
   },
   {
    "duration": 0,
    "start_time": "2024-03-22T14:38:24.691Z"
   },
   {
    "duration": 0,
    "start_time": "2024-03-22T14:38:24.692Z"
   },
   {
    "duration": 0,
    "start_time": "2024-03-22T14:38:24.693Z"
   },
   {
    "duration": 6,
    "start_time": "2024-03-22T14:40:01.438Z"
   },
   {
    "duration": 8,
    "start_time": "2024-03-22T14:41:00.817Z"
   },
   {
    "duration": 13,
    "start_time": "2024-03-22T14:41:10.063Z"
   },
   {
    "duration": 19,
    "start_time": "2024-03-22T14:41:55.779Z"
   },
   {
    "duration": 19,
    "start_time": "2024-03-22T14:42:41.757Z"
   },
   {
    "duration": 12,
    "start_time": "2024-03-22T14:43:06.144Z"
   },
   {
    "duration": 11,
    "start_time": "2024-03-22T14:44:20.136Z"
   },
   {
    "duration": 76,
    "start_time": "2024-03-22T14:44:36.379Z"
   },
   {
    "duration": 93,
    "start_time": "2024-03-22T14:44:53.128Z"
   },
   {
    "duration": 17,
    "start_time": "2024-03-22T14:45:12.850Z"
   },
   {
    "duration": 20,
    "start_time": "2024-03-22T14:47:05.455Z"
   },
   {
    "duration": 9,
    "start_time": "2024-03-22T14:47:47.250Z"
   },
   {
    "duration": 10,
    "start_time": "2024-03-22T14:47:56.657Z"
   },
   {
    "duration": 1207,
    "start_time": "2024-03-22T14:49:10.285Z"
   },
   {
    "duration": 8,
    "start_time": "2024-03-22T14:49:37.147Z"
   },
   {
    "duration": 9,
    "start_time": "2024-03-22T14:51:29.703Z"
   },
   {
    "duration": 5,
    "start_time": "2024-03-22T14:52:05.104Z"
   },
   {
    "duration": 11,
    "start_time": "2024-03-22T14:54:10.769Z"
   },
   {
    "duration": 3,
    "start_time": "2024-03-22T14:55:27.255Z"
   },
   {
    "duration": 47,
    "start_time": "2024-03-22T14:55:27.260Z"
   },
   {
    "duration": 3,
    "start_time": "2024-03-22T14:55:27.308Z"
   },
   {
    "duration": 22,
    "start_time": "2024-03-22T14:55:27.313Z"
   },
   {
    "duration": 12,
    "start_time": "2024-03-22T14:55:27.337Z"
   },
   {
    "duration": 17,
    "start_time": "2024-03-22T14:55:27.350Z"
   },
   {
    "duration": 63,
    "start_time": "2024-03-22T14:55:27.369Z"
   },
   {
    "duration": 18,
    "start_time": "2024-03-22T14:55:27.434Z"
   },
   {
    "duration": 43,
    "start_time": "2024-03-22T14:55:27.455Z"
   },
   {
    "duration": 19,
    "start_time": "2024-03-22T14:55:27.500Z"
   },
   {
    "duration": 7,
    "start_time": "2024-03-22T14:55:27.521Z"
   },
   {
    "duration": 13,
    "start_time": "2024-03-22T14:55:27.530Z"
   },
   {
    "duration": 6,
    "start_time": "2024-03-22T14:55:27.544Z"
   },
   {
    "duration": 9,
    "start_time": "2024-03-22T14:55:27.551Z"
   },
   {
    "duration": 8,
    "start_time": "2024-03-22T14:55:27.562Z"
   },
   {
    "duration": 11,
    "start_time": "2024-03-22T14:55:27.571Z"
   },
   {
    "duration": 12,
    "start_time": "2024-03-22T14:55:27.584Z"
   },
   {
    "duration": 298,
    "start_time": "2024-03-22T14:55:27.598Z"
   },
   {
    "duration": 223,
    "start_time": "2024-03-22T14:55:27.898Z"
   },
   {
    "duration": 222,
    "start_time": "2024-03-22T14:55:28.123Z"
   },
   {
    "duration": 349,
    "start_time": "2024-03-22T14:55:28.347Z"
   },
   {
    "duration": 209,
    "start_time": "2024-03-22T14:55:28.697Z"
   },
   {
    "duration": 377,
    "start_time": "2024-03-22T14:55:28.908Z"
   },
   {
    "duration": 12,
    "start_time": "2024-03-22T14:55:29.289Z"
   },
   {
    "duration": 176,
    "start_time": "2024-03-22T14:55:29.303Z"
   },
   {
    "duration": 5,
    "start_time": "2024-03-22T14:55:29.480Z"
   },
   {
    "duration": 73,
    "start_time": "2024-03-22T14:55:29.487Z"
   },
   {
    "duration": 327,
    "start_time": "2024-03-22T14:55:29.562Z"
   },
   {
    "duration": 4,
    "start_time": "2024-03-22T14:55:29.891Z"
   },
   {
    "duration": 472,
    "start_time": "2024-03-22T14:55:29.896Z"
   },
   {
    "duration": 296,
    "start_time": "2024-03-22T14:55:30.370Z"
   },
   {
    "duration": 105,
    "start_time": "2024-03-22T14:55:30.668Z"
   },
   {
    "duration": 35,
    "start_time": "2024-03-22T14:55:30.775Z"
   },
   {
    "duration": 124,
    "start_time": "2024-03-22T14:55:30.812Z"
   },
   {
    "duration": 88,
    "start_time": "2024-03-22T14:55:30.938Z"
   },
   {
    "duration": 24,
    "start_time": "2024-03-22T14:55:31.028Z"
   },
   {
    "duration": 10,
    "start_time": "2024-03-22T14:57:47.220Z"
   },
   {
    "duration": 14,
    "start_time": "2024-03-22T14:59:38.714Z"
   },
   {
    "duration": 15,
    "start_time": "2024-03-22T15:05:26.097Z"
   },
   {
    "duration": 29,
    "start_time": "2024-03-22T15:06:12.954Z"
   },
   {
    "duration": 20,
    "start_time": "2024-03-22T15:06:26.380Z"
   },
   {
    "duration": 18,
    "start_time": "2024-03-22T15:06:46.963Z"
   },
   {
    "duration": 19,
    "start_time": "2024-03-22T15:07:15.585Z"
   },
   {
    "duration": 16,
    "start_time": "2024-03-22T15:07:43.037Z"
   },
   {
    "duration": 16,
    "start_time": "2024-03-22T15:09:39.802Z"
   },
   {
    "duration": 30,
    "start_time": "2024-03-22T15:09:46.269Z"
   },
   {
    "duration": 18,
    "start_time": "2024-03-22T15:11:58.834Z"
   },
   {
    "duration": 20,
    "start_time": "2024-03-22T15:12:17.036Z"
   },
   {
    "duration": 16,
    "start_time": "2024-03-22T15:12:29.640Z"
   },
   {
    "duration": 18,
    "start_time": "2024-03-22T15:12:39.121Z"
   },
   {
    "duration": 25,
    "start_time": "2024-03-22T15:12:52.503Z"
   },
   {
    "duration": 15,
    "start_time": "2024-03-22T15:13:13.377Z"
   },
   {
    "duration": 16,
    "start_time": "2024-03-22T15:13:29.312Z"
   },
   {
    "duration": 17,
    "start_time": "2024-03-22T15:13:38.168Z"
   },
   {
    "duration": 14,
    "start_time": "2024-03-22T15:13:43.790Z"
   },
   {
    "duration": 20,
    "start_time": "2024-03-22T15:14:36.806Z"
   },
   {
    "duration": 21,
    "start_time": "2024-03-22T15:14:58.707Z"
   },
   {
    "duration": 14,
    "start_time": "2024-03-22T15:15:59.265Z"
   },
   {
    "duration": 17,
    "start_time": "2024-03-22T15:16:30.647Z"
   },
   {
    "duration": 19,
    "start_time": "2024-03-22T15:16:41.131Z"
   },
   {
    "duration": 96,
    "start_time": "2024-03-22T15:17:33.844Z"
   },
   {
    "duration": 18,
    "start_time": "2024-03-22T15:17:42.859Z"
   },
   {
    "duration": 4,
    "start_time": "2024-03-22T15:21:16.358Z"
   },
   {
    "duration": 10,
    "start_time": "2024-03-22T15:21:25.763Z"
   },
   {
    "duration": 10,
    "start_time": "2024-03-22T15:21:34.577Z"
   },
   {
    "duration": 13,
    "start_time": "2024-03-22T15:22:16.789Z"
   },
   {
    "duration": 38,
    "start_time": "2024-03-22T15:22:29.155Z"
   },
   {
    "duration": 65,
    "start_time": "2024-03-22T15:25:02.182Z"
   },
   {
    "duration": 42,
    "start_time": "2024-03-22T15:25:25.926Z"
   },
   {
    "duration": 8,
    "start_time": "2024-03-22T15:26:31.428Z"
   },
   {
    "duration": 15,
    "start_time": "2024-03-22T15:26:44.587Z"
   },
   {
    "duration": 3,
    "start_time": "2024-03-22T15:43:24.818Z"
   },
   {
    "duration": 100,
    "start_time": "2024-03-22T15:43:24.823Z"
   },
   {
    "duration": 3,
    "start_time": "2024-03-22T15:43:24.925Z"
   },
   {
    "duration": 17,
    "start_time": "2024-03-22T15:43:24.930Z"
   },
   {
    "duration": 29,
    "start_time": "2024-03-22T15:43:24.949Z"
   },
   {
    "duration": 19,
    "start_time": "2024-03-22T15:43:24.980Z"
   },
   {
    "duration": 208,
    "start_time": "2024-03-22T15:43:25.000Z"
   },
   {
    "duration": 18,
    "start_time": "2024-03-22T15:43:25.209Z"
   },
   {
    "duration": 39,
    "start_time": "2024-03-22T15:43:25.229Z"
   },
   {
    "duration": 40,
    "start_time": "2024-03-22T15:43:25.272Z"
   },
   {
    "duration": 14,
    "start_time": "2024-03-22T15:43:25.314Z"
   },
   {
    "duration": 21,
    "start_time": "2024-03-22T15:43:25.330Z"
   },
   {
    "duration": 6,
    "start_time": "2024-03-22T15:43:25.353Z"
   },
   {
    "duration": 21,
    "start_time": "2024-03-22T15:43:25.360Z"
   },
   {
    "duration": 27,
    "start_time": "2024-03-22T15:43:25.382Z"
   },
   {
    "duration": 8,
    "start_time": "2024-03-22T15:43:25.410Z"
   },
   {
    "duration": 31,
    "start_time": "2024-03-22T15:43:25.420Z"
   },
   {
    "duration": 19,
    "start_time": "2024-03-22T15:43:25.453Z"
   },
   {
    "duration": 280,
    "start_time": "2024-03-22T15:43:25.473Z"
   },
   {
    "duration": 229,
    "start_time": "2024-03-22T15:43:25.754Z"
   },
   {
    "duration": 237,
    "start_time": "2024-03-22T15:43:25.984Z"
   },
   {
    "duration": 354,
    "start_time": "2024-03-22T15:43:26.222Z"
   },
   {
    "duration": 223,
    "start_time": "2024-03-22T15:43:26.578Z"
   },
   {
    "duration": 319,
    "start_time": "2024-03-22T15:43:26.804Z"
   },
   {
    "duration": 11,
    "start_time": "2024-03-22T15:43:27.125Z"
   },
   {
    "duration": 187,
    "start_time": "2024-03-22T15:43:27.138Z"
   },
   {
    "duration": 6,
    "start_time": "2024-03-22T15:43:27.326Z"
   },
   {
    "duration": 34,
    "start_time": "2024-03-22T15:43:27.333Z"
   },
   {
    "duration": 186,
    "start_time": "2024-03-22T15:43:27.368Z"
   },
   {
    "duration": 7,
    "start_time": "2024-03-22T15:43:27.555Z"
   },
   {
    "duration": 524,
    "start_time": "2024-03-22T15:43:27.564Z"
   },
   {
    "duration": 294,
    "start_time": "2024-03-22T15:43:28.089Z"
   },
   {
    "duration": 110,
    "start_time": "2024-03-22T15:43:28.385Z"
   },
   {
    "duration": 12,
    "start_time": "2024-03-22T15:43:28.497Z"
   },
   {
    "duration": 65,
    "start_time": "2024-03-22T15:43:28.510Z"
   },
   {
    "duration": 118,
    "start_time": "2024-03-22T15:43:28.577Z"
   },
   {
    "duration": 74,
    "start_time": "2024-03-22T15:43:28.697Z"
   },
   {
    "duration": 86,
    "start_time": "2024-03-22T15:49:46.411Z"
   },
   {
    "duration": 64,
    "start_time": "2024-03-22T15:50:09.607Z"
   },
   {
    "duration": 56,
    "start_time": "2024-03-22T15:50:55.854Z"
   },
   {
    "duration": 14,
    "start_time": "2024-03-22T15:54:06.122Z"
   },
   {
    "duration": 11,
    "start_time": "2024-03-22T15:56:44.067Z"
   },
   {
    "duration": 42,
    "start_time": "2024-03-22T15:57:44.590Z"
   },
   {
    "duration": 18,
    "start_time": "2024-03-22T15:59:26.592Z"
   },
   {
    "duration": 4,
    "start_time": "2024-03-22T16:07:17.995Z"
   },
   {
    "duration": 75,
    "start_time": "2024-03-22T16:07:18.001Z"
   },
   {
    "duration": 3,
    "start_time": "2024-03-22T16:07:18.078Z"
   },
   {
    "duration": 32,
    "start_time": "2024-03-22T16:07:18.084Z"
   },
   {
    "duration": 18,
    "start_time": "2024-03-22T16:07:18.117Z"
   },
   {
    "duration": 15,
    "start_time": "2024-03-22T16:07:18.137Z"
   },
   {
    "duration": 59,
    "start_time": "2024-03-22T16:07:18.154Z"
   },
   {
    "duration": 21,
    "start_time": "2024-03-22T16:07:18.215Z"
   },
   {
    "duration": 14,
    "start_time": "2024-03-22T16:07:18.239Z"
   },
   {
    "duration": 26,
    "start_time": "2024-03-22T16:07:18.255Z"
   },
   {
    "duration": 8,
    "start_time": "2024-03-22T16:07:18.283Z"
   },
   {
    "duration": 11,
    "start_time": "2024-03-22T16:07:18.293Z"
   },
   {
    "duration": 6,
    "start_time": "2024-03-22T16:07:18.305Z"
   },
   {
    "duration": 21,
    "start_time": "2024-03-22T16:07:18.312Z"
   },
   {
    "duration": 17,
    "start_time": "2024-03-22T16:07:18.359Z"
   },
   {
    "duration": 5,
    "start_time": "2024-03-22T16:07:18.378Z"
   },
   {
    "duration": 37,
    "start_time": "2024-03-22T16:07:18.385Z"
   },
   {
    "duration": 10,
    "start_time": "2024-03-22T16:07:18.424Z"
   },
   {
    "duration": 333,
    "start_time": "2024-03-22T16:07:18.436Z"
   },
   {
    "duration": 219,
    "start_time": "2024-03-22T16:07:18.770Z"
   },
   {
    "duration": 243,
    "start_time": "2024-03-22T16:07:18.991Z"
   },
   {
    "duration": 330,
    "start_time": "2024-03-22T16:07:19.236Z"
   },
   {
    "duration": 228,
    "start_time": "2024-03-22T16:07:19.568Z"
   },
   {
    "duration": 295,
    "start_time": "2024-03-22T16:07:19.801Z"
   },
   {
    "duration": 12,
    "start_time": "2024-03-22T16:07:20.098Z"
   },
   {
    "duration": 189,
    "start_time": "2024-03-22T16:07:20.112Z"
   },
   {
    "duration": 5,
    "start_time": "2024-03-22T16:07:20.302Z"
   },
   {
    "duration": 74,
    "start_time": "2024-03-22T16:07:20.309Z"
   },
   {
    "duration": 169,
    "start_time": "2024-03-22T16:07:20.385Z"
   },
   {
    "duration": 5,
    "start_time": "2024-03-22T16:07:20.556Z"
   },
   {
    "duration": 229,
    "start_time": "2024-03-22T16:07:20.564Z"
   },
   {
    "duration": 141,
    "start_time": "2024-03-22T16:07:20.795Z"
   },
   {
    "duration": 72,
    "start_time": "2024-03-22T16:07:20.937Z"
   },
   {
    "duration": 14,
    "start_time": "2024-03-22T16:07:21.011Z"
   },
   {
    "duration": 68,
    "start_time": "2024-03-22T16:07:21.026Z"
   },
   {
    "duration": 51,
    "start_time": "2024-03-22T16:07:21.096Z"
   },
   {
    "duration": 22,
    "start_time": "2024-03-22T16:07:21.149Z"
   },
   {
    "duration": 1385,
    "start_time": "2024-03-23T11:43:09.220Z"
   },
   {
    "duration": 47,
    "start_time": "2024-03-23T11:43:10.607Z"
   },
   {
    "duration": 3,
    "start_time": "2024-03-23T11:43:10.656Z"
   },
   {
    "duration": 15,
    "start_time": "2024-03-23T11:43:10.663Z"
   },
   {
    "duration": 15,
    "start_time": "2024-03-23T11:43:10.680Z"
   },
   {
    "duration": 39,
    "start_time": "2024-03-23T11:43:10.697Z"
   },
   {
    "duration": 69,
    "start_time": "2024-03-23T11:43:10.739Z"
   },
   {
    "duration": 48,
    "start_time": "2024-03-23T11:43:10.811Z"
   },
   {
    "duration": 22,
    "start_time": "2024-03-23T11:43:10.860Z"
   },
   {
    "duration": 38,
    "start_time": "2024-03-23T11:43:10.885Z"
   },
   {
    "duration": 16,
    "start_time": "2024-03-23T11:43:10.936Z"
   },
   {
    "duration": 16,
    "start_time": "2024-03-23T11:43:10.954Z"
   },
   {
    "duration": 7,
    "start_time": "2024-03-23T11:43:10.972Z"
   },
   {
    "duration": 7,
    "start_time": "2024-03-23T11:43:10.981Z"
   },
   {
    "duration": 43,
    "start_time": "2024-03-23T11:43:10.990Z"
   },
   {
    "duration": 6,
    "start_time": "2024-03-23T11:43:11.035Z"
   },
   {
    "duration": 193,
    "start_time": "2024-03-23T11:43:11.044Z"
   },
   {
    "duration": 16,
    "start_time": "2024-03-23T11:43:11.246Z"
   },
   {
    "duration": 434,
    "start_time": "2024-03-23T11:43:11.264Z"
   },
   {
    "duration": 431,
    "start_time": "2024-03-23T11:43:11.701Z"
   },
   {
    "duration": 259,
    "start_time": "2024-03-23T11:43:12.135Z"
   },
   {
    "duration": 399,
    "start_time": "2024-03-23T11:43:12.396Z"
   },
   {
    "duration": 340,
    "start_time": "2024-03-23T11:43:12.798Z"
   },
   {
    "duration": 396,
    "start_time": "2024-03-23T11:43:13.141Z"
   },
   {
    "duration": 17,
    "start_time": "2024-03-23T11:43:13.545Z"
   },
   {
    "duration": 225,
    "start_time": "2024-03-23T11:43:13.564Z"
   },
   {
    "duration": 4,
    "start_time": "2024-03-23T11:43:13.791Z"
   },
   {
    "duration": 32,
    "start_time": "2024-03-23T11:43:13.799Z"
   },
   {
    "duration": 202,
    "start_time": "2024-03-23T11:43:13.847Z"
   },
   {
    "duration": 6,
    "start_time": "2024-03-23T11:43:14.052Z"
   },
   {
    "duration": 369,
    "start_time": "2024-03-23T11:43:14.064Z"
   },
   {
    "duration": 319,
    "start_time": "2024-03-23T11:43:14.435Z"
   },
   {
    "duration": 286,
    "start_time": "2024-03-23T11:43:14.757Z"
   },
   {
    "duration": 28,
    "start_time": "2024-03-23T11:43:15.057Z"
   },
   {
    "duration": 55,
    "start_time": "2024-03-23T11:43:15.087Z"
   },
   {
    "duration": 96,
    "start_time": "2024-03-23T11:43:15.151Z"
   },
   {
    "duration": 82,
    "start_time": "2024-03-23T11:43:15.249Z"
   }
  ],
  "kernelspec": {
   "display_name": "Python 3 (ipykernel)",
   "language": "python",
   "name": "python3"
  },
  "language_info": {
   "codemirror_mode": {
    "name": "ipython",
    "version": 3
   },
   "file_extension": ".py",
   "mimetype": "text/x-python",
   "name": "python",
   "nbconvert_exporter": "python",
   "pygments_lexer": "ipython3",
   "version": "3.9.5"
  },
  "toc": {
   "base_numbering": 1,
   "nav_menu": {},
   "number_sections": true,
   "sideBar": true,
   "skip_h1_title": true,
   "title_cell": "Table of Contents",
   "title_sidebar": "Contents",
   "toc_cell": false,
   "toc_position": {
    "height": "calc(100% - 180px)",
    "left": "10px",
    "top": "150px",
    "width": "510.903px"
   },
   "toc_section_display": true,
   "toc_window_display": true
  }
 },
 "nbformat": 4,
 "nbformat_minor": 2
}
